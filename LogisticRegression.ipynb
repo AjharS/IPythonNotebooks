{
 "cells": [
  {
   "cell_type": "code",
   "execution_count": 2,
   "metadata": {
    "collapsed": true
   },
   "outputs": [],
   "source": [
    "import matplotlib.pyplot as plt\n",
    "import tensorflow as tf\n",
    "import numpy as np\n",
    "import pandas as pd\n",
    "%matplotlib inline"
   ]
  },
  {
   "cell_type": "code",
   "execution_count": 37,
   "metadata": {
    "collapsed": false
   },
   "outputs": [],
   "source": [
    "traindata = pd.read_csv('./DataSampling/logistic_test.csv')\n",
    "train_X = np.transpose(np.array([traindata['X1'], traindata['X2']]))\n",
    "train_Y = np.transpose(np.array([traindata['Y']]))"
   ]
  },
  {
   "cell_type": "code",
   "execution_count": 62,
   "metadata": {
    "collapsed": false
   },
   "outputs": [],
   "source": [
    "X = tf.placeholder('float')\n",
    "Y = tf.placeholder('float')\n",
    "W = tf.Variable(np.random.randn(1, 2), name='weight')\n",
    "b = tf.Variable(np.random.randn(), name='bias')"
   ]
  },
  {
   "cell_type": "code",
   "execution_count": 63,
   "metadata": {
    "collapsed": false
   },
   "outputs": [
    {
     "ename": "TypeError",
     "evalue": "Input 'b' of 'MatMul' Op has type float64 that does not match type float32 of argument 'a'.",
     "output_type": "error",
     "traceback": [
      "\u001b[0;31m---------------------------------------------------------------------------\u001b[0m",
      "\u001b[0;31mTypeError\u001b[0m                                 Traceback (most recent call last)",
      "\u001b[0;32m<ipython-input-63-f4d8ea4fd456>\u001b[0m in \u001b[0;36m<module>\u001b[0;34m()\u001b[0m\n\u001b[0;32m----> 1\u001b[0;31m \u001b[0mactivation\u001b[0m \u001b[0;34m=\u001b[0m \u001b[0mtf\u001b[0m\u001b[0;34m.\u001b[0m\u001b[0msigmoid\u001b[0m\u001b[0;34m(\u001b[0m\u001b[0mtf\u001b[0m\u001b[0;34m.\u001b[0m\u001b[0madd\u001b[0m\u001b[0;34m(\u001b[0m\u001b[0mtf\u001b[0m\u001b[0;34m.\u001b[0m\u001b[0mmatmul\u001b[0m\u001b[0;34m(\u001b[0m\u001b[0mX\u001b[0m\u001b[0;34m,\u001b[0m \u001b[0mW\u001b[0m\u001b[0;34m)\u001b[0m\u001b[0;34m,\u001b[0m \u001b[0mb\u001b[0m\u001b[0;34m)\u001b[0m\u001b[0;34m)\u001b[0m\u001b[0;34m\u001b[0m\u001b[0m\n\u001b[0m",
      "\u001b[0;32m//anaconda/lib/python2.7/site-packages/tensorflow/python/ops/math_ops.pyc\u001b[0m in \u001b[0;36mmatmul\u001b[0;34m(a, b, transpose_a, transpose_b, adjoint_a, adjoint_b, a_is_sparse, b_is_sparse, name)\u001b[0m\n\u001b[1;32m   1799\u001b[0m     \u001b[0;32melse\u001b[0m\u001b[0;34m:\u001b[0m\u001b[0;34m\u001b[0m\u001b[0m\n\u001b[1;32m   1800\u001b[0m       return gen_math_ops._mat_mul(\n\u001b[0;32m-> 1801\u001b[0;31m           a, b, transpose_a=transpose_a, transpose_b=transpose_b, name=name)\n\u001b[0m\u001b[1;32m   1802\u001b[0m \u001b[0;34m\u001b[0m\u001b[0m\n\u001b[1;32m   1803\u001b[0m \u001b[0;34m\u001b[0m\u001b[0m\n",
      "\u001b[0;32m//anaconda/lib/python2.7/site-packages/tensorflow/python/ops/gen_math_ops.pyc\u001b[0m in \u001b[0;36m_mat_mul\u001b[0;34m(a, b, transpose_a, transpose_b, name)\u001b[0m\n\u001b[1;32m   1261\u001b[0m   \"\"\"\n\u001b[1;32m   1262\u001b[0m   result = _op_def_lib.apply_op(\"MatMul\", a=a, b=b, transpose_a=transpose_a,\n\u001b[0;32m-> 1263\u001b[0;31m                                 transpose_b=transpose_b, name=name)\n\u001b[0m\u001b[1;32m   1264\u001b[0m   \u001b[0;32mreturn\u001b[0m \u001b[0mresult\u001b[0m\u001b[0;34m\u001b[0m\u001b[0m\n\u001b[1;32m   1265\u001b[0m \u001b[0;34m\u001b[0m\u001b[0m\n",
      "\u001b[0;32m//anaconda/lib/python2.7/site-packages/tensorflow/python/framework/op_def_library.pyc\u001b[0m in \u001b[0;36mapply_op\u001b[0;34m(self, op_type_name, name, **keywords)\u001b[0m\n\u001b[1;32m    525\u001b[0m                   \u001b[0;34m\"%s type %s of argument '%s'.\"\u001b[0m \u001b[0;34m%\u001b[0m\u001b[0;34m\u001b[0m\u001b[0m\n\u001b[1;32m    526\u001b[0m                   (prefix, dtypes.as_dtype(attrs[input_arg.type_attr]).name,\n\u001b[0;32m--> 527\u001b[0;31m                    inferred_from[input_arg.type_attr]))\n\u001b[0m\u001b[1;32m    528\u001b[0m \u001b[0;34m\u001b[0m\u001b[0m\n\u001b[1;32m    529\u001b[0m           \u001b[0mtypes\u001b[0m \u001b[0;34m=\u001b[0m \u001b[0;34m[\u001b[0m\u001b[0mvalues\u001b[0m\u001b[0;34m.\u001b[0m\u001b[0mdtype\u001b[0m\u001b[0;34m]\u001b[0m\u001b[0;34m\u001b[0m\u001b[0m\n",
      "\u001b[0;31mTypeError\u001b[0m: Input 'b' of 'MatMul' Op has type float64 that does not match type float32 of argument 'a'."
     ]
    }
   ],
   "source": [
    "activation = tf.sigmoid(tf.add(tf.matmul(X, W), b))"
   ]
  },
  {
   "cell_type": "code",
   "execution_count": 51,
   "metadata": {
    "collapsed": false
   },
   "outputs": [],
   "source": [
    "cost = tf.reduce_sum(tf.pow(activation-Y, 2.))/(2*train_Y.shape[0])"
   ]
  },
  {
   "cell_type": "code",
   "execution_count": 52,
   "metadata": {
    "collapsed": false
   },
   "outputs": [],
   "source": [
    "optimizer = tf.train.GradientDescentOptimizer(0.01).minimize(cost)"
   ]
  },
  {
   "cell_type": "code",
   "execution_count": 53,
   "metadata": {
    "collapsed": true
   },
   "outputs": [],
   "source": [
    "init = tf.global_variables_initializer()"
   ]
  },
  {
   "cell_type": "code",
   "execution_count": 54,
   "metadata": {
    "collapsed": false
   },
   "outputs": [
    {
     "name": "stdout",
     "output_type": "stream",
     "text": [
      "('Epoch:', '0050', 'cost=', '0.528371751', 'W=', 1.9163361, 'b=', 0.11375758)\n",
      "('Epoch:', '0100', 'cost=', '0.527742147', 'W=', 1.8986278, 'b=', 0.11264034)\n",
      "('Epoch:', '0150', 'cost=', '0.527092338', 'W=', 1.8806372, 'b=', 0.1115435)\n",
      "('Epoch:', '0200', 'cost=', '0.526420832', 'W=', 1.8623483, 'b=', 0.11046825)\n",
      "('Epoch:', '0250', 'cost=', '0.525725842', 'W=', 1.8437322, 'b=', 0.10941672)\n",
      "('Epoch:', '0300', 'cost=', '0.525006711', 'W=', 1.8247973, 'b=', 0.10839039)\n",
      "('Epoch:', '0350', 'cost=', '0.524261236', 'W=', 1.8055142, 'b=', 0.10739122)\n",
      "('Epoch:', '0400', 'cost=', '0.523487866', 'W=', 1.7858746, 'b=', 0.10642155)\n",
      "('Epoch:', '0450', 'cost=', '0.522684693', 'W=', 1.765857, 'b=', 0.10548359)\n",
      "('Epoch:', '0500', 'cost=', '0.521849155', 'W=', 1.7454361, 'b=', 0.10457981)\n",
      "('Epoch:', '0550', 'cost=', '0.520979404', 'W=', 1.724601, 'b=', 0.10371328)\n",
      "('Epoch:', '0600', 'cost=', '0.520072162', 'W=', 1.7033169, 'b=', 0.10288697)\n",
      "('Epoch:', '0650', 'cost=', '0.519124508', 'W=', 1.6815634, 'b=', 0.10210429)\n",
      "('Epoch:', '0700', 'cost=', '0.518133223', 'W=', 1.6593099, 'b=', 0.10136867)\n",
      "('Epoch:', '0750', 'cost=', '0.517094493', 'W=', 1.6365333, 'b=', 0.10068409)\n",
      "('Epoch:', '0800', 'cost=', '0.516003549', 'W=', 1.6131845, 'b=', 0.10005479)\n",
      "('Epoch:', '0850', 'cost=', '0.514855862', 'W=', 1.5892357, 'b=', 0.099485889)\n",
      "('Epoch:', '0900', 'cost=', '0.513645411', 'W=', 1.5646392, 'b=', 0.098982699)\n",
      "('Epoch:', '0950', 'cost=', '0.512365937', 'W=', 1.5393485, 'b=', 0.098551147)\n",
      "('Epoch:', '1000', 'cost=', '0.511009812', 'W=', 1.5133127, 'b=', 0.098197989)\n",
      "Optimization Finished!\n",
      "('Training cost=', 0.51100981, 'W=', 1.5133127, 'b=', 0.098197989, '\\n')\n",
      "[[  8.04731727e-01   9.97605085e-01]\n",
      " [  1.81469530e-01   5.07554114e-01]\n",
      " [  6.89113222e-04   9.97645080e-01]\n",
      " [  3.92580405e-03   9.74131882e-01]\n",
      " [  9.99497414e-01   8.65654349e-01]\n",
      " [  8.53712335e-02   9.72404599e-01]\n",
      " [  9.82677758e-01   2.74544745e-03]\n",
      " [  2.03741398e-02   9.99327183e-01]\n",
      " [  9.42138493e-01   1.04193613e-02]\n",
      " [  7.91847229e-01   2.16333033e-03]\n",
      " [  3.73373747e-01   1.83407217e-01]\n",
      " [  6.23781145e-01   9.95895267e-01]\n",
      " [  4.11045253e-01   9.97954369e-01]\n",
      " [  5.79306623e-03   2.76877016e-01]\n",
      " [  9.98741090e-01   9.99500036e-01]\n",
      " [  8.49399984e-01   1.19074158e-01]\n",
      " [  3.32759410e-01   1.98060554e-03]\n",
      " [  6.14146143e-03   3.46742600e-01]\n",
      " [  3.19197811e-02   7.10378170e-01]\n",
      " [  5.89253008e-01   9.68018830e-01]\n",
      " [  9.60432231e-01   7.99078643e-01]\n",
      " [  1.15138537e-03   9.34265077e-01]\n",
      " [  1.87050384e-02   9.79835689e-02]\n",
      " [  1.71381258e-03   7.77072981e-02]\n",
      " [  6.62802309e-02   2.09664539e-01]\n",
      " [  9.43540990e-01   9.99283135e-01]\n",
      " [  9.92779076e-01   2.67583460e-01]\n",
      " [  7.88501740e-01   2.01350421e-01]\n",
      " [  5.20610332e-01   5.95353842e-01]\n",
      " [  9.90963280e-01   9.69266057e-01]\n",
      " [  9.54341441e-02   2.59669963e-03]\n",
      " [  1.26337841e-01   6.46219007e-04]\n",
      " [  4.98293161e-01   2.67457981e-02]\n",
      " [  8.19362462e-01   9.89623368e-01]\n",
      " [  9.90717351e-01   1.44451372e-02]\n",
      " [  8.70857835e-01   4.37710946e-03]\n",
      " [  2.10343581e-02   7.75776684e-01]\n",
      " [  9.92958784e-01   1.55348144e-03]\n",
      " [  2.04406586e-03   1.30957761e-03]\n",
      " [  1.20630010e-03   9.98979986e-01]\n",
      " [  2.10028570e-02   5.09988427e-01]\n",
      " [  5.88720106e-02   1.51525380e-03]\n",
      " [  2.23494507e-03   2.45143101e-03]\n",
      " [  9.99402046e-01   2.48493366e-02]\n",
      " [  9.98864174e-01   9.87212598e-01]\n",
      " [  1.54186860e-02   9.92297590e-01]\n",
      " [  9.98642743e-01   3.61481786e-01]\n",
      " [  4.31099296e-01   4.02183458e-02]\n",
      " [  2.90149520e-03   3.31915449e-03]\n",
      " [  4.32085693e-02   8.63798141e-01]]\n"
     ]
    }
   ],
   "source": [
    "display_step = 50\n",
    "with tf.Session() as sess:\n",
    "    sess.run(init)\n",
    "\n",
    "    # Fit all training data\n",
    "    for epoch in range(1000):\n",
    "        for (x, y) in zip(train_X, train_Y):\n",
    "            sess.run(optimizer, feed_dict={X: x, Y: y})\n",
    "\n",
    "        # Display logs per epoch step\n",
    "        if (epoch+1) % display_step == 0:\n",
    "            c = sess.run(cost, feed_dict={X: train_X, Y:train_Y})\n",
    "            print(\"Epoch:\", '%04d' % (epoch+1), \"cost=\", \"{:.9f}\".format(c), \\\n",
    "                \"W=\", sess.run(W), \"b=\", sess.run(b))\n",
    "\n",
    "    print(\"Optimization Finished!\")\n",
    "    training_cost = sess.run(cost, feed_dict={X: train_X, Y: train_Y})\n",
    "    print(\"Training cost=\", training_cost, \"W=\", sess.run(W), \"b=\", sess.run(b), '\\n')\n",
    "    \n",
    "    print sess.run(activation, feed_dict={X: train_X})"
   ]
  },
  {
   "cell_type": "code",
   "execution_count": 55,
   "metadata": {
    "collapsed": false
   },
   "outputs": [
    {
     "data": {
      "text/plain": [
       "array([[ 0.87089506,  3.92107779],\n",
       "       [-1.06033662, -0.04492077],\n",
       "       [-4.87514178,  3.93222695],\n",
       "       [-3.72325476,  2.33285206],\n",
       "       [ 4.95402848,  1.16623081],\n",
       "       [-1.63198718,  2.28896917],\n",
       "       [ 2.60361803, -3.96035779],\n",
       "       [-2.62411222,  4.76120042],\n",
       "       [ 1.77881394, -3.07392774],\n",
       "       [ 0.81800566, -4.11820929],\n",
       "       [-0.40703312, -1.05175194],\n",
       "       [ 0.26923086,  3.56390826],\n",
       "       [-0.30254426,  4.02546516],\n",
       "       [-3.46490283, -0.69926329],\n",
       "       [ 4.34677446,  4.9575657 ],\n",
       "       [ 1.07823401, -1.38730401],\n",
       "       [-0.52462976, -4.17664381],\n",
       "       [-3.42607977, -0.4834338 ],\n",
       "       [-2.31960465,  0.52799634],\n",
       "       [ 0.17357964,  2.18851455],\n",
       "       [ 2.04265107,  0.84737818],\n",
       "       [-4.53563574,  1.68896461],\n",
       "       [-2.68171801, -1.53175941],\n",
       "       [-4.27242652, -1.69965623],\n",
       "       [-1.81289866, -0.94173962],\n",
       "       [ 1.79601205,  4.71917962],\n",
       "       [ 3.18858161, -0.7302627 ],\n",
       "       [ 0.8046715 , -0.97539231],\n",
       "       [-0.01038111,  0.1902746 ],\n",
       "       [ 3.03914728,  2.21565204],\n",
       "       [-1.55104541, -3.99726491],\n",
       "       [-1.34270465, -4.9176378 ],\n",
       "       [-0.06940088, -2.4399886 ],\n",
       "       [ 0.93426544,  2.94689802],\n",
       "       [ 3.02124157, -2.8553551 ],\n",
       "       [ 1.19629425, -3.65104845],\n",
       "       [-2.60259319,  0.75531266],\n",
       "       [ 3.20535165, -4.33743823],\n",
       "       [-4.15576136, -4.45046056],\n",
       "       [-4.50481113,  4.48598631],\n",
       "       [-2.60360487, -0.03848444],\n",
       "       [-1.89644289, -4.35392743],\n",
       "       [-4.09664101, -4.03540317],\n",
       "       [ 4.83916419, -2.48987459],\n",
       "       [ 4.41484993,  2.80723878],\n",
       "       [-2.81160283,  3.14560891],\n",
       "       [ 4.29700171, -0.4408451 ],\n",
       "       [-0.24817441, -2.16120609],\n",
       "       [-3.92372408, -3.83457985],\n",
       "       [-2.11175412,  1.15574477]])"
      ]
     },
     "execution_count": 55,
     "metadata": {},
     "output_type": "execute_result"
    }
   ],
   "source": [
    "train_X"
   ]
  },
  {
   "cell_type": "code",
   "execution_count": 56,
   "metadata": {
    "collapsed": false
   },
   "outputs": [],
   "source": [
    "W_guess = np.array([2.1, 1.4])"
   ]
  },
  {
   "cell_type": "code",
   "execution_count": 58,
   "metadata": {
    "collapsed": false
   },
   "outputs": [
    {
     "data": {
      "text/plain": [
       "array([  7.31838853,  -2.28959598,  -4.73268001,  -4.5528421 ,\n",
       "        12.03618294,  -0.22261624,  -0.07690305,   1.15504493,\n",
       "        -0.56798957,  -4.04768113,  -2.32722226,   5.55485638,\n",
       "         5.00030827,  -8.25526454,  16.06881834,   0.32206581,\n",
       "        -6.94902383,  -7.87157484,  -4.13197489,   3.42843761,\n",
       "         5.47589671,  -7.16028459,  -7.77607099, -11.3516144 ,\n",
       "        -5.12552266,  10.37847678,   5.67365361,   0.32426092,\n",
       "         0.2445841 ,   9.48412214,  -8.85336622,  -9.70437269,\n",
       "        -3.56172589,   6.08761466,   2.34711015,  -2.59924989,\n",
       "        -4.40800798,   0.65882495, -14.95774364,  -3.17972253,\n",
       "        -5.52144843, -10.07802848, -14.25251056,   6.67642038,\n",
       "        13.20131915,  -1.50051347,   8.40652044,  -3.54685478,\n",
       "       -13.60823236,  -2.81664096])"
      ]
     },
     "execution_count": 58,
     "metadata": {},
     "output_type": "execute_result"
    }
   ],
   "source": [
    "np.dot(train_X, W_guess)"
   ]
  },
  {
   "cell_type": "code",
   "execution_count": 23,
   "metadata": {
    "collapsed": false
   },
   "outputs": [
    {
     "data": {
      "text/plain": [
       "array([ 5.74])"
      ]
     },
     "execution_count": 23,
     "metadata": {},
     "output_type": "execute_result"
    }
   ],
   "source": [
    "np.dot(np.array([[2., 1.1]]), W_guess)"
   ]
  },
  {
   "cell_type": "code",
   "execution_count": 36,
   "metadata": {
    "collapsed": false
   },
   "outputs": [
    {
     "data": {
      "text/plain": [
       "array([[0],\n",
       "       [0],\n",
       "       [0],\n",
       "       [0],\n",
       "       [0],\n",
       "       [1],\n",
       "       [1],\n",
       "       [0],\n",
       "       [1],\n",
       "       [1],\n",
       "       [1],\n",
       "       [0],\n",
       "       [0],\n",
       "       [0],\n",
       "       [0],\n",
       "       [1],\n",
       "       [1],\n",
       "       [0],\n",
       "       [0],\n",
       "       [0],\n",
       "       [0],\n",
       "       [0],\n",
       "       [0],\n",
       "       [0],\n",
       "       [0],\n",
       "       [0],\n",
       "       [1],\n",
       "       [1],\n",
       "       [0],\n",
       "       [1],\n",
       "       [1],\n",
       "       [1],\n",
       "       [1],\n",
       "       [0],\n",
       "       [1],\n",
       "       [1],\n",
       "       [0],\n",
       "       [1],\n",
       "       [1],\n",
       "       [0],\n",
       "       [1],\n",
       "       [1],\n",
       "       [1],\n",
       "       [1],\n",
       "       [1],\n",
       "       [1],\n",
       "       [1],\n",
       "       [1],\n",
       "       [1],\n",
       "       [1]])"
      ]
     },
     "execution_count": 36,
     "metadata": {},
     "output_type": "execute_result"
    }
   ],
   "source": [
    "np.transpose(np.array([train_Y]))"
   ]
  },
  {
   "cell_type": "code",
   "execution_count": 61,
   "metadata": {
    "collapsed": false
   },
   "outputs": [
    {
     "data": {
      "text/plain": [
       "array([[ 0.91365322,  0.52945239]])"
      ]
     },
     "execution_count": 61,
     "metadata": {},
     "output_type": "execute_result"
    }
   ],
   "source": [
    "np.random.rand(1,2)"
   ]
  },
  {
   "cell_type": "code",
   "execution_count": null,
   "metadata": {
    "collapsed": true
   },
   "outputs": [],
   "source": []
  }
 ],
 "metadata": {
  "anaconda-cloud": {},
  "kernelspec": {
   "display_name": "Python [Root]",
   "language": "python",
   "name": "Python [Root]"
  },
  "language_info": {
   "codemirror_mode": {
    "name": "ipython",
    "version": 2
   },
   "file_extension": ".py",
   "mimetype": "text/x-python",
   "name": "python",
   "nbconvert_exporter": "python",
   "pygments_lexer": "ipython2",
   "version": "2.7.12"
  }
 },
 "nbformat": 4,
 "nbformat_minor": 0
}
