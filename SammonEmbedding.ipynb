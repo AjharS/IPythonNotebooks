{
 "cells": [
  {
   "cell_type": "code",
   "execution_count": 1,
   "metadata": {
    "collapsed": false
   },
   "outputs": [],
   "source": [
    "import numpy as np\n",
    "import matplotlib.pyplot as plt\n",
    "import tensorflow as tf\n",
    "%matplotlib inline"
   ]
  },
  {
   "cell_type": "code",
   "execution_count": 2,
   "metadata": {
    "collapsed": true
   },
   "outputs": [],
   "source": [
    "tetrahedron_points = [np.array([0., 0., 0.]),\n",
    "                      np.array([1., 0., 0.]),\n",
    "                      np.array([np.cos(np.pi/3), np.sin(np.pi/3), 0.]),\n",
    "                      np.array([0.5, 0.5/np.sqrt(3), np.sqrt(2./3.)])]\n",
    "\n",
    "sampled_points = np.concatenate([np.random.multivariate_normal(point, np.eye(3)*0.0001, 10)\n",
    "                                 for point in tetrahedron_points])\n",
    "\n",
    "init_points = np.concatenate([np.random.multivariate_normal(point[:2], np.eye(2)*0.0001, 10)\n",
    "                              for point in tetrahedron_points])"
   ]
  },
  {
   "cell_type": "code",
   "execution_count": 3,
   "metadata": {
    "collapsed": true
   },
   "outputs": [],
   "source": [
    "N = sampled_points.shape[0]\n",
    "d = sampled_points.shape[1]"
   ]
  },
  {
   "cell_type": "code",
   "execution_count": 4,
   "metadata": {
    "collapsed": false
   },
   "outputs": [],
   "source": [
    "X = tf.placeholder('float')\n",
    "Xshape = tf.shape(X)\n",
    "\n",
    "sqX = tf.reduce_sum(X*X, 1)\n",
    "sqX = tf.reshape(sqX, [-1, 1])\n",
    "sqDX = sqX - 2*tf.matmul(X, tf.transpose(X)) + tf.transpose(sqX)\n",
    "DX = tf.sqrt(sqDX)\n",
    "\n",
    "Y = tf.Variable(init_points, dtype='float')\n",
    "sqY = tf.reduce_sum(Y*Y, 1)\n",
    "sqY = tf.reshape(sqY, [-1, 1])\n",
    "sqDY = sqY - 2*tf.matmul(Y, tf.transpose(Y)) + tf.transpose(sqY)\n",
    "DY = tf.sqrt(sqDY)"
   ]
  },
  {
   "cell_type": "code",
   "execution_count": 5,
   "metadata": {
    "collapsed": false
   },
   "outputs": [],
   "source": [
    "Z = tf.reduce_sum(DX)*0.5\n",
    "numerator = tf.reduce_sum(tf.divide(tf.square(DX-DY), DX))*0.5\n",
    "cost = numerator / Z"
   ]
  },
  {
   "cell_type": "code",
   "execution_count": 6,
   "metadata": {
    "collapsed": true
   },
   "outputs": [],
   "source": [
    "optimizer = tf.train.GradientDescentOptimizer(0.01).minimize(cost)\n",
    "init = tf.global_variables_initializer()"
   ]
  },
  {
   "cell_type": "code",
   "execution_count": 7,
   "metadata": {
    "collapsed": true
   },
   "outputs": [],
   "source": [
    "sess = tf.Session()"
   ]
  },
  {
   "cell_type": "code",
   "execution_count": 8,
   "metadata": {
    "collapsed": true
   },
   "outputs": [],
   "source": [
    "sess.run(init)"
   ]
  },
  {
   "cell_type": "code",
   "execution_count": 9,
   "metadata": {
    "collapsed": false
   },
   "outputs": [
    {
     "data": {
      "text/plain": [
       "array([[ 0.        ,  0.02275717,  0.03439943, ...,  1.01660335,\n",
       "         0.9880693 ,  0.97156316],\n",
       "       [ 0.02275717,  0.        ,  0.04874538, ...,  1.00481927,\n",
       "         0.9760226 ,  0.95973206],\n",
       "       [ 0.03439943,  0.04874538,  0.        , ...,  1.0505029 ,\n",
       "         1.02189052,  1.00528431],\n",
       "       ..., \n",
       "       [ 1.01660347,  1.00481927,  1.0505029 , ...,  0.        ,\n",
       "         0.03226907,  0.05557726],\n",
       "       [ 0.9880693 ,  0.97602254,  1.02189052, ...,  0.03226907,\n",
       "         0.        ,  0.03247713],\n",
       "       [ 0.97156316,  0.959732  ,  1.00528431, ...,  0.05557726,\n",
       "         0.03247713,  0.        ]], dtype=float32)"
      ]
     },
     "execution_count": 9,
     "metadata": {},
     "output_type": "execute_result"
    }
   ],
   "source": [
    "sess.run(DX, feed_dict={X: sampled_points})"
   ]
  },
  {
   "cell_type": "code",
   "execution_count": 10,
   "metadata": {
    "collapsed": false
   },
   "outputs": [
    {
     "data": {
      "text/plain": [
       "array([[ 0.        ,  0.01672095,  0.02511763, ...,  0.58615142,\n",
       "         0.57745242,  0.58862674],\n",
       "       [ 0.01672095,  0.        ,  0.0085183 , ...,  0.57866353,\n",
       "         0.57002497,  0.58147728],\n",
       "       [ 0.02511764,  0.0085183 ,  0.        , ...,  0.57666713,\n",
       "         0.56806493,  0.57966864],\n",
       "       ..., \n",
       "       [ 0.58615142,  0.57866353,  0.57666713, ...,  0.        ,\n",
       "         0.00897694,  0.01340552],\n",
       "       [ 0.57745242,  0.57002491,  0.56806493, ...,  0.00897694,\n",
       "         0.        ,  0.01557342],\n",
       "       [ 0.58862668,  0.58147728,  0.57966858, ...,  0.01340552,\n",
       "         0.01557342,  0.        ]], dtype=float32)"
      ]
     },
     "execution_count": 10,
     "metadata": {},
     "output_type": "execute_result"
    }
   ],
   "source": [
    "sess.run(DY, feed_dict={X: sampled_points})"
   ]
  },
  {
   "cell_type": "code",
   "execution_count": 11,
   "metadata": {
    "collapsed": false
   },
   "outputs": [],
   "source": [
    "calculated_Y = sess.run(Y, feed_dict={X: sampled_points})"
   ]
  },
  {
   "cell_type": "code",
   "execution_count": 12,
   "metadata": {
    "collapsed": false
   },
   "outputs": [],
   "source": [
    "sess.close()"
   ]
  },
  {
   "cell_type": "code",
   "execution_count": 13,
   "metadata": {
    "collapsed": false
   },
   "outputs": [
    {
     "data": {
      "text/plain": [
       "[<matplotlib.lines.Line2D at 0x120593490>]"
      ]
     },
     "execution_count": 13,
     "metadata": {},
     "output_type": "execute_result"
    },
    {
     "data": {
      "image/png": "[encoded data removed]",
      "text/plain": [
       "<matplotlib.figure.Figure at 0x12020f490>"
      ]
     },
     "metadata": {},
     "output_type": "display_data"
    }
   ],
   "source": [
    "embed1, embed2 = calculated_Y.transpose()\n",
    "plt.plot(embed1, embed2, 'ro')"
   ]
  },
  {
   "cell_type": "code",
   "execution_count": null,
   "metadata": {
    "collapsed": true
   },
   "outputs": [],
   "source": []
  }
 ],
 "metadata": {
  "anaconda-cloud": {},
  "kernelspec": {
   "display_name": "Python [Root]",
   "language": "python",
   "name": "Python [Root]"
  },
  "language_info": {
   "codemirror_mode": {
    "name": "ipython",
    "version": 2
   },
   "file_extension": ".py",
   "mimetype": "text/x-python",
   "name": "python",
   "nbconvert_exporter": "python",
   "pygments_lexer": "ipython2",
   "version": "2.7.12"
  }
 },
 "nbformat": 4,
 "nbformat_minor": 0
}
