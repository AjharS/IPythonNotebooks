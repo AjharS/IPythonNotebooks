{
 "cells": [
  {
   "cell_type": "code",
   "execution_count": 1,
   "metadata": {
    "collapsed": true
   },
   "outputs": [],
   "source": [
    "import matplotlib.pyplot as plt\n",
    "import tensorflow as tf\n",
    "import numpy as np\n",
    "%matplotlib inline"
   ]
  },
  {
   "cell_type": "code",
   "execution_count": 2,
   "metadata": {
    "collapsed": false
   },
   "outputs": [],
   "source": [
    "train_X = np.asarray([3.3,4.4,5.5,6.71,6.93,4.168,9.779,6.182,7.59,2.167,\n",
    "                         7.042,10.791,5.313,7.997,5.654,9.27,3.1])\n",
    "train_Y = np.asarray([1.7,2.76,2.09,3.19,1.694,1.573,3.366,2.596,2.53,1.221,\n",
    "                         2.827,3.465,1.65,2.904,2.42,2.94,1.3])\n",
    "n_samples = train_X.shape[0]"
   ]
  },
  {
   "cell_type": "code",
   "execution_count": 3,
   "metadata": {
    "collapsed": false
   },
   "outputs": [],
   "source": [
    "X = tf.placeholder('float')\n",
    "Y = tf.placeholder('float')\n",
    "W = tf.Variable(np.random.randn(), name='weight')\n",
    "b = tf.Variable(np.random.randn(), name='bias')"
   ]
  },
  {
   "cell_type": "code",
   "execution_count": 4,
   "metadata": {
    "collapsed": false
   },
   "outputs": [],
   "source": [
    "activation = tf.add(tf.multiply(X, W), b)"
   ]
  },
  {
   "cell_type": "code",
   "execution_count": 5,
   "metadata": {
    "collapsed": false
   },
   "outputs": [],
   "source": [
    "cost = tf.reduce_sum(tf.pow(activation-Y, 2.))/(2*n_samples)"
   ]
  },
  {
   "cell_type": "code",
   "execution_count": 6,
   "metadata": {
    "collapsed": false
   },
   "outputs": [],
   "source": [
    "optimizer = tf.train.GradientDescentOptimizer(0.01).minimize(cost)"
   ]
  },
  {
   "cell_type": "code",
   "execution_count": 7,
   "metadata": {
    "collapsed": true
   },
   "outputs": [],
   "source": [
    "init = tf.global_variables_initializer()"
   ]
  },
  {
   "cell_type": "code",
   "execution_count": 8,
   "metadata": {
    "collapsed": false
   },
   "outputs": [
    {
     "name": "stdout",
     "output_type": "stream",
     "text": [
      "('Epoch:', '0050', 'cost=', '0.077557705', 'W=', 0.26312566, 'b=', 0.70411813)\n",
      "('Epoch:', '0100', 'cost=', '0.077491157', 'W=', 0.26232076, 'b=', 0.70990813)\n",
      "('Epoch:', '0150', 'cost=', '0.077432327', 'W=', 0.26156381, 'b=', 0.71535385)\n",
      "('Epoch:', '0200', 'cost=', '0.077380367', 'W=', 0.26085171, 'b=', 0.72047597)\n",
      "('Epoch:', '0250', 'cost=', '0.077334464', 'W=', 0.26018217, 'b=', 0.72529304)\n",
      "('Epoch:', '0300', 'cost=', '0.077293918', 'W=', 0.25955236, 'b=', 0.72982353)\n",
      "('Epoch:', '0350', 'cost=', '0.077258088', 'W=', 0.25895983, 'b=', 0.73408574)\n",
      "('Epoch:', '0400', 'cost=', '0.077226423', 'W=', 0.25840279, 'b=', 0.73809421)\n",
      "('Epoch:', '0450', 'cost=', '0.077198498', 'W=', 0.25787875, 'b=', 0.74186355)\n",
      "('Epoch:', '0500', 'cost=', '0.077173829', 'W=', 0.25738588, 'b=', 0.74540931)\n",
      "('Epoch:', '0550', 'cost=', '0.077152058', 'W=', 0.25692245, 'b=', 0.7487433)\n",
      "('Epoch:', '0600', 'cost=', '0.077132821', 'W=', 0.25648639, 'b=', 0.75188035)\n",
      "('Epoch:', '0650', 'cost=', '0.077115834', 'W=', 0.2560764, 'b=', 0.75482976)\n",
      "('Epoch:', '0700', 'cost=', '0.077100866', 'W=', 0.25569057, 'b=', 0.75760502)\n",
      "('Epoch:', '0750', 'cost=', '0.077087633', 'W=', 0.25532785, 'b=', 0.76021475)\n",
      "('Epoch:', '0800', 'cost=', '0.077075981', 'W=', 0.25498667, 'b=', 0.76266873)\n",
      "('Epoch:', '0850', 'cost=', '0.077065684', 'W=', 0.25466573, 'b=', 0.76497811)\n",
      "('Epoch:', '0900', 'cost=', '0.077056609', 'W=', 0.25436401, 'b=', 0.76714885)\n",
      "('Epoch:', '0950', 'cost=', '0.077048600', 'W=', 0.25408015, 'b=', 0.76919109)\n",
      "('Epoch:', '1000', 'cost=', '0.077041551', 'W=', 0.25381306, 'b=', 0.77111179)\n",
      "Optimization Finished!\n",
      "('Training cost=', 0.077041551, 'W=', 0.25381306, 'b=', 0.77111179, '\\n')\n"
     ]
    },
    {
     "data": {
      "image/png": "[encoded data removed]",
      "text/plain": [
       "<matplotlib.figure.Figure at 0x102075a90>"
      ]
     },
     "metadata": {},
     "output_type": "display_data"
    }
   ],
   "source": [
    "display_step = 50\n",
    "with tf.Session() as sess:\n",
    "    sess.run(init)\n",
    "\n",
    "    # Fit all training data\n",
    "    for epoch in range(1000):\n",
    "        for (x, y) in zip(train_X, train_Y):\n",
    "            sess.run(optimizer, feed_dict={X: x, Y: y})\n",
    "\n",
    "        # Display logs per epoch step\n",
    "        if (epoch+1) % display_step == 0:\n",
    "            c = sess.run(cost, feed_dict={X: train_X, Y:train_Y})\n",
    "            print(\"Epoch:\", '%04d' % (epoch+1), \"cost=\", \"{:.9f}\".format(c), \\\n",
    "                \"W=\", sess.run(W), \"b=\", sess.run(b))\n",
    "\n",
    "    print(\"Optimization Finished!\")\n",
    "    training_cost = sess.run(cost, feed_dict={X: train_X, Y: train_Y})\n",
    "    print(\"Training cost=\", training_cost, \"W=\", sess.run(W), \"b=\", sess.run(b), '\\n')\n",
    "\n",
    "    # Graphic display\n",
    "    plt.plot(train_X, train_Y, 'ro', label='Original data')\n",
    "    plt.plot(train_X, sess.run(W) * train_X + sess.run(b), label='Fitted line')\n",
    "    plt.legend()\n",
    "    plt.show()"
   ]
  },
  {
   "cell_type": "code",
   "execution_count": null,
   "metadata": {
    "collapsed": true
   },
   "outputs": [],
   "source": []
  }
 ],
 "metadata": {
  "kernelspec": {
   "display_name": "Python 2",
   "language": "python",
   "name": "python2"
  },
  "language_info": {
   "codemirror_mode": {
    "name": "ipython",
    "version": 2
   },
   "file_extension": ".py",
   "mimetype": "text/x-python",
   "name": "python",
   "nbconvert_exporter": "python",
   "pygments_lexer": "ipython2",
   "version": "2.7.13"
  }
 },
 "nbformat": 4,
 "nbformat_minor": 0
}
