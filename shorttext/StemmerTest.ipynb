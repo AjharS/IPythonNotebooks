{
 "cells": [
  {
   "cell_type": "code",
   "execution_count": 1,
   "metadata": {
    "collapsed": false
   },
   "outputs": [
    {
     "name": "stderr",
     "output_type": "stream",
     "text": [
      "//anaconda/lib/python2.7/site-packages/h5py/__init__.py:36: FutureWarning: Conversion of the second argument of issubdtype from `float` to `np.floating` is deprecated. In future, it will be treated as `np.float64 == np.dtype(float).type`.\n",
      "  from ._conv import register_converters as _register_converters\n",
      "Using TensorFlow backend.\n"
     ]
    }
   ],
   "source": [
    "import shorttext\n",
    "import time\n",
    "import re\n",
    "from collections import defaultdict"
   ]
  },
  {
   "cell_type": "code",
   "execution_count": 2,
   "metadata": {
    "collapsed": true
   },
   "outputs": [],
   "source": [
    "inaugdict = shorttext.data.inaugural()"
   ]
  },
  {
   "cell_type": "code",
   "execution_count": 3,
   "metadata": {
    "collapsed": true
   },
   "outputs": [],
   "source": [
    "def time_stem_all_words(classdict, stemfunc):\n",
    "    starttime = time.time()\n",
    "    token_counts = defaultdict(lambda : 0)\n",
    "    for label in classdict:\n",
    "        for sentence in classdict[label]:\n",
    "            sentence = re.sub('[^\\w\\s]', '', sentence)\n",
    "            sentence = re.sub('[\\d]', '', sentence)\n",
    "            for token in shorttext.utils.tokenize(sentence):\n",
    "                stemfunc(token)\n",
    "                token_counts[token] += 1\n",
    "    endtime = time.time()\n",
    "    print(endtime-starttime, ' sec')\n",
    "    return token_counts"
   ]
  },
  {
   "cell_type": "code",
   "execution_count": 4,
   "metadata": {
    "collapsed": false
   },
   "outputs": [
    {
     "name": "stdout",
     "output_type": "stream",
     "text": [
      "(58.57344889640808, ' sec')\n"
     ]
    }
   ],
   "source": [
    "tokens_stemming = time_stem_all_words(inaugdict, shorttext.utils.textpreprocessing.stem)"
   ]
  },
  {
   "cell_type": "code",
   "execution_count": 5,
   "metadata": {
    "collapsed": false
   },
   "outputs": [
    {
     "name": "stdout",
     "output_type": "stream",
     "text": [
      "(60.7842960357666, ' sec')\n"
     ]
    }
   ],
   "source": [
    "import gensim\n",
    "tokens_gensim = time_stem_all_words(inaugdict, gensim.parsing.stem_text)"
   ]
  },
  {
   "cell_type": "code",
   "execution_count": 6,
   "metadata": {
    "collapsed": false
   },
   "outputs": [
    {
     "name": "stdout",
     "output_type": "stream",
     "text": [
      "(63.393579959869385, ' sec')\n"
     ]
    }
   ],
   "source": [
    "from nltk import PorterStemmer\n",
    "stemmer = PorterStemmer()\n",
    "tokens_nltk = time_stem_all_words(inaugdict, stemmer.stem)"
   ]
  },
  {
   "cell_type": "code",
   "execution_count": 7,
   "metadata": {
    "collapsed": false
   },
   "outputs": [
    {
     "name": "stdout",
     "output_type": "stream",
     "text": [
      "(58.81241297721863, ' sec')\n"
     ]
    }
   ],
   "source": [
    "# https://github.com/snowballstem/pystemmer/tree/master/docs\n",
    "import Stemmer\n",
    "snowball_stemmer = Stemmer.Stemmer('english')\n",
    "tokens_snowball = time_stem_all_words(inaugdict, snowball_stemmer.stemWord)"
   ]
  },
  {
   "cell_type": "code",
   "execution_count": 8,
   "metadata": {
    "collapsed": false
   },
   "outputs": [
    {
     "name": "stdout",
     "output_type": "stream",
     "text": [
      "9657\n",
      "9657\n",
      "9657\n",
      "9657\n"
     ]
    }
   ],
   "source": [
    "print(len(tokens_stemming))\n",
    "print(len(tokens_gensim))\n",
    "print(len(tokens_nltk))\n",
    "print(len(tokens_snowball))"
   ]
  },
  {
   "cell_type": "code",
   "execution_count": null,
   "metadata": {
    "collapsed": true
   },
   "outputs": [],
   "source": []
  }
 ],
 "metadata": {
  "kernelspec": {
   "display_name": "Python [anaconda]",
   "language": "python",
   "name": "Python [anaconda]"
  },
  "language_info": {
   "codemirror_mode": {
    "name": "ipython",
    "version": 2
   },
   "file_extension": ".py",
   "mimetype": "text/x-python",
   "name": "python",
   "nbconvert_exporter": "python",
   "pygments_lexer": "ipython2",
   "version": "2.7.12"
  }
 },
 "nbformat": 4,
 "nbformat_minor": 2
}
