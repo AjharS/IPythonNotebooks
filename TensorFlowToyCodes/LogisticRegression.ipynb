{
 "cells": [
  {
   "cell_type": "code",
   "execution_count": 1,
   "metadata": {
    "collapsed": true
   },
   "outputs": [],
   "source": [
    "import matplotlib.pyplot as plt\n",
    "import tensorflow as tf\n",
    "import numpy as np\n",
    "import pandas as pd\n",
    "%matplotlib inline"
   ]
  },
  {
   "cell_type": "code",
   "execution_count": 2,
   "metadata": {
    "collapsed": false
   },
   "outputs": [],
   "source": [
    "traindata = pd.read_csv('./DataSampling/logistic_test.csv')\n",
    "train_X = np.matrix(np.transpose(np.array([traindata['X1'], traindata['X2']])))\n",
    "train_Y = np.transpose(np.array([traindata['Y']]))"
   ]
  },
  {
   "cell_type": "code",
   "execution_count": 3,
   "metadata": {
    "collapsed": false
   },
   "outputs": [],
   "source": [
    "X = tf.placeholder('float')\n",
    "Y = tf.placeholder('float')\n",
    "W = tf.Variable(np.random.randn(2, 1), name='weight', dtype=tf.float32)\n",
    "b = tf.Variable(np.random.randn(1), name='bias', dtype=tf.float32)"
   ]
  },
  {
   "cell_type": "code",
   "execution_count": 4,
   "metadata": {
    "collapsed": false
   },
   "outputs": [],
   "source": [
    "activation = tf.sigmoid(tf.add(tf.matmul(X, W), b))"
   ]
  },
  {
   "cell_type": "code",
   "execution_count": 5,
   "metadata": {
    "collapsed": false
   },
   "outputs": [],
   "source": [
    "cost = tf.reduce_sum(tf.pow(activation-Y, 2.))/(2*train_Y.shape[0])"
   ]
  },
  {
   "cell_type": "code",
   "execution_count": 6,
   "metadata": {
    "collapsed": false
   },
   "outputs": [],
   "source": [
    "optimizer = tf.train.GradientDescentOptimizer(0.01).minimize(cost)"
   ]
  },
  {
   "cell_type": "code",
   "execution_count": 7,
   "metadata": {
    "collapsed": true
   },
   "outputs": [],
   "source": [
    "init = tf.global_variables_initializer()"
   ]
  },
  {
   "cell_type": "code",
   "execution_count": 8,
   "metadata": {
    "collapsed": false
   },
   "outputs": [
    {
     "name": "stdout",
     "output_type": "stream",
     "text": [
      "('Epoch:', '0050', 'cost=', '0.180358216', 'W=', array([[ 1.16051519],\n",
      "       [ 0.10758565]], dtype=float32), 'b=', array([-0.90515041], dtype=float32))\n",
      "('Epoch:', '0100', 'cost=', '0.173983112', 'W=', array([[ 1.15288806],\n",
      "       [ 0.05183789]], dtype=float32), 'b=', array([-0.90043217], dtype=float32))\n",
      "('Epoch:', '0150', 'cost=', '0.167574197', 'W=', array([[ 1.14363801],\n",
      "       [-0.00379002]], dtype=float32), 'b=', array([-0.89540434], dtype=float32))\n",
      "('Epoch:', '0200', 'cost=', '0.161144137', 'W=', array([[ 1.13278174],\n",
      "       [-0.05918375]], dtype=float32), 'b=', array([-0.88996726], dtype=float32))\n",
      "('Epoch:', '0250', 'cost=', '0.154703572', 'W=', array([[ 1.12033737],\n",
      "       [-0.11423908]], dtype=float32), 'b=', array([-0.88403249], dtype=float32))\n",
      "('Epoch:', '0300', 'cost=', '0.148265690', 'W=', array([[ 1.10634243],\n",
      "       [-0.16884379]], dtype=float32), 'b=', array([-0.87753344], dtype=float32))\n",
      "('Epoch:', '0350', 'cost=', '0.141848207', 'W=', array([[ 1.09081912],\n",
      "       [-0.22286744]], dtype=float32), 'b=', array([-0.87045312], dtype=float32))\n",
      "('Epoch:', '0400', 'cost=', '0.135476276', 'W=', array([[ 1.07379746],\n",
      "       [-0.27615041]], dtype=float32), 'b=', array([-0.86284387], dtype=float32))\n",
      "('Epoch:', '0450', 'cost=', '0.129182518', 'W=', array([[ 1.05528295],\n",
      "       [-0.3284978 ]], dtype=float32), 'b=', array([-0.85482246], dtype=float32))\n",
      "('Epoch:', '0500', 'cost=', '0.123008311', 'W=', array([[ 1.03531241],\n",
      "       [-0.37968594]], dtype=float32), 'b=', array([-0.84654635], dtype=float32))\n",
      "('Epoch:', '0550', 'cost=', '0.117005959', 'W=', array([[ 1.01396096],\n",
      "       [-0.42944425]], dtype=float32), 'b=', array([-0.83819723], dtype=float32))\n",
      "('Epoch:', '0600', 'cost=', '0.111237571', 'W=', array([[ 0.99138391],\n",
      "       [-0.47746485]], dtype=float32), 'b=', array([-0.82991028], dtype=float32))\n",
      "('Epoch:', '0650', 'cost=', '0.105770893', 'W=', array([[ 0.96784139],\n",
      "       [-0.52343059]], dtype=float32), 'b=', array([-0.82175803], dtype=float32))\n",
      "('Epoch:', '0700', 'cost=', '0.100670099', 'W=', array([[ 0.94367653],\n",
      "       [-0.56703913]], dtype=float32), 'b=', array([-0.81371385], dtype=float32))\n",
      "('Epoch:', '0750', 'cost=', '0.095978729', 'W=', array([[ 0.9192583 ],\n",
      "       [-0.60809201]], dtype=float32), 'b=', array([-0.80569375], dtype=float32))\n",
      "('Epoch:', '0800', 'cost=', '0.091712587', 'W=', array([[ 0.89492404],\n",
      "       [-0.64650851]], dtype=float32), 'b=', array([-0.79760224], dtype=float32))\n",
      "('Epoch:', '0850', 'cost=', '0.087862179', 'W=', array([[ 0.87094164],\n",
      "       [-0.68232298]], dtype=float32), 'b=', array([-0.78937036], dtype=float32))\n",
      "('Epoch:', '0900', 'cost=', '0.084407113', 'W=', array([[ 0.84753162],\n",
      "       [-0.71562856]], dtype=float32), 'b=', array([-0.78097862], dtype=float32))\n",
      "('Epoch:', '0950', 'cost=', '0.081329450', 'W=', array([[ 0.82491183],\n",
      "       [-0.7465297 ]], dtype=float32), 'b=', array([-0.77247334], dtype=float32))\n",
      "('Epoch:', '1000', 'cost=', '0.078620099', 'W=', array([[ 0.80331558],\n",
      "       [-0.77507907]], dtype=float32), 'b=', array([-0.76393449], dtype=float32))\n",
      "Optimization Finished!\n",
      "('Training cost=', 0.078620099, 'W=', array([[ 0.80331558],\n",
      "       [-0.77507907]], dtype=float32), 'b=', array([-0.76393449], dtype=float32), '\\n')\n",
      "[[  4.29641008e-02]\n",
      " [  1.70667753e-01]\n",
      " [  4.40130854e-04]\n",
      " [  3.82247288e-03]\n",
      " [  9.09849048e-01]\n",
      " [  2.08553839e-02]\n",
      " [  9.87837791e-01]\n",
      " [  1.41073659e-03]\n",
      " [  9.54676628e-01]\n",
      " [  9.56274807e-01]\n",
      " [  4.31503534e-01]\n",
      " [  3.52308080e-02]\n",
      " [  1.58747006e-02]\n",
      " [  4.71842848e-02]\n",
      " [  2.47012794e-01]\n",
      " [  7.64497638e-01]\n",
      " [  8.86134565e-01]\n",
      " [  4.14291583e-02]\n",
      " [  4.58017923e-02]\n",
      " [  8.94175991e-02]\n",
      " [  5.54822147e-01]\n",
      " [  3.28020821e-03]\n",
      " [  1.50464088e-01]\n",
      " [  5.32179326e-02]\n",
      " [  1.83870479e-01]\n",
      " [  4.83879074e-02]\n",
      " [  9.14002419e-01]\n",
      " [  6.54409051e-01]\n",
      " [  2.85008490e-01]\n",
      " [  4.90039855e-01]\n",
      " [  7.48058200e-01]\n",
      " [  8.77504528e-01]\n",
      " [  7.44881809e-01]\n",
      " [  9.13299397e-02]\n",
      " [  9.79691565e-01]\n",
      " [  9.53775465e-01]\n",
      " [  3.10665183e-02]\n",
      " [  9.94363427e-01]\n",
      " [  3.42344582e-01]\n",
      " [  3.85835330e-04]\n",
      " [  5.59552088e-02]\n",
      " [  7.47865677e-01]\n",
      " [  2.83518791e-01]\n",
      " [  9.93652225e-01]\n",
      " [  6.47199333e-01]\n",
      " [  4.23286343e-03]\n",
      " [  9.53893721e-01]\n",
      " [  6.70800686e-01]\n",
      " [  2.80129254e-01]\n",
      " [  3.36949043e-02]]\n"
     ]
    }
   ],
   "source": [
    "display_step = 50\n",
    "with tf.Session() as sess:\n",
    "    sess.run(init)\n",
    "\n",
    "    # Fit all training data\n",
    "    for epoch in range(1000):\n",
    "        for (x, y) in zip(train_X, train_Y):\n",
    "            sess.run(optimizer, feed_dict={X: x, Y: y})\n",
    "\n",
    "        # Display logs per epoch step\n",
    "        if (epoch+1) % display_step == 0:\n",
    "            c = sess.run(cost, feed_dict={X: train_X, Y:train_Y})\n",
    "            print(\"Epoch:\", '%04d' % (epoch+1), \"cost=\", \"{:.9f}\".format(c), \\\n",
    "                \"W=\", sess.run(W), \"b=\", sess.run(b))\n",
    "\n",
    "    print(\"Optimization Finished!\")\n",
    "    training_cost = sess.run(cost, feed_dict={X: train_X, Y: train_Y})\n",
    "    print(\"Training cost=\", training_cost, \"W=\", sess.run(W), \"b=\", sess.run(b), '\\n')\n",
    "    \n",
    "    print sess.run(activation, feed_dict={X: train_X})"
   ]
  },
  {
   "cell_type": "code",
   "execution_count": 44,
   "metadata": {
    "collapsed": false
   },
   "outputs": [
    {
     "data": {
      "text/plain": [
       "array([[ 0.87089506,  3.92107779],\n",
       "       [-1.06033662, -0.04492077],\n",
       "       [-4.87514178,  3.93222695],\n",
       "       [-3.72325476,  2.33285206],\n",
       "       [ 4.95402848,  1.16623081],\n",
       "       [-1.63198718,  2.28896917],\n",
       "       [ 2.60361803, -3.96035779],\n",
       "       [-2.62411222,  4.76120042],\n",
       "       [ 1.77881394, -3.07392774],\n",
       "       [ 0.81800566, -4.11820929],\n",
       "       [-0.40703312, -1.05175194],\n",
       "       [ 0.26923086,  3.56390826],\n",
       "       [-0.30254426,  4.02546516],\n",
       "       [-3.46490283, -0.69926329],\n",
       "       [ 4.34677446,  4.9575657 ],\n",
       "       [ 1.07823401, -1.38730401],\n",
       "       [-0.52462976, -4.17664381],\n",
       "       [-3.42607977, -0.4834338 ],\n",
       "       [-2.31960465,  0.52799634],\n",
       "       [ 0.17357964,  2.18851455],\n",
       "       [ 2.04265107,  0.84737818],\n",
       "       [-4.53563574,  1.68896461],\n",
       "       [-2.68171801, -1.53175941],\n",
       "       [-4.27242652, -1.69965623],\n",
       "       [-1.81289866, -0.94173962],\n",
       "       [ 1.79601205,  4.71917962],\n",
       "       [ 3.18858161, -0.7302627 ],\n",
       "       [ 0.8046715 , -0.97539231],\n",
       "       [-0.01038111,  0.1902746 ],\n",
       "       [ 3.03914728,  2.21565204],\n",
       "       [-1.55104541, -3.99726491],\n",
       "       [-1.34270465, -4.9176378 ],\n",
       "       [-0.06940088, -2.4399886 ],\n",
       "       [ 0.93426544,  2.94689802],\n",
       "       [ 3.02124157, -2.8553551 ],\n",
       "       [ 1.19629425, -3.65104845],\n",
       "       [-2.60259319,  0.75531266],\n",
       "       [ 3.20535165, -4.33743823],\n",
       "       [-4.15576136, -4.45046056],\n",
       "       [-4.50481113,  4.48598631],\n",
       "       [-2.60360487, -0.03848444],\n",
       "       [-1.89644289, -4.35392743],\n",
       "       [-4.09664101, -4.03540317],\n",
       "       [ 4.83916419, -2.48987459],\n",
       "       [ 4.41484993,  2.80723878],\n",
       "       [-2.81160283,  3.14560891],\n",
       "       [ 4.29700171, -0.4408451 ],\n",
       "       [-0.24817441, -2.16120609],\n",
       "       [-3.92372408, -3.83457985],\n",
       "       [-2.11175412,  1.15574477]])"
      ]
     },
     "execution_count": 44,
     "metadata": {},
     "output_type": "execute_result"
    }
   ],
   "source": [
    "train_X"
   ]
  },
  {
   "cell_type": "code",
   "execution_count": 45,
   "metadata": {
    "collapsed": false
   },
   "outputs": [
    {
     "data": {
      "text/plain": [
       "array([[0],\n",
       "       [0],\n",
       "       [0],\n",
       "       [0],\n",
       "       [0],\n",
       "       [1],\n",
       "       [1],\n",
       "       [0],\n",
       "       [1],\n",
       "       [1],\n",
       "       [1],\n",
       "       [0],\n",
       "       [0],\n",
       "       [0],\n",
       "       [0],\n",
       "       [1],\n",
       "       [1],\n",
       "       [0],\n",
       "       [0],\n",
       "       [0],\n",
       "       [0],\n",
       "       [0],\n",
       "       [0],\n",
       "       [0],\n",
       "       [0],\n",
       "       [0],\n",
       "       [1],\n",
       "       [1],\n",
       "       [0],\n",
       "       [1],\n",
       "       [1],\n",
       "       [1],\n",
       "       [1],\n",
       "       [0],\n",
       "       [1],\n",
       "       [1],\n",
       "       [0],\n",
       "       [1],\n",
       "       [1],\n",
       "       [0],\n",
       "       [1],\n",
       "       [1],\n",
       "       [1],\n",
       "       [1],\n",
       "       [1],\n",
       "       [1],\n",
       "       [1],\n",
       "       [1],\n",
       "       [1],\n",
       "       [1]])"
      ]
     },
     "execution_count": 45,
     "metadata": {},
     "output_type": "execute_result"
    }
   ],
   "source": [
    "train_Y"
   ]
  },
  {
   "cell_type": "code",
   "execution_count": 17,
   "metadata": {
    "collapsed": false
   },
   "outputs": [],
   "source": [
    "W_guess = np.array([[2.1], [1.4]])"
   ]
  },
  {
   "cell_type": "code",
   "execution_count": 18,
   "metadata": {
    "collapsed": false
   },
   "outputs": [
    {
     "data": {
      "text/plain": [
       "array([[  7.31838853],\n",
       "       [ -2.28959598],\n",
       "       [ -4.73268001],\n",
       "       [ -4.5528421 ],\n",
       "       [ 12.03618294],\n",
       "       [ -0.22261624],\n",
       "       [ -0.07690305],\n",
       "       [  1.15504493],\n",
       "       [ -0.56798957],\n",
       "       [ -4.04768113],\n",
       "       [ -2.32722226],\n",
       "       [  5.55485638],\n",
       "       [  5.00030827],\n",
       "       [ -8.25526454],\n",
       "       [ 16.06881834],\n",
       "       [  0.32206581],\n",
       "       [ -6.94902383],\n",
       "       [ -7.87157484],\n",
       "       [ -4.13197489],\n",
       "       [  3.42843761],\n",
       "       [  5.47589671],\n",
       "       [ -7.16028459],\n",
       "       [ -7.77607099],\n",
       "       [-11.3516144 ],\n",
       "       [ -5.12552266],\n",
       "       [ 10.37847678],\n",
       "       [  5.67365361],\n",
       "       [  0.32426092],\n",
       "       [  0.2445841 ],\n",
       "       [  9.48412214],\n",
       "       [ -8.85336622],\n",
       "       [ -9.70437269],\n",
       "       [ -3.56172589],\n",
       "       [  6.08761466],\n",
       "       [  2.34711015],\n",
       "       [ -2.59924989],\n",
       "       [ -4.40800798],\n",
       "       [  0.65882495],\n",
       "       [-14.95774364],\n",
       "       [ -3.17972253],\n",
       "       [ -5.52144843],\n",
       "       [-10.07802848],\n",
       "       [-14.25251056],\n",
       "       [  6.67642038],\n",
       "       [ 13.20131915],\n",
       "       [ -1.50051347],\n",
       "       [  8.40652044],\n",
       "       [ -3.54685478],\n",
       "       [-13.60823236],\n",
       "       [ -2.81664096]])"
      ]
     },
     "execution_count": 18,
     "metadata": {},
     "output_type": "execute_result"
    }
   ],
   "source": [
    "np.dot(train_X, W_guess)"
   ]
  },
  {
   "cell_type": "code",
   "execution_count": 23,
   "metadata": {
    "collapsed": false
   },
   "outputs": [
    {
     "data": {
      "text/plain": [
       "array([ 5.74])"
      ]
     },
     "execution_count": 23,
     "metadata": {},
     "output_type": "execute_result"
    }
   ],
   "source": [
    "np.dot(np.array([[2., 1.1]]), W_guess)"
   ]
  },
  {
   "cell_type": "code",
   "execution_count": 36,
   "metadata": {
    "collapsed": false
   },
   "outputs": [
    {
     "data": {
      "text/plain": [
       "array([[0],\n",
       "       [0],\n",
       "       [0],\n",
       "       [0],\n",
       "       [0],\n",
       "       [1],\n",
       "       [1],\n",
       "       [0],\n",
       "       [1],\n",
       "       [1],\n",
       "       [1],\n",
       "       [0],\n",
       "       [0],\n",
       "       [0],\n",
       "       [0],\n",
       "       [1],\n",
       "       [1],\n",
       "       [0],\n",
       "       [0],\n",
       "       [0],\n",
       "       [0],\n",
       "       [0],\n",
       "       [0],\n",
       "       [0],\n",
       "       [0],\n",
       "       [0],\n",
       "       [1],\n",
       "       [1],\n",
       "       [0],\n",
       "       [1],\n",
       "       [1],\n",
       "       [1],\n",
       "       [1],\n",
       "       [0],\n",
       "       [1],\n",
       "       [1],\n",
       "       [0],\n",
       "       [1],\n",
       "       [1],\n",
       "       [0],\n",
       "       [1],\n",
       "       [1],\n",
       "       [1],\n",
       "       [1],\n",
       "       [1],\n",
       "       [1],\n",
       "       [1],\n",
       "       [1],\n",
       "       [1],\n",
       "       [1]])"
      ]
     },
     "execution_count": 36,
     "metadata": {},
     "output_type": "execute_result"
    }
   ],
   "source": [
    "np.transpose(np.array([train_Y]))"
   ]
  },
  {
   "cell_type": "code",
   "execution_count": 9,
   "metadata": {
    "collapsed": false
   },
   "outputs": [
    {
     "data": {
      "text/plain": [
       "array([[ 0.89080172],\n",
       "       [ 0.33760275]])"
      ]
     },
     "execution_count": 9,
     "metadata": {},
     "output_type": "execute_result"
    }
   ],
   "source": [
    "np.random.rand(2,1)"
   ]
  },
  {
   "cell_type": "code",
   "execution_count": 31,
   "metadata": {
    "collapsed": false
   },
   "outputs": [
    {
     "data": {
      "text/plain": [
       "tf.float64_ref"
      ]
     },
     "execution_count": 31,
     "metadata": {},
     "output_type": "execute_result"
    }
   ],
   "source": [
    "W.dtype"
   ]
  },
  {
   "cell_type": "code",
   "execution_count": 37,
   "metadata": {
    "collapsed": false
   },
   "outputs": [
    {
     "data": {
      "text/plain": [
       "tf.float64_ref"
      ]
     },
     "execution_count": 37,
     "metadata": {},
     "output_type": "execute_result"
    }
   ],
   "source": [
    "b.dtype"
   ]
  },
  {
   "cell_type": "code",
   "execution_count": 33,
   "metadata": {
    "collapsed": false
   },
   "outputs": [
    {
     "data": {
      "text/plain": [
       "tf.float32"
      ]
     },
     "execution_count": 33,
     "metadata": {},
     "output_type": "execute_result"
    }
   ],
   "source": [
    "X.dtype"
   ]
  },
  {
   "cell_type": "code",
   "execution_count": 34,
   "metadata": {
    "collapsed": false
   },
   "outputs": [
    {
     "data": {
      "text/plain": [
       "tf.float32"
      ]
     },
     "execution_count": 34,
     "metadata": {},
     "output_type": "execute_result"
    }
   ],
   "source": [
    "Y.dtype"
   ]
  },
  {
   "cell_type": "code",
   "execution_count": null,
   "metadata": {
    "collapsed": true
   },
   "outputs": [],
   "source": []
  }
 ],
 "metadata": {
  "anaconda-cloud": {},
  "kernelspec": {
   "display_name": "Python [Root]",
   "language": "python",
   "name": "Python [Root]"
  },
  "language_info": {
   "codemirror_mode": {
    "name": "ipython",
    "version": 2
   },
   "file_extension": ".py",
   "mimetype": "text/x-python",
   "name": "python",
   "nbconvert_exporter": "python",
   "pygments_lexer": "ipython2",
   "version": "2.7.12"
  }
 },
 "nbformat": 4,
 "nbformat_minor": 0
}
