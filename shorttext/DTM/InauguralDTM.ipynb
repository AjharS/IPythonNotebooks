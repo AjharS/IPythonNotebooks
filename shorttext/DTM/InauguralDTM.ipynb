{
 "cells": [
  {
   "cell_type": "code",
   "execution_count": 1,
   "metadata": {
    "collapsed": false
   },
   "outputs": [
    {
     "name": "stderr",
     "output_type": "stream",
     "text": [
      "Using TensorFlow backend.\n"
     ]
    }
   ],
   "source": [
    "import shorttext\n",
    "import numpy as np\n",
    "import pandas as pd\n",
    "from stemming.porter import stem\n",
    "\n",
    "import re"
   ]
  },
  {
   "cell_type": "code",
   "execution_count": 2,
   "metadata": {
    "collapsed": true
   },
   "outputs": [],
   "source": [
    "usprezdf = pd.read_csv('inaugural.csv')"
   ]
  },
  {
   "cell_type": "code",
   "execution_count": null,
   "metadata": {
    "collapsed": false
   },
   "outputs": [],
   "source": [
    "pipeline = [lambda s: re.sub('[^\\w\\s]', '', s),\n",
    "            lambda s: re.sub('[\\d]', '', s),\n",
    "            lambda s: s.lower(),\n",
    "            lambda s: ' '.join(filter(lambda s: not (s in shorttext.utils.textpreprocessing.stopwordset), shorttext.utils.tokenize(s))),\n",
    "            lambda s: ' '.join(map(stem, shorttext.utils.tokenize(s)))\n",
    "           ]\n",
    "txtpreproceesor = shorttext.utils.text_preprocessor(pipeline)"
   ]
  },
  {
   "cell_type": "code",
   "execution_count": null,
   "metadata": {
    "collapsed": false
   },
   "outputs": [],
   "source": [
    "docids = list(usprezdf['yrprez'])\n",
    "corpus = [txtpreproceesor(speech).split(' ') for speech in usprezdf['speech']]"
   ]
  },
  {
   "cell_type": "code",
   "execution_count": null,
   "metadata": {
    "collapsed": false
   },
   "outputs": [],
   "source": [
    "dtm = shorttext.utils.DocumentTermMatrix(corpus, docids=docids, tfidf=True)"
   ]
  },
  {
   "cell_type": "code",
   "execution_count": null,
   "metadata": {
    "collapsed": false
   },
   "outputs": [],
   "source": [
    "dtm.get_doc_tokens('2009-Obama')"
   ]
  },
  {
   "cell_type": "code",
   "execution_count": null,
   "metadata": {
    "collapsed": false
   },
   "outputs": [],
   "source": [
    "dtm.get_token_occurences(stem('change'))"
   ]
  },
  {
   "cell_type": "code",
   "execution_count": null,
   "metadata": {
    "collapsed": true
   },
   "outputs": [],
   "source": []
  }
 ],
 "metadata": {
  "kernelspec": {
   "display_name": "Python [Root]",
   "language": "python",
   "name": "Python [Root]"
  },
  "language_info": {
   "codemirror_mode": {
    "name": "ipython",
    "version": 2
   },
   "file_extension": ".py",
   "mimetype": "text/x-python",
   "name": "python",
   "nbconvert_exporter": "python",
   "pygments_lexer": "ipython2",
   "version": "2.7.12"
  }
 },
 "nbformat": 4,
 "nbformat_minor": 0
}
