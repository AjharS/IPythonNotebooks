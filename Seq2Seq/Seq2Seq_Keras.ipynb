{
 "cells": [
  {
   "cell_type": "code",
   "execution_count": 1,
   "metadata": {
    "collapsed": false
   },
   "outputs": [
    {
     "name": "stderr",
     "output_type": "stream",
     "text": [
      "Using TensorFlow backend.\n"
     ]
    }
   ],
   "source": [
    "import numpy as np\n",
    "from scipy.sparse import csr_matrix, csc_matrix\n",
    "import keras"
   ]
  },
  {
   "cell_type": "code",
   "execution_count": 2,
   "metadata": {
    "collapsed": true
   },
   "outputs": [],
   "source": [
    "import urllib2\n",
    "import matplotlib.pyplot as plt\n",
    "\n",
    "%matplotlib inline"
   ]
  },
  {
   "cell_type": "code",
   "execution_count": 3,
   "metadata": {
    "collapsed": true
   },
   "outputs": [],
   "source": [
    "# link1: https://www.tensorflow.org/tutorials/seq2seq\n",
    "# link2: https://blog.keras.io/a-ten-minute-introduction-to-sequence-to-sequence-learning-in-keras.html"
   ]
  },
  {
   "cell_type": "code",
   "execution_count": 4,
   "metadata": {
    "collapsed": true
   },
   "outputs": [],
   "source": [
    "from gensim.corpora import Dictionary\n",
    "from sklearn.preprocessing import OneHotEncoder\n",
    "\n",
    "class SentenceToCharVecEncoder:\n",
    "    def __init__(self, dictionary):\n",
    "        self.dictionary = dictionary\n",
    "        numchars = len(self.dictionary)\n",
    "        self.onehot_encoder = OneHotEncoder()\n",
    "        self.onehot_encoder.fit(np.arange(numchars).reshape((numchars, 1)))\n",
    "        \n",
    "    def calculate_prelim_vec(self, cor_sent):\n",
    "        return self.onehot_encoder.transform(\n",
    "            np.array([self.dictionary.token2id[c] for c in cor_sent]).reshape((len(cor_sent), 1))\n",
    "        )\n",
    "        \n",
    "    def encode_sentence(self, sent, startsig=False, endsig=False, maxlen=20):\n",
    "        cor_sent = ('\\n' if startsig else '')+sent[:min(maxlen, len(sent))]+('\\n' if endsig else '')\n",
    "        sent_vec = self.calculate_prelim_vec(cor_sent).tocsc()\n",
    "        if sent_vec.shape[0]==maxlen+startsig+endsig:\n",
    "            return sent_vec\n",
    "        else:\n",
    "            return csc_matrix((sent_vec.data, sent_vec.indices, sent_vec.indptr), \n",
    "                              shape=(maxlen+startsig+endsig, sent_vec.shape[1]), \n",
    "                              dtype=np.float64)\n",
    "    \n",
    "    def encode_sentences(self, sentences, sparse=True, startsig=False, endsig=False, maxlen=20):\n",
    "        if sparse:\n",
    "            return map(lambda sent: self.encode_sentence(sent, startsig=startsig, endsig=endsig, maxlen=maxlen), sentences)\n",
    "        else:\n",
    "            return map(lambda sent: self.encode_sentence(sent, startsig=startsig, endsig=endsig, maxlen=maxlen).toarray(), sentences)\n",
    "    \n",
    "def initSentenceToCharVecEncoder(textfile):\n",
    "    text = filter(lambda t: len(t)>0, [t.strip()+'\\n' for t in textfile])\n",
    "    dictionary = Dictionary(map(lambda line: [c for c in line], text))\n",
    "    return SentenceToCharVecEncoder(dictionary)"
   ]
  },
  {
   "cell_type": "code",
   "execution_count": 5,
   "metadata": {
    "collapsed": true
   },
   "outputs": [],
   "source": [
    "textfile = urllib2.urlopen('http://norvig.com/big.txt', 'r')\n",
    "text = filter(lambda t: len(t)>0, [t.strip() for t in textfile])"
   ]
  },
  {
   "cell_type": "code",
   "execution_count": 6,
   "metadata": {
    "collapsed": true
   },
   "outputs": [],
   "source": [
    "chartovec_encoder = initSentenceToCharVecEncoder(text)"
   ]
  },
  {
   "cell_type": "code",
   "execution_count": 7,
   "metadata": {
    "collapsed": false
   },
   "outputs": [
    {
     "name": "stdout",
     "output_type": "stream",
     "text": [
      "93\n",
      "113\n"
     ]
    }
   ],
   "source": [
    "numchars = len(chartovec_encoder.dictionary)\n",
    "latent_dim = numchars + 20\n",
    "\n",
    "print numchars\n",
    "print latent_dim"
   ]
  },
  {
   "cell_type": "code",
   "execution_count": 8,
   "metadata": {
    "collapsed": false
   },
   "outputs": [],
   "source": [
    "from keras.models import Model\n",
    "from keras.layers import Input, LSTM, Dense\n",
    "\n",
    "# Define an input sequence and process it.\n",
    "encoder_inputs = Input(shape=(None, numchars))\n",
    "encoder = LSTM(latent_dim, return_state=True)\n",
    "encoder_outputs, state_h, state_c = encoder(encoder_inputs)\n",
    "# We discard `encoder_outputs` and only keep the states.\n",
    "encoder_states = [state_h, state_c]\n",
    "\n",
    "# Set up the decoder, using `encoder_states` as initial state.\n",
    "decoder_inputs = Input(shape=(None, numchars))\n",
    "# We set up our decoder to return full output sequences,\n",
    "# and to return internal states as well. We don't use the \n",
    "# return states in the training model, but we will use them in inference.\n",
    "decoder_lstm = LSTM(latent_dim, return_sequences=True, return_state=True)\n",
    "decoder_outputs, _, _ = decoder_lstm(decoder_inputs,\n",
    "                                     initial_state=encoder_states)\n",
    "decoder_dense = Dense(numchars, activation='softmax')\n",
    "decoder_outputs = decoder_dense(decoder_outputs)\n",
    "\n",
    "# Define the model that will turn\n",
    "# `encoder_input_data` & `decoder_input_data` into `decoder_target_data`\n",
    "model = Model([encoder_inputs, decoder_inputs], decoder_outputs)"
   ]
  },
  {
   "cell_type": "code",
   "execution_count": 10,
   "metadata": {
    "collapsed": true
   },
   "outputs": [],
   "source": [
    "# preparing training data"
   ]
  },
  {
   "cell_type": "code",
   "execution_count": 17,
   "metadata": {
    "collapsed": false
   },
   "outputs": [],
   "source": [
    "encoder_input = chartovec_encoder.encode_sentences(text[:-1], startsig=True, maxlen=20)\n",
    "decoder_input = chartovec_encoder.encode_sentences(text[1:], startsig=True, maxlen=20)\n",
    "decoder_output = chartovec_encoder.encode_sentences(text[1:], endsig=True, maxlen=20)"
   ]
  },
  {
   "cell_type": "code",
   "execution_count": 18,
   "metadata": {
    "collapsed": false
   },
   "outputs": [
    {
     "name": "stdout",
     "output_type": "stream",
     "text": [
      "103500\n",
      "[(21, 93), (21, 93), (21, 93), (21, 93), (21, 93), (21, 93), (21, 93), (21, 93), (21, 93), (21, 93), (21, 93), (21, 93), (21, 93), (21, 93), (21, 93), (21, 93), (21, 93), (21, 93), (21, 93), (21, 93), (21, 93), (21, 93), (21, 93), (21, 93), (21, 93), (21, 93), (21, 93), (21, 93), (21, 93), (21, 93), (21, 93), (21, 93), (21, 93), (21, 93), (21, 93), (21, 93), (21, 93), (21, 93), (21, 93), (21, 93), (21, 93), (21, 93), (21, 93), (21, 93), (21, 93), (21, 93), (21, 93), (21, 93), (21, 93), (21, 93), (21, 93), (21, 93), (21, 93), (21, 93), (21, 93), (21, 93), (21, 93), (21, 93), (21, 93), (21, 93), (21, 93), (21, 93), (21, 93), (21, 93), (21, 93), (21, 93), (21, 93), (21, 93), (21, 93), (21, 93), (21, 93), (21, 93), (21, 93), (21, 93), (21, 93), (21, 93), (21, 93), (21, 93), (21, 93), (21, 93), (21, 93), (21, 93), (21, 93), (21, 93), (21, 93), (21, 93), (21, 93), (21, 93), (21, 93), (21, 93), (21, 93), (21, 93), (21, 93), (21, 93), (21, 93), (21, 93), (21, 93), (21, 93), (21, 93), (21, 93)]\n"
     ]
    }
   ],
   "source": [
    "print(len(encoder_input))\n",
    "print(map(lambda e: e.shape, encoder_input[:100]))"
   ]
  },
  {
   "cell_type": "code",
   "execution_count": 19,
   "metadata": {
    "collapsed": false
   },
   "outputs": [
    {
     "name": "stdout",
     "output_type": "stream",
     "text": [
      "103500\n",
      "[(21, 93), (21, 93), (21, 93), (21, 93), (21, 93), (21, 93), (21, 93), (21, 93), (21, 93), (21, 93), (21, 93), (21, 93), (21, 93), (21, 93), (21, 93), (21, 93), (21, 93), (21, 93), (21, 93), (21, 93), (21, 93), (21, 93), (21, 93), (21, 93), (21, 93), (21, 93), (21, 93), (21, 93), (21, 93), (21, 93), (21, 93), (21, 93), (21, 93), (21, 93), (21, 93), (21, 93), (21, 93), (21, 93), (21, 93), (21, 93), (21, 93), (21, 93), (21, 93), (21, 93), (21, 93), (21, 93), (21, 93), (21, 93), (21, 93), (21, 93), (21, 93), (21, 93), (21, 93), (21, 93), (21, 93), (21, 93), (21, 93), (21, 93), (21, 93), (21, 93), (21, 93), (21, 93), (21, 93), (21, 93), (21, 93), (21, 93), (21, 93), (21, 93), (21, 93), (21, 93), (21, 93), (21, 93), (21, 93), (21, 93), (21, 93), (21, 93), (21, 93), (21, 93), (21, 93), (21, 93), (21, 93), (21, 93), (21, 93), (21, 93), (21, 93), (21, 93), (21, 93), (21, 93), (21, 93), (21, 93), (21, 93), (21, 93), (21, 93), (21, 93), (21, 93), (21, 93), (21, 93), (21, 93), (21, 93), (21, 93)]\n"
     ]
    }
   ],
   "source": [
    "print(len(decoder_input))\n",
    "print(map(lambda e: e.shape, decoder_input[:100]))"
   ]
  },
  {
   "cell_type": "code",
   "execution_count": 20,
   "metadata": {
    "collapsed": false
   },
   "outputs": [
    {
     "name": "stdout",
     "output_type": "stream",
     "text": [
      "103500\n",
      "[(21, 93), (21, 93), (21, 93), (21, 93), (21, 93), (21, 93), (21, 93), (21, 93), (21, 93), (21, 93), (21, 93), (21, 93), (21, 93), (21, 93), (21, 93), (21, 93), (21, 93), (21, 93), (21, 93), (21, 93), (21, 93), (21, 93), (21, 93), (21, 93), (21, 93), (21, 93), (21, 93), (21, 93), (21, 93), (21, 93), (21, 93), (21, 93), (21, 93), (21, 93), (21, 93), (21, 93), (21, 93), (21, 93), (21, 93), (21, 93), (21, 93), (21, 93), (21, 93), (21, 93), (21, 93), (21, 93), (21, 93), (21, 93), (21, 93), (21, 93), (21, 93), (21, 93), (21, 93), (21, 93), (21, 93), (21, 93), (21, 93), (21, 93), (21, 93), (21, 93), (21, 93), (21, 93), (21, 93), (21, 93), (21, 93), (21, 93), (21, 93), (21, 93), (21, 93), (21, 93), (21, 93), (21, 93), (21, 93), (21, 93), (21, 93), (21, 93), (21, 93), (21, 93), (21, 93), (21, 93), (21, 93), (21, 93), (21, 93), (21, 93), (21, 93), (21, 93), (21, 93), (21, 93), (21, 93), (21, 93), (21, 93), (21, 93), (21, 93), (21, 93), (21, 93), (21, 93), (21, 93), (21, 93), (21, 93), (21, 93)]\n"
     ]
    }
   ],
   "source": [
    "print(len(decoder_output))\n",
    "print(map(lambda e: e.shape, decoder_output[:100]))"
   ]
  },
  {
   "cell_type": "code",
   "execution_count": 9,
   "metadata": {
    "collapsed": false
   },
   "outputs": [
    {
     "data": {
      "text/plain": [
       "{u'\\t': 68,\n",
       " u'\\n': 0,\n",
       " u' ': 1,\n",
       " u'!': 53,\n",
       " u'\"': 41,\n",
       " u'#': 33,\n",
       " u'$': 78,\n",
       " u'%': 84,\n",
       " u'&': 77,\n",
       " u\"'\": 70,\n",
       " u'(': 34,\n",
       " u')': 35,\n",
       " u'*': 45,\n",
       " u'+': 83,\n",
       " u',': 42,\n",
       " u'-': 69,\n",
       " u'.': 38,\n",
       " u'/': 82,\n",
       " u'0': 59,\n",
       " u'1': 36,\n",
       " u'2': 60,\n",
       " u'3': 80,\n",
       " u'4': 79,\n",
       " u'5': 37,\n",
       " u'6': 55,\n",
       " u'7': 50,\n",
       " u'8': 73,\n",
       " u'9': 51,\n",
       " u':': 54,\n",
       " u';': 74,\n",
       " u'<': 85,\n",
       " u'=': 90,\n",
       " u'>': 86,\n",
       " u'?': 75,\n",
       " u'@': 87,\n",
       " u'A': 2,\n",
       " u'B': 3,\n",
       " u'C': 28,\n",
       " u'D': 29,\n",
       " u'E': 4,\n",
       " u'F': 46,\n",
       " u'G': 5,\n",
       " u'H': 6,\n",
       " u'I': 43,\n",
       " u'J': 63,\n",
       " u'K': 64,\n",
       " u'L': 62,\n",
       " u'M': 56,\n",
       " u'N': 61,\n",
       " u'O': 65,\n",
       " u'P': 7,\n",
       " u'Q': 76,\n",
       " u'R': 52,\n",
       " u'S': 8,\n",
       " u'T': 9,\n",
       " u'U': 66,\n",
       " u'V': 47,\n",
       " u'W': 48,\n",
       " u'X': 71,\n",
       " u'Y': 44,\n",
       " u'Z': 81,\n",
       " u'[': 57,\n",
       " u']': 58,\n",
       " u'^': 91,\n",
       " u'_': 88,\n",
       " u'a': 30,\n",
       " u'b': 10,\n",
       " u'c': 11,\n",
       " u'd': 12,\n",
       " u'e': 13,\n",
       " u'f': 14,\n",
       " u'g': 15,\n",
       " u'h': 16,\n",
       " u'i': 31,\n",
       " u'j': 17,\n",
       " u'k': 18,\n",
       " u'l': 19,\n",
       " u'm': 20,\n",
       " u'n': 21,\n",
       " u'o': 22,\n",
       " u'p': 39,\n",
       " u'q': 72,\n",
       " u'r': 23,\n",
       " u's': 24,\n",
       " u't': 25,\n",
       " u'u': 26,\n",
       " u'v': 27,\n",
       " u'w': 40,\n",
       " u'x': 49,\n",
       " u'y': 32,\n",
       " u'z': 67,\n",
       " u'|': 92,\n",
       " u'~': 89}"
      ]
     },
     "execution_count": 9,
     "metadata": {},
     "output_type": "execute_result"
    }
   ],
   "source": [
    "chartovec_encoder.dictionary.token2id"
   ]
  },
  {
   "cell_type": "code",
   "execution_count": 18,
   "metadata": {
    "collapsed": false
   },
   "outputs": [
    {
     "data": {
      "text/plain": [
       "(array([    0.,     5.,    56.,   332.,  1044.,  1180.,  1242.,  1187.,\n",
       "         1057.,   988.,   935.,   761.,   607.,   497.,   464.,   428.,\n",
       "          422.,   509.,   420.,   431.,   419.,   392.,   395.,   397.,\n",
       "          393.,   391.,   387.,   365.,   351.,   333.,   335.,   304.,\n",
       "          300.,   317.,   345.,   343.,   304.,   345.,   282.,   316.,\n",
       "          324.,   272.,   278.,   304.,   263.,   250.,   313.,   269.,\n",
       "          548.]),\n",
       " array([ 0,  1,  2,  3,  4,  5,  6,  7,  8,  9, 10, 11, 12, 13, 14, 15, 16,\n",
       "        17, 18, 19, 20, 21, 22, 23, 24, 25, 26, 27, 28, 29, 30, 31, 32, 33,\n",
       "        34, 35, 36, 37, 38, 39, 40, 41, 42, 43, 44, 45, 46, 47, 48, 49]),\n",
       " <a list of 49 Patch objects>)"
      ]
     },
     "execution_count": 18,
     "metadata": {},
     "output_type": "execute_result"
    },
    {
     "data": {
      "image/png": "[encoded data removed]",
      "text/plain": [
       "<matplotlib.figure.Figure at 0x14c2b95d0>"
      ]
     },
     "metadata": {},
     "output_type": "display_data"
    }
   ],
   "source": [
    "plt.hist(map(lambda t: t.shape[0], chartovec_encoder.encode_sentences(text)), bins=np.arange(50))"
   ]
  },
  {
   "cell_type": "code",
   "execution_count": 17,
   "metadata": {
    "collapsed": false
   },
   "outputs": [
    {
     "data": {
      "text/plain": [
       "(array([  1.02736000e+05,   3.63000000e+02,   1.58000000e+02,\n",
       "          1.69000000e+02,   3.80000000e+01,   2.30000000e+01,\n",
       "          7.00000000e+00,   2.00000000e+00,   4.00000000e+00,\n",
       "          1.00000000e+00]),\n",
       " array([  1.00000000e+00,   2.55000000e+02,   5.09000000e+02,\n",
       "          7.63000000e+02,   1.01700000e+03,   1.27100000e+03,\n",
       "          1.52500000e+03,   1.77900000e+03,   2.03300000e+03,\n",
       "          2.28700000e+03,   2.54100000e+03]),\n",
       " <a list of 10 Patch objects>)"
      ]
     },
     "execution_count": 17,
     "metadata": {},
     "output_type": "execute_result"
    },
    {
     "data": {
      "image/png": "[encoded data removed]",
      "text/plain": [
       "<matplotlib.figure.Figure at 0x116e6eb50>"
      ]
     },
     "metadata": {},
     "output_type": "display_data"
    }
   ],
   "source": [
    "plt.hist(map(lambda t: t.shape[0], chartovec_encoder.encode_sentences(text)))"
   ]
  },
  {
   "cell_type": "code",
   "execution_count": 10,
   "metadata": {
    "collapsed": false
   },
   "outputs": [],
   "source": [
    "vec = chartovec_encoder.calculate_prelim_vec('\\nInternally').tocsc()"
   ]
  },
  {
   "cell_type": "code",
   "execution_count": 11,
   "metadata": {
    "collapsed": false
   },
   "outputs": [
    {
     "data": {
      "text/plain": [
       "(11, 93)"
      ]
     },
     "execution_count": 11,
     "metadata": {},
     "output_type": "execute_result"
    }
   ],
   "source": [
    "vec.shape"
   ]
  },
  {
   "cell_type": "code",
   "execution_count": 12,
   "metadata": {
    "collapsed": false
   },
   "outputs": [
    {
     "data": {
      "text/plain": [
       "<21x93 sparse matrix of type '<type 'numpy.float64'>'\n",
       "\twith 11 stored elements in Compressed Sparse Column format>"
      ]
     },
     "execution_count": 12,
     "metadata": {},
     "output_type": "execute_result"
    }
   ],
   "source": [
    "csc_matrix((vec.data, vec.indices, vec.indptr), shape=(21, 93))"
   ]
  },
  {
   "cell_type": "code",
   "execution_count": 13,
   "metadata": {
    "collapsed": false
   },
   "outputs": [
    {
     "data": {
      "text/plain": [
       "array([[ 1.,  0.,  0., ...,  0.,  0.,  0.],\n",
       "       [ 0.,  0.,  0., ...,  0.,  0.,  0.],\n",
       "       [ 0.,  0.,  0., ...,  0.,  0.,  0.],\n",
       "       ..., \n",
       "       [ 0.,  0.,  0., ...,  0.,  0.,  0.],\n",
       "       [ 0.,  0.,  0., ...,  0.,  0.,  0.],\n",
       "       [ 0.,  0.,  0., ...,  0.,  0.,  0.]])"
      ]
     },
     "execution_count": 13,
     "metadata": {},
     "output_type": "execute_result"
    }
   ],
   "source": [
    "chartovec_encoder.encode_sentence('Internally', startsig=True, maxlen=20).toarray()"
   ]
  },
  {
   "cell_type": "code",
   "execution_count": 16,
   "metadata": {
    "collapsed": false
   },
   "outputs": [
    {
     "data": {
      "text/plain": [
       "array([[[ 0.,  0.,  0., ...,  0.,  0.,  0.],\n",
       "        [ 0.,  0.,  0., ...,  0.,  0.,  0.],\n",
       "        [ 0.,  0.,  0., ...,  0.,  0.,  0.],\n",
       "        ..., \n",
       "        [ 0.,  0.,  0., ...,  0.,  0.,  0.],\n",
       "        [ 0.,  0.,  0., ...,  0.,  0.,  0.],\n",
       "        [ 0.,  0.,  0., ...,  0.,  0.,  0.]],\n",
       "\n",
       "       [[ 0.,  0.,  0., ...,  0.,  0.,  0.],\n",
       "        [ 0.,  0.,  0., ...,  0.,  0.,  0.],\n",
       "        [ 0.,  0.,  0., ...,  0.,  0.,  0.],\n",
       "        ..., \n",
       "        [ 0.,  0.,  0., ...,  0.,  0.,  0.],\n",
       "        [ 0.,  0.,  0., ...,  0.,  0.,  0.],\n",
       "        [ 0.,  0.,  0., ...,  0.,  0.,  0.]]])"
      ]
     },
     "execution_count": 16,
     "metadata": {},
     "output_type": "execute_result"
    }
   ],
   "source": [
    "np.array(chartovec_encoder.encode_sentences(text[21:23], sparse=False))"
   ]
  },
  {
   "cell_type": "code",
   "execution_count": 22,
   "metadata": {
    "collapsed": false
   },
   "outputs": [
    {
     "data": {
      "text/plain": [
       "array([[ 1.,  0.,  0., ...,  0.,  0.,  0.],\n",
       "       [ 0.,  0.,  0., ...,  0.,  0.,  0.],\n",
       "       [ 0.,  0.,  0., ...,  0.,  0.,  0.],\n",
       "       ..., \n",
       "       [ 0.,  0.,  0., ...,  0.,  0.,  0.],\n",
       "       [ 0.,  0.,  0., ...,  0.,  0.,  0.],\n",
       "       [ 0.,  0.,  0., ...,  0.,  0.,  0.]])"
      ]
     },
     "execution_count": 22,
     "metadata": {},
     "output_type": "execute_result"
    }
   ],
   "source": [
    "encoder_input[0].toarray()"
   ]
  },
  {
   "cell_type": "code",
   "execution_count": 23,
   "metadata": {
    "collapsed": false
   },
   "outputs": [
    {
     "data": {
      "text/plain": [
       "array([[ 1.,  0.,  0., ...,  0.,  0.,  0.],\n",
       "       [ 0.,  0.,  0., ...,  0.,  0.,  0.],\n",
       "       [ 0.,  0.,  0., ...,  0.,  0.,  0.],\n",
       "       ..., \n",
       "       [ 0.,  0.,  0., ...,  0.,  0.,  0.],\n",
       "       [ 0.,  0.,  0., ...,  0.,  0.,  0.],\n",
       "       [ 0.,  1.,  0., ...,  0.,  0.,  0.]])"
      ]
     },
     "execution_count": 23,
     "metadata": {},
     "output_type": "execute_result"
    }
   ],
   "source": [
    "decoder_input[0].toarray()"
   ]
  },
  {
   "cell_type": "code",
   "execution_count": 25,
   "metadata": {
    "collapsed": false
   },
   "outputs": [
    {
     "data": {
      "text/plain": [
       "array([[ 0.,  0.,  0., ...,  0.,  0.,  0.],\n",
       "       [ 0.,  0.,  0., ...,  0.,  0.,  0.],\n",
       "       [ 0.,  1.,  0., ...,  0.,  0.,  0.],\n",
       "       ..., \n",
       "       [ 0.,  0.,  0., ...,  0.,  0.,  0.],\n",
       "       [ 0.,  1.,  0., ...,  0.,  0.,  0.],\n",
       "       [ 1.,  0.,  0., ...,  0.,  0.,  0.]])"
      ]
     },
     "execution_count": 25,
     "metadata": {},
     "output_type": "execute_result"
    }
   ],
   "source": [
    "decoder_output[0].toarray()"
   ]
  },
  {
   "cell_type": "code",
   "execution_count": null,
   "metadata": {
    "collapsed": true
   },
   "outputs": [],
   "source": []
  }
 ],
 "metadata": {
  "anaconda-cloud": {},
  "kernelspec": {
   "display_name": "Python [Root]",
   "language": "python",
   "name": "Python [Root]"
  },
  "language_info": {
   "codemirror_mode": {
    "name": "ipython",
    "version": 2
   },
   "file_extension": ".py",
   "mimetype": "text/x-python",
   "name": "python",
   "nbconvert_exporter": "python",
   "pygments_lexer": "ipython2",
   "version": "2.7.12"
  }
 },
 "nbformat": 4,
 "nbformat_minor": 2
}
