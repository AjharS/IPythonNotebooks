{
 "cells": [
  {
   "cell_type": "code",
   "execution_count": 1,
   "metadata": {
    "collapsed": false
   },
   "outputs": [
    {
     "name": "stderr",
     "output_type": "stream",
     "text": [
      "/Users/stephenhky/anaconda/lib/python2.7/site-packages/h5py/__init__.py:34: FutureWarning: Conversion of the second argument of issubdtype from `float` to `np.floating` is deprecated. In future, it will be treated as `np.float64 == np.dtype(float).type`.\n",
      "  from ._conv import register_converters as _register_converters\n",
      "Using TensorFlow backend.\n"
     ]
    }
   ],
   "source": [
    "import shorttext\n",
    "import time\n",
    "import re"
   ]
  },
  {
   "cell_type": "code",
   "execution_count": 2,
   "metadata": {
    "collapsed": true
   },
   "outputs": [],
   "source": [
    "inaugdict = shorttext.data.inaugural()"
   ]
  },
  {
   "cell_type": "code",
   "execution_count": 3,
   "metadata": {
    "collapsed": true
   },
   "outputs": [],
   "source": [
    "def time_stem_all_words(classdict, stemfunc):\n",
    "    starttime = time.time()\n",
    "    for label in classdict:\n",
    "        for sentence in classdict[label]:\n",
    "            sentence = re.sub('[^\\w\\s]', '', sentence)\n",
    "            sentence = re.sub('[\\d]', '', sentence)\n",
    "            for token in shorttext.utils.tokenize(sentence):\n",
    "                stemfunc(token)\n",
    "    endtime = time.time()\n",
    "    print(endtime-starttime, ' sec')"
   ]
  },
  {
   "cell_type": "code",
   "execution_count": 4,
   "metadata": {
    "collapsed": false
   },
   "outputs": [
    {
     "name": "stdout",
     "output_type": "stream",
     "text": [
      "(75.53187799453735, ' sec')\n"
     ]
    }
   ],
   "source": [
    "time_stem_all_words(inaugdict, shorttext.utils.textpreprocessing.stem)"
   ]
  },
  {
   "cell_type": "code",
   "execution_count": 5,
   "metadata": {
    "collapsed": false
   },
   "outputs": [
    {
     "name": "stdout",
     "output_type": "stream",
     "text": [
      "(91.76428580284119, ' sec')\n"
     ]
    }
   ],
   "source": [
    "import gensim\n",
    "time_stem_all_words(inaugdict, gensim.parsing.stem_text)"
   ]
  },
  {
   "cell_type": "code",
   "execution_count": 6,
   "metadata": {
    "collapsed": false
   },
   "outputs": [
    {
     "name": "stdout",
     "output_type": "stream",
     "text": [
      "(79.18455696105957, ' sec')\n"
     ]
    }
   ],
   "source": [
    "from nltk import PorterStemmer\n",
    "stemmer = PorterStemmer()\n",
    "time_stem_all_words(inaugdict, stemmer.stem)"
   ]
  },
  {
   "cell_type": "code",
   "execution_count": 7,
   "metadata": {
    "collapsed": false
   },
   "outputs": [
    {
     "name": "stdout",
     "output_type": "stream",
     "text": [
      "(74.56856083869934, ' sec')\n"
     ]
    }
   ],
   "source": [
    "# https://github.com/snowballstem/pystemmer/tree/master/docs\n",
    "import Stemmer\n",
    "snowball_stemmer = Stemmer.Stemmer('english')\n",
    "time_stem_all_words(inaugdict, snowball_stemmer.stemWord)"
   ]
  },
  {
   "cell_type": "code",
   "execution_count": null,
   "metadata": {
    "collapsed": true
   },
   "outputs": [],
   "source": []
  }
 ],
 "metadata": {
  "kernelspec": {
   "display_name": "Python 2",
   "language": "python",
   "name": "python2"
  },
  "language_info": {
   "codemirror_mode": {
    "name": "ipython",
    "version": 2
   },
   "file_extension": ".py",
   "mimetype": "text/x-python",
   "name": "python",
   "nbconvert_exporter": "python",
   "pygments_lexer": "ipython2",
   "version": "2.7.13"
  }
 },
 "nbformat": 4,
 "nbformat_minor": 2
}
