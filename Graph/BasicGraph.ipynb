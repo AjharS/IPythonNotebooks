{
 "cells": [
  {
   "cell_type": "code",
   "execution_count": 1,
   "metadata": {
    "collapsed": true
   },
   "outputs": [],
   "source": [
    "import numpy as np\n",
    "import networkx as nx\n",
    "import graphflow"
   ]
  },
  {
   "cell_type": "code",
   "execution_count": 2,
   "metadata": {
    "collapsed": true
   },
   "outputs": [],
   "source": [
    "%matplotlib inline"
   ]
  },
  {
   "cell_type": "code",
   "execution_count": 3,
   "metadata": {
    "collapsed": false
   },
   "outputs": [],
   "source": [
    "g1 = nx.Graph()\n",
    "g1.add_nodes_from([0, 1, 2, 3, 4, 5])\n",
    "g1.add_weighted_edges_from([(0, 1, 0.5), (1, 2, 0.7), (0, 3, 0.6), (3, 4, 1.2), (2, 5, 0.75), (0, 5, 0.2), (3, 5, 0.5)])"
   ]
  },
  {
   "cell_type": "code",
   "execution_count": 14,
   "metadata": {
    "collapsed": false
   },
   "outputs": [
    {
     "data": {
      "image/png": "[encoded data removed]",
      "text/plain": [
       "<Figure size 600x400 with 1 Axes>"
      ]
     },
     "metadata": {},
     "output_type": "display_data"
    }
   ],
   "source": [
    "nx.draw(g1)"
   ]
  },
  {
   "cell_type": "code",
   "execution_count": 5,
   "metadata": {
    "collapsed": false
   },
   "outputs": [
    {
     "data": {
      "text/plain": [
       "array([[1., 1., 1., 0., 0., 0., 0.],\n",
       "       [1., 0., 0., 1., 0., 0., 0.],\n",
       "       [0., 0., 0., 1., 1., 0., 0.],\n",
       "       [0., 1., 0., 0., 0., 1., 1.],\n",
       "       [0., 0., 0., 0., 0., 1., 0.],\n",
       "       [0., 0., 1., 0., 1., 0., 1.]])"
      ]
     },
     "execution_count": 5,
     "metadata": {},
     "output_type": "execute_result"
    }
   ],
   "source": [
    "B = nx.incidence_matrix(g1, weight=False)\n",
    "B.toarray()"
   ]
  },
  {
   "cell_type": "code",
   "execution_count": 6,
   "metadata": {
    "collapsed": false
   },
   "outputs": [
    {
     "data": {
      "text/plain": [
       "array([[0, 1, 0, 1, 0, 1],\n",
       "       [1, 0, 1, 0, 0, 0],\n",
       "       [0, 1, 0, 0, 0, 1],\n",
       "       [1, 0, 0, 0, 1, 1],\n",
       "       [0, 0, 0, 1, 0, 0],\n",
       "       [1, 0, 1, 1, 0, 0]])"
      ]
     },
     "execution_count": 6,
     "metadata": {},
     "output_type": "execute_result"
    }
   ],
   "source": [
    "A = nx.adjacency_matrix(g1, weight=False)\n",
    "A.toarray()"
   ]
  },
  {
   "cell_type": "code",
   "execution_count": 7,
   "metadata": {
    "collapsed": false
   },
   "outputs": [
    {
     "data": {
      "text/plain": [
       "array([[3, 0, 0, 0, 0, 0],\n",
       "       [0, 2, 0, 0, 0, 0],\n",
       "       [0, 0, 2, 0, 0, 0],\n",
       "       [0, 0, 0, 3, 0, 0],\n",
       "       [0, 0, 0, 0, 1, 0],\n",
       "       [0, 0, 0, 0, 0, 3]])"
      ]
     },
     "execution_count": 7,
     "metadata": {},
     "output_type": "execute_result"
    }
   ],
   "source": [
    "D = np.diag(np.sum(A.toarray(), axis=0))\n",
    "D"
   ]
  },
  {
   "cell_type": "code",
   "execution_count": 8,
   "metadata": {
    "collapsed": false
   },
   "outputs": [
    {
     "data": {
      "text/plain": [
       "array([[ 3, -1,  0, -1,  0, -1],\n",
       "       [-1,  2, -1,  0,  0,  0],\n",
       "       [ 0, -1,  2,  0,  0, -1],\n",
       "       [-1,  0,  0,  3, -1, -1],\n",
       "       [ 0,  0,  0, -1,  1,  0],\n",
       "       [-1,  0, -1, -1,  0,  3]])"
      ]
     },
     "execution_count": 8,
     "metadata": {},
     "output_type": "execute_result"
    }
   ],
   "source": [
    "L = nx.laplacian_matrix(g1, weight=False)\n",
    "L.toarray()"
   ]
  },
  {
   "cell_type": "code",
   "execution_count": 9,
   "metadata": {
    "collapsed": false
   },
   "outputs": [
    {
     "data": {
      "text/plain": [
       "array([3.98138928e-16, 4.89795910e-01, 1.13696720e+00, 1.46697256e+00,\n",
       "       2.51003909e+00, 3.29622524e+00])"
      ]
     },
     "execution_count": 9,
     "metadata": {},
     "output_type": "execute_result"
    }
   ],
   "source": [
    "nx.laplacian_spectrum(g1)"
   ]
  },
  {
   "cell_type": "code",
   "execution_count": 10,
   "metadata": {
    "collapsed": false
   },
   "outputs": [
    {
     "data": {
      "text/plain": [
       "(array([[-6.01500955e-01, -3.90731184e-01, -3.71748034e-01,\n",
       "          4.08248290e-01, -1.18303883e-01,  4.08248290e-01],\n",
       "        [ 3.71748034e-01,  1.18303883e-01, -6.01500955e-01,\n",
       "         -4.08248290e-01, -3.90731184e-01,  4.08248290e-01],\n",
       "        [-3.71748034e-01,  1.18303883e-01,  6.01500955e-01,\n",
       "         -4.08248290e-01, -3.90731184e-01,  4.08248290e-01],\n",
       "        [ 3.62511910e-15,  7.81462367e-01,  1.81918218e-15,\n",
       "          4.08248290e-01,  2.36607767e-01,  4.08248290e-01],\n",
       "        [-1.18147307e-15, -2.36607767e-01, -2.34038916e-16,\n",
       "         -4.08248290e-01,  7.81462367e-01,  4.08248290e-01],\n",
       "        [ 6.01500955e-01, -3.90731184e-01,  3.71748034e-01,\n",
       "          4.08248290e-01, -1.18303883e-01,  4.08248290e-01]]),\n",
       " array([4.61803399e+00, 4.30277564e+00, 2.38196601e+00, 2.00000000e+00,\n",
       "        6.97224362e-01, 3.94314919e-16]),\n",
       " array([[-6.01500955e-01,  3.71748034e-01, -3.71748034e-01,\n",
       "          3.58173906e-15, -1.07253433e-15,  6.01500955e-01],\n",
       "        [-3.90731184e-01,  1.18303883e-01,  1.18303883e-01,\n",
       "          7.81462367e-01, -2.36607767e-01, -3.90731184e-01],\n",
       "        [-3.71748034e-01, -6.01500955e-01,  6.01500955e-01,\n",
       "          3.58134945e-15, -7.10140962e-16,  3.71748034e-01],\n",
       "        [ 4.08248290e-01, -4.08248290e-01, -4.08248290e-01,\n",
       "          4.08248290e-01, -4.08248290e-01,  4.08248290e-01],\n",
       "        [-1.18303883e-01, -3.90731184e-01, -3.90731184e-01,\n",
       "          2.36607767e-01,  7.81462367e-01, -1.18303883e-01],\n",
       "        [-4.08248290e-01, -4.08248290e-01, -4.08248290e-01,\n",
       "         -4.08248290e-01, -4.08248290e-01, -4.08248290e-01]]))"
      ]
     },
     "execution_count": 10,
     "metadata": {},
     "output_type": "execute_result"
    }
   ],
   "source": [
    "np.linalg.svd(L.toarray())"
   ]
  },
  {
   "cell_type": "code",
   "execution_count": 11,
   "metadata": {
    "collapsed": false
   },
   "outputs": [
    {
     "data": {
      "text/plain": [
       "array([[3., 1., 0., 1., 0., 1.],\n",
       "       [1., 2., 1., 0., 0., 0.],\n",
       "       [0., 1., 2., 0., 0., 1.],\n",
       "       [1., 0., 0., 3., 1., 1.],\n",
       "       [0., 0., 0., 1., 1., 0.],\n",
       "       [1., 0., 1., 1., 0., 3.]])"
      ]
     },
     "execution_count": 11,
     "metadata": {},
     "output_type": "execute_result"
    }
   ],
   "source": [
    "np.matmul(B.toarray(), B.toarray().T)"
   ]
  },
  {
   "cell_type": "code",
   "execution_count": null,
   "metadata": {
    "collapsed": true
   },
   "outputs": [],
   "source": []
  }
 ],
 "metadata": {
  "kernelspec": {
   "display_name": "Python [anaconda]",
   "language": "python",
   "name": "Python [anaconda]"
  },
  "language_info": {
   "codemirror_mode": {
    "name": "ipython",
    "version": 2
   },
   "file_extension": ".py",
   "mimetype": "text/x-python",
   "name": "python",
   "nbconvert_exporter": "python",
   "pygments_lexer": "ipython2",
   "version": "2.7.12"
  }
 },
 "nbformat": 4,
 "nbformat_minor": 0
}
