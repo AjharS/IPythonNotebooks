{
 "cells": [
  {
   "cell_type": "code",
   "execution_count": 1,
   "metadata": {
    "collapsed": true
   },
   "outputs": [],
   "source": [
    "import matplotlib.pyplot as plt\n",
    "import tensorflow as tf\n",
    "import numpy as np\n",
    "%matplotlib inline"
   ]
  },
  {
   "cell_type": "code",
   "execution_count": 2,
   "metadata": {
    "collapsed": false
   },
   "outputs": [],
   "source": [
    "train_X = np.asarray([3.3,4.4,5.5,6.71,6.93,4.168,9.779,6.182,7.59,2.167,\n",
    "                         7.042,10.791,5.313,7.997,5.654,9.27,3.1])\n",
    "train_Y = np.asarray([1.7,2.76,2.09,3.19,1.694,1.573,3.366,2.596,2.53,1.221,\n",
    "                         2.827,3.465,1.65,2.904,2.42,2.94,1.3])\n",
    "n_samples = train_X.shape[0]"
   ]
  },
  {
   "cell_type": "code",
   "execution_count": 3,
   "metadata": {
    "collapsed": false
   },
   "outputs": [],
   "source": [
    "X = tf.placeholder('float')\n",
    "Y = tf.placeholder('float')\n",
    "W = tf.Variable(np.random.randn(), name='weight')\n",
    "b = tf.Variable(np.random.randn(), name='bias')"
   ]
  },
  {
   "cell_type": "code",
   "execution_count": 4,
   "metadata": {
    "collapsed": false
   },
   "outputs": [],
   "source": [
    "activation = tf.add(tf.multiply(X, W), b)"
   ]
  },
  {
   "cell_type": "code",
   "execution_count": 5,
   "metadata": {
    "collapsed": false
   },
   "outputs": [],
   "source": [
    "cost = tf.reduce_sum(tf.pow(activation-Y, 2.))/(2*n_samples)"
   ]
  },
  {
   "cell_type": "code",
   "execution_count": 6,
   "metadata": {
    "collapsed": false
   },
   "outputs": [],
   "source": [
    "optimizer = tf.train.GradientDescentOptimizer(0.01).minimize(cost)"
   ]
  },
  {
   "cell_type": "code",
   "execution_count": 7,
   "metadata": {
    "collapsed": true
   },
   "outputs": [],
   "source": [
    "init = tf.global_variables_initializer()"
   ]
  },
  {
   "cell_type": "code",
   "execution_count": 8,
   "metadata": {
    "collapsed": false
   },
   "outputs": [
    {
     "name": "stdout",
     "output_type": "stream",
     "text": [
      "('Epoch:', '0050', 'cost=', '0.297238231', 'W=', 0.5119133, 'b=', -1.0856432)\n",
      "('Epoch:', '0100', 'cost=', '0.271797031', 'W=', 0.49631187, 'b=', -0.97340763)\n",
      "('Epoch:', '0150', 'cost=', '0.249293551', 'W=', 0.48163855, 'b=', -0.86784828)\n",
      "('Epoch:', '0200', 'cost=', '0.229388207', 'W=', 0.46783757, 'b=', -0.76856548)\n",
      "('Epoch:', '0250', 'cost=', '0.211781532', 'W=', 0.45485762, 'b=', -0.67518848)\n",
      "('Epoch:', '0300', 'cost=', '0.196207821', 'W=', 0.44264951, 'b=', -0.58736455)\n",
      "('Epoch:', '0350', 'cost=', '0.182432786', 'W=', 0.43116775, 'b=', -0.50476515)\n",
      "('Epoch:', '0400', 'cost=', '0.170248300', 'W=', 0.42036861, 'b=', -0.42707732)\n",
      "('Epoch:', '0450', 'cost=', '0.159471020', 'W=', 0.41021186, 'b=', -0.35401016)\n",
      "('Epoch:', '0500', 'cost=', '0.149938360', 'W=', 0.40065911, 'b=', -0.28528833)\n",
      "('Epoch:', '0550', 'cost=', '0.141506702', 'W=', 0.39167452, 'b=', -0.22065385)\n",
      "('Epoch:', '0600', 'cost=', '0.134048909', 'W=', 0.38322431, 'b=', -0.15986355)\n",
      "('Epoch:', '0650', 'cost=', '0.127452552', 'W=', 0.37527674, 'b=', -0.10268878)\n",
      "('Epoch:', '0700', 'cost=', '0.121618159', 'W=', 0.36780173, 'b=', -0.048914436)\n",
      "('Epoch:', '0750', 'cost=', '0.116457745', 'W=', 0.36077136, 'b=', 0.0016617305)\n",
      "('Epoch:', '0800', 'cost=', '0.111893483', 'W=', 0.35415906, 'b=', 0.049229935)\n",
      "('Epoch:', '0850', 'cost=', '0.107856572', 'W=', 0.34794006, 'b=', 0.093968965)\n",
      "('Epoch:', '0900', 'cost=', '0.104286060', 'W=', 0.34209093, 'b=', 0.13604721)\n",
      "('Epoch:', '0950', 'cost=', '0.101128116', 'W=', 0.33658963, 'b=', 0.17562294)\n",
      "('Epoch:', '1000', 'cost=', '0.098335117', 'W=', 0.33141559, 'b=', 0.21284485)\n",
      "Optimization Finished!\n",
      "('Training cost=', 0.098335117, 'W=', 0.33141559, 'b=', 0.21284485, '\\n')\n"
     ]
    },
    {
     "data": {
      "image/png": "[encoded data removed]",
      "text/plain": [
       "<matplotlib.figure.Figure at 0x106233990>"
      ]
     },
     "metadata": {},
     "output_type": "display_data"
    }
   ],
   "source": [
    "display_step = 50\n",
    "with tf.Session() as sess:\n",
    "    sess.run(init)\n",
    "\n",
    "    # Fit all training data\n",
    "    for epoch in range(1000):\n",
    "        for (x, y) in zip(train_X, train_Y):\n",
    "            sess.run(optimizer, feed_dict={X: x, Y: y})\n",
    "\n",
    "        # Display logs per epoch step\n",
    "        if (epoch+1) % display_step == 0:\n",
    "            c = sess.run(cost, feed_dict={X: train_X, Y:train_Y})\n",
    "            print(\"Epoch:\", '%04d' % (epoch+1), \"cost=\", \"{:.9f}\".format(c), \\\n",
    "                \"W=\", sess.run(W), \"b=\", sess.run(b))\n",
    "\n",
    "    print(\"Optimization Finished!\")\n",
    "    training_cost = sess.run(cost, feed_dict={X: train_X, Y: train_Y})\n",
    "    print(\"Training cost=\", training_cost, \"W=\", sess.run(W), \"b=\", sess.run(b), '\\n')\n",
    "\n",
    "    # Graphic display\n",
    "    plt.plot(train_X, train_Y, 'ro', label='Original data')\n",
    "    plt.plot(train_X, sess.run(W) * train_X + sess.run(b), label='Fitted line')\n",
    "    plt.legend()\n",
    "    plt.show()"
   ]
  },
  {
   "cell_type": "code",
   "execution_count": null,
   "metadata": {
    "collapsed": true
   },
   "outputs": [],
   "source": []
  }
 ],
 "metadata": {
  "kernelspec": {
   "display_name": "Python [Root]",
   "language": "python",
   "name": "Python [Root]"
  },
  "language_info": {
   "codemirror_mode": {
    "name": "ipython",
    "version": 2
   },
   "file_extension": ".py",
   "mimetype": "text/x-python",
   "name": "python",
   "nbconvert_exporter": "python",
   "pygments_lexer": "ipython2",
   "version": "2.7.12"
  }
 },
 "nbformat": 4,
 "nbformat_minor": 0
}
