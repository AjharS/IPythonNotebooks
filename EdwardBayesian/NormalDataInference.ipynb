{
 "cells": [
  {
   "cell_type": "code",
   "execution_count": 1,
   "metadata": {
    "collapsed": true
   },
   "outputs": [],
   "source": [
    "import numpy as np"
   ]
  },
  {
   "cell_type": "code",
   "execution_count": 2,
   "metadata": {
    "collapsed": true
   },
   "outputs": [],
   "source": [
    "mu = np.array([2.1,-1.5])\n",
    "sigma = np.array([[5.7, 0.7], [0.7, 8.6]])"
   ]
  },
  {
   "cell_type": "code",
   "execution_count": 3,
   "metadata": {
    "collapsed": false
   },
   "outputs": [],
   "source": [
    "v, e = np.linalg.eig(sigma)"
   ]
  },
  {
   "cell_type": "code",
   "execution_count": 4,
   "metadata": {
    "collapsed": true
   },
   "outputs": [],
   "source": [
    "xt0 = np.random.normal(0.0, v[0], size=1000)\n",
    "xt1 = np.random.normal(0.0, v[1], size=1000)"
   ]
  },
  {
   "cell_type": "code",
   "execution_count": 5,
   "metadata": {
    "collapsed": false
   },
   "outputs": [],
   "source": [
    "X = np.matmul(e, np.array([xt0, xt1]))"
   ]
  },
  {
   "cell_type": "code",
   "execution_count": 6,
   "metadata": {
    "collapsed": false
   },
   "outputs": [
    {
     "data": {
      "text/plain": [
       "array([[  5.79989848,  -3.72730258, -14.38935201, ...,  -0.49196157,\n",
       "          1.21740085,   5.4385806 ],\n",
       "       [ -3.31483374,  -3.10112237,  -4.4272495 , ...,   6.16014984,\n",
       "         -2.77868385,   1.2251711 ]])"
      ]
     },
     "execution_count": 6,
     "metadata": {},
     "output_type": "execute_result"
    }
   ],
   "source": [
    "X"
   ]
  },
  {
   "cell_type": "code",
   "execution_count": 7,
   "metadata": {
    "collapsed": false
   },
   "outputs": [],
   "source": [
    "X[0,:] += mu[0]\n",
    "X[1,:] += mu[1]"
   ]
  },
  {
   "cell_type": "code",
   "execution_count": 8,
   "metadata": {
    "collapsed": false
   },
   "outputs": [
    {
     "data": {
      "text/plain": [
       "array([[  7.89989848,  -1.62730258, -12.28935201, ...,   1.60803843,\n",
       "          3.31740085,   7.5385806 ],\n",
       "       [ -4.81483374,  -4.60112237,  -5.9272495 , ...,   4.66014984,\n",
       "         -4.27868385,  -0.2748289 ]])"
      ]
     },
     "execution_count": 8,
     "metadata": {},
     "output_type": "execute_result"
    }
   ],
   "source": [
    "X"
   ]
  },
  {
   "cell_type": "code",
   "execution_count": 3,
   "metadata": {
    "collapsed": true
   },
   "outputs": [],
   "source": [
    "def check_symmetric(a, tol=1e-8):\n",
    "    return np.allclose(a, a.T, atol=tol)"
   ]
  },
  {
   "cell_type": "code",
   "execution_count": 16,
   "metadata": {
    "collapsed": true
   },
   "outputs": [],
   "source": [
    "def multivar_norm_pdf(X, mu, sigma):\n",
    "    n = len(mu)\n",
    "    assert len(X)==n\n",
    "    assert np.shape(sigma)==(n, n)\n",
    "    assert check_symmetric(sigma)\n",
    "    \n",
    "    inv_sigma = np.linalg.inv(sigma)\n",
    "    \n",
    "    exponent = np.matmul(np.matmul((X-mu).reshape(1,2), inv_sigma), (X-mu).reshape(2,1))\n",
    "    \n",
    "    sigma_eigvals = np.linalg.eigvals(sigma)\n",
    "    \n",
    "    return np.sqrt(np.sum(np.prod(sigma_eigvals))/(2*np.pi)**n) * np.exp(-exponent)"
   ]
  },
  {
   "cell_type": "code",
   "execution_count": 20,
   "metadata": {
    "collapsed": false
   },
   "outputs": [
    {
     "data": {
      "text/plain": [
       "array([[1.05260365]])"
      ]
     },
     "execution_count": 20,
     "metadata": {},
     "output_type": "execute_result"
    }
   ],
   "source": [
    "multivar_norm_pdf(np.array([2.5, -1.0]), mu, sigma)"
   ]
  },
  {
   "cell_type": "code",
   "execution_count": 13,
   "metadata": {
    "collapsed": false
   },
   "outputs": [
    {
     "data": {
      "text/plain": [
       "(2, 2)"
      ]
     },
     "execution_count": 13,
     "metadata": {},
     "output_type": "execute_result"
    }
   ],
   "source": [
    "np.mat"
   ]
  },
  {
   "cell_type": "code",
   "execution_count": null,
   "metadata": {
    "collapsed": true
   },
   "outputs": [],
   "source": []
  }
 ],
 "metadata": {
  "anaconda-cloud": {},
  "kernelspec": {
   "display_name": "Python 2",
   "language": "python",
   "name": "python2"
  },
  "language_info": {
   "codemirror_mode": {
    "name": "ipython",
    "version": 2
   },
   "file_extension": ".py",
   "mimetype": "text/x-python",
   "name": "python",
   "nbconvert_exporter": "python",
   "pygments_lexer": "ipython2",
   "version": "2.7.13"
  }
 },
 "nbformat": 4,
 "nbformat_minor": 0
}
