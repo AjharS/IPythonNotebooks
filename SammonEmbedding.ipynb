{
 "cells": [
  {
   "cell_type": "code",
   "execution_count": 1,
   "metadata": {
    "collapsed": false
   },
   "outputs": [],
   "source": [
    "import numpy as np\n",
    "import matplotlib.pyplot as plt\n",
    "import tensorflow as tf\n",
    "%matplotlib inline"
   ]
  },
  {
   "cell_type": "code",
   "execution_count": 2,
   "metadata": {
    "collapsed": true
   },
   "outputs": [],
   "source": [
    "tetrahedron_points = [np.array([0., 0., 0.]),\n",
    "                      np.array([1., 0., 0.]),\n",
    "                      np.array([np.cos(np.pi/3), np.sin(np.pi/3), 0.]),\n",
    "                      np.array([0.5, 0.5/np.sqrt(3), np.sqrt(2./3.)])]\n",
    "\n",
    "sampled_points = np.concatenate([np.random.multivariate_normal(point, np.eye(3)*0.0001, 10)\n",
    "                                 for point in tetrahedron_points])\n",
    "\n",
    "init_points = np.concatenate([np.random.multivariate_normal(point[:2], np.eye(2)*0.0001, 10)\n",
    "                              for point in tetrahedron_points])"
   ]
  },
  {
   "cell_type": "code",
   "execution_count": 3,
   "metadata": {
    "collapsed": true
   },
   "outputs": [],
   "source": [
    "N = sampled_points.shape[0]\n",
    "d = sampled_points.shape[1]"
   ]
  },
  {
   "cell_type": "code",
   "execution_count": 4,
   "metadata": {
    "collapsed": false
   },
   "outputs": [],
   "source": [
    "X = tf.placeholder('float')\n",
    "Xshape = tf.shape(X)\n",
    "\n",
    "sqX = tf.reduce_sum(X*X, 1)\n",
    "sqX = tf.reshape(sqX, [-1, 1])\n",
    "sqDX = sqX - 2*tf.matmul(X, tf.transpose(X)) + tf.transpose(sqX)\n",
    "DX = tf.sqrt(sqDX)\n",
    "\n",
    "Y = tf.Variable(init_points, dtype='float')\n",
    "sqY = tf.reduce_sum(Y*Y, 1)\n",
    "sqY = tf.reshape(sqY, [-1, 1])\n",
    "sqDY = sqY - 2*tf.matmul(Y, tf.transpose(Y)) + tf.transpose(sqY)\n",
    "DY = tf.sqrt(sqDY)"
   ]
  },
  {
   "cell_type": "code",
   "execution_count": 5,
   "metadata": {
    "collapsed": false
   },
   "outputs": [],
   "source": [
    "Z = tf.reduce_sum(DX)*0.5\n",
    "cost = tf.reduce_sum(tf.divide(tf.square(DX-DY), DX))*0.5"
   ]
  },
  {
   "cell_type": "code",
   "execution_count": 6,
   "metadata": {
    "collapsed": true
   },
   "outputs": [],
   "source": [
    "optimizer = tf.train.GradientDescentOptimizer(0.01).minimize(cost)\n",
    "init = tf.global_variables_initializer()"
   ]
  },
  {
   "cell_type": "code",
   "execution_count": 7,
   "metadata": {
    "collapsed": true
   },
   "outputs": [],
   "source": [
    "sess = tf.Session()"
   ]
  },
  {
   "cell_type": "code",
   "execution_count": 8,
   "metadata": {
    "collapsed": true
   },
   "outputs": [],
   "source": [
    "sess.run(init)"
   ]
  },
  {
   "cell_type": "code",
   "execution_count": 9,
   "metadata": {
    "collapsed": false
   },
   "outputs": [
    {
     "data": {
      "text/plain": [
       "array([[ 0.        ,  0.01725471,  0.03230405, ...,  0.98257208,\n",
       "         1.00708711,  0.98473948],\n",
       "       [ 0.01725471,  0.        ,  0.02151917, ...,  0.98990685,\n",
       "         1.01440847,  0.99179047],\n",
       "       [ 0.03230405,  0.02151917,  0.        , ...,  0.9908241 ,\n",
       "         1.01538837,  0.99260306],\n",
       "       ..., \n",
       "       [ 0.98257208,  0.98990685,  0.9908241 , ...,  0.        ,\n",
       "         0.02483763,  0.01817823],\n",
       "       [ 1.00708711,  1.01440847,  1.01538837, ...,  0.02483883,\n",
       "         0.        ,  0.02835082],\n",
       "       [ 0.98473948,  0.99179047,  0.99260306, ...,  0.01817823,\n",
       "         0.02835187,  0.        ]], dtype=float32)"
      ]
     },
     "execution_count": 9,
     "metadata": {},
     "output_type": "execute_result"
    }
   ],
   "source": [
    "sess.run(DX, feed_dict={X: sampled_points})"
   ]
  },
  {
   "cell_type": "code",
   "execution_count": 10,
   "metadata": {
    "collapsed": false
   },
   "outputs": [
    {
     "data": {
      "text/plain": [
       "array([[ 0.        ,  0.00897681,  0.01639934, ...,  0.5865441 ,\n",
       "         0.57201755,  0.56491607],\n",
       "       [ 0.00897681,  0.        ,  0.01704324, ...,  0.59475619,\n",
       "         0.58035648,  0.57311779],\n",
       "       [ 0.01639934,  0.01704324,  0.        , ...,  0.59623224,\n",
       "         0.58122152,  0.57464874],\n",
       "       ..., \n",
       "       [ 0.5865441 ,  0.59475619,  0.59623224, ...,  0.        ,\n",
       "         0.02574497,  0.02169557],\n",
       "       [ 0.57201755,  0.58035648,  0.58122152, ...,  0.02574497,\n",
       "         0.        ,  0.02364512],\n",
       "       [ 0.56491607,  0.57311779,  0.57464874, ...,  0.02169557,\n",
       "         0.02364512,  0.        ]], dtype=float32)"
      ]
     },
     "execution_count": 10,
     "metadata": {},
     "output_type": "execute_result"
    }
   ],
   "source": [
    "sess.run(DY, feed_dict={X: sampled_points})"
   ]
  },
  {
   "cell_type": "code",
   "execution_count": 11,
   "metadata": {
    "collapsed": false
   },
   "outputs": [],
   "source": [
    "calculated_Y = sess.run(Y, feed_dict={X: sampled_points})"
   ]
  },
  {
   "cell_type": "code",
   "execution_count": 12,
   "metadata": {
    "collapsed": false
   },
   "outputs": [],
   "source": [
    "sess.close()"
   ]
  },
  {
   "cell_type": "code",
   "execution_count": 13,
   "metadata": {
    "collapsed": false
   },
   "outputs": [
    {
     "data": {
      "text/plain": [
       "[<matplotlib.lines.Line2D at 0x120656c90>]"
      ]
     },
     "execution_count": 13,
     "metadata": {},
     "output_type": "execute_result"
    },
    {
     "data": {
      "image/png": "[encoded data removed]",
      "text/plain": [
       "<matplotlib.figure.Figure at 0x1205efb90>"
      ]
     },
     "metadata": {},
     "output_type": "display_data"
    }
   ],
   "source": [
    "embed1, embed2 = calculated_Y.transpose()\n",
    "plt.plot(embed1, embed2, 'ro')"
   ]
  },
  {
   "cell_type": "code",
   "execution_count": null,
   "metadata": {
    "collapsed": true
   },
   "outputs": [],
   "source": []
  }
 ],
 "metadata": {
  "anaconda-cloud": {},
  "kernelspec": {
   "display_name": "Python [Root]",
   "language": "python",
   "name": "Python [Root]"
  },
  "language_info": {
   "codemirror_mode": {
    "name": "ipython",
    "version": 2
   },
   "file_extension": ".py",
   "mimetype": "text/x-python",
   "name": "python",
   "nbconvert_exporter": "python",
   "pygments_lexer": "ipython2",
   "version": "2.7.12"
  }
 },
 "nbformat": 4,
 "nbformat_minor": 0
}
