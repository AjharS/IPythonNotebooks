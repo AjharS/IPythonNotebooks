{
 "cells": [
  {
   "cell_type": "code",
   "execution_count": 1,
   "metadata": {
    "collapsed": false
   },
   "outputs": [
    {
     "name": "stderr",
     "output_type": "stream",
     "text": [
      "/Users/stephenhky/anaconda/lib/python2.7/site-packages/h5py/__init__.py:34: FutureWarning: Conversion of the second argument of issubdtype from `float` to `np.floating` is deprecated. In future, it will be treated as `np.float64 == np.dtype(float).type`.\n",
      "  from ._conv import register_converters as _register_converters\n"
     ]
    }
   ],
   "source": [
    "import numpy as np\n",
    "import tensorflow as tf"
   ]
  },
  {
   "cell_type": "code",
   "execution_count": 71,
   "metadata": {
    "collapsed": false
   },
   "outputs": [],
   "source": [
    "x = np.random.uniform(low=-10.0, high=10.0, size=100).reshape((50, 2))\n",
    "y = np.matmul(x, np.array([[-1.2], [1.5]])) + 4.3 + np.random.normal(scale=0.5, size=50).reshape((50, 1))"
   ]
  },
  {
   "cell_type": "code",
   "execution_count": 72,
   "metadata": {
    "collapsed": true
   },
   "outputs": [],
   "source": [
    "X = tf.constant(x, dtype='float', name='X')\n",
    "Y = tf.constant(y, dtype='float', name='Y')"
   ]
  },
  {
   "cell_type": "code",
   "execution_count": 73,
   "metadata": {
    "collapsed": true
   },
   "outputs": [],
   "source": [
    "nbtrain = X.shape[0]\n",
    "nbfeatures = X.shape[1]"
   ]
  },
  {
   "cell_type": "code",
   "execution_count": 74,
   "metadata": {
    "collapsed": false
   },
   "outputs": [
    {
     "data": {
      "text/plain": [
       "Dimension(50)"
      ]
     },
     "execution_count": 74,
     "metadata": {},
     "output_type": "execute_result"
    }
   ],
   "source": [
    "nbtrain"
   ]
  },
  {
   "cell_type": "code",
   "execution_count": 75,
   "metadata": {
    "collapsed": false
   },
   "outputs": [],
   "source": [
    "theta = tf.Variable(np.random.uniform(size=nbfeatures), name='theta', dtype='float')"
   ]
  },
  {
   "cell_type": "code",
   "execution_count": 76,
   "metadata": {
    "collapsed": true
   },
   "outputs": [],
   "source": [
    "b = tf.Variable(np.random.uniform(), name='b', dtype='float')"
   ]
  },
  {
   "cell_type": "code",
   "execution_count": 77,
   "metadata": {
    "collapsed": false
   },
   "outputs": [],
   "source": [
    "pred_Y = tf.multiply(theta, X) + b"
   ]
  },
  {
   "cell_type": "code",
   "execution_count": 78,
   "metadata": {
    "collapsed": false
   },
   "outputs": [],
   "source": [
    "cost = tf.divide(tf.reduce_sum(tf.pow(pred_Y - Y, 2)), nbtrain.value)"
   ]
  },
  {
   "cell_type": "code",
   "execution_count": 79,
   "metadata": {
    "collapsed": true
   },
   "outputs": [],
   "source": [
    "initializer = tf.global_variables_initializer()"
   ]
  },
  {
   "cell_type": "code",
   "execution_count": 80,
   "metadata": {
    "collapsed": true
   },
   "outputs": [],
   "source": [
    "optimizer = tf.train.GradientDescentOptimizer(0.01).minimize(cost)"
   ]
  },
  {
   "cell_type": "code",
   "execution_count": 81,
   "metadata": {
    "collapsed": false
   },
   "outputs": [
    {
     "name": "stdout",
     "output_type": "stream",
     "text": [
      "('Epoch:', '0050', 'cost=', '119.445045471', 'theta=', array([-1.5026338,  1.7361884], dtype=float32), 'b=', 3.3082218)\n",
      "('Epoch:', '0100', 'cost=', '119.165687561', 'theta=', array([-1.5067239,  1.7427598], dtype=float32), 'b=', 3.6367326)\n",
      "('Epoch:', '0150', 'cost=', '119.160804749', 'theta=', array([-1.5072649,  1.743629 ], dtype=float32), 'b=', 3.6801777)\n",
      "('Epoch:', '0200', 'cost=', '119.160728455', 'theta=', array([-1.5073364,  1.7437439], dtype=float32), 'b=', 3.685923)\n",
      "('Epoch:', '0250', 'cost=', '119.160736084', 'theta=', array([-1.5073458,  1.7437592], dtype=float32), 'b=', 3.6866834)\n",
      "('Epoch:', '0300', 'cost=', '119.160736084', 'theta=', array([-1.5073471,  1.7437611], dtype=float32), 'b=', 3.6867836)\n",
      "('Epoch:', '0350', 'cost=', '119.160720825', 'theta=', array([-1.5073472,  1.7437613], dtype=float32), 'b=', 3.686796)\n",
      "('Epoch:', '0400', 'cost=', '119.160720825', 'theta=', array([-1.5073472,  1.7437613], dtype=float32), 'b=', 3.686796)\n",
      "('Epoch:', '0450', 'cost=', '119.160720825', 'theta=', array([-1.5073472,  1.7437613], dtype=float32), 'b=', 3.686796)\n",
      "('Epoch:', '0500', 'cost=', '119.160720825', 'theta=', array([-1.5073472,  1.7437613], dtype=float32), 'b=', 3.686796)\n",
      "('Epoch:', '0550', 'cost=', '119.160720825', 'theta=', array([-1.5073472,  1.7437613], dtype=float32), 'b=', 3.686796)\n",
      "('Epoch:', '0600', 'cost=', '119.160720825', 'theta=', array([-1.5073472,  1.7437613], dtype=float32), 'b=', 3.686796)\n",
      "('Epoch:', '0650', 'cost=', '119.160720825', 'theta=', array([-1.5073472,  1.7437613], dtype=float32), 'b=', 3.686796)\n",
      "('Epoch:', '0700', 'cost=', '119.160720825', 'theta=', array([-1.5073472,  1.7437613], dtype=float32), 'b=', 3.686796)\n",
      "('Epoch:', '0750', 'cost=', '119.160720825', 'theta=', array([-1.5073472,  1.7437613], dtype=float32), 'b=', 3.686796)\n",
      "('Epoch:', '0800', 'cost=', '119.160720825', 'theta=', array([-1.5073472,  1.7437613], dtype=float32), 'b=', 3.686796)\n",
      "('Epoch:', '0850', 'cost=', '119.160720825', 'theta=', array([-1.5073472,  1.7437613], dtype=float32), 'b=', 3.686796)\n",
      "('Epoch:', '0900', 'cost=', '119.160720825', 'theta=', array([-1.5073472,  1.7437613], dtype=float32), 'b=', 3.686796)\n",
      "('Epoch:', '0950', 'cost=', '119.160720825', 'theta=', array([-1.5073472,  1.7437613], dtype=float32), 'b=', 3.686796)\n",
      "('Epoch:', '1000', 'cost=', '119.160720825', 'theta=', array([-1.5073472,  1.7437613], dtype=float32), 'b=', 3.686796)\n",
      "Optimization Finished!\n",
      "('Training cost=', 119.16072, 'theta=', array([-1.5073472,  1.7437613], dtype=float32), 'b=', 3.686796, '\\n')\n"
     ]
    }
   ],
   "source": [
    "display_step = 50\n",
    "with tf.Session() as sess:\n",
    "    sess.run(initializer)\n",
    "\n",
    "    # Fit all training data\n",
    "    for epoch in range(1000):\n",
    "        sess.run(optimizer)\n",
    "\n",
    "        # Display logs per epoch step\n",
    "        if (epoch+1) % display_step == 0:\n",
    "            c = sess.run(cost)\n",
    "            print(\"Epoch:\", '%04d' % (epoch+1), \"cost=\", \"{:.9f}\".format(c), \\\n",
    "                  \"theta=\", sess.run(theta), \"b=\", sess.run(b))\n",
    "\n",
    "    print(\"Optimization Finished!\")\n",
    "    training_cost = sess.run(cost)\n",
    "    print(\"Training cost=\", training_cost, \"theta=\", sess.run(theta), \"b=\", sess.run(b), '\\n')"
   ]
  },
  {
   "cell_type": "code",
   "execution_count": null,
   "metadata": {
    "collapsed": true
   },
   "outputs": [],
   "source": [
    "initializer"
   ]
  }
 ],
 "metadata": {
  "kernelspec": {
   "display_name": "Python 2",
   "language": "python",
   "name": "python2"
  },
  "language_info": {
   "codemirror_mode": {
    "name": "ipython",
    "version": 2
   },
   "file_extension": ".py",
   "mimetype": "text/x-python",
   "name": "python",
   "nbconvert_exporter": "python",
   "pygments_lexer": "ipython2",
   "version": "2.7.13"
  }
 },
 "nbformat": 4,
 "nbformat_minor": 2
}
