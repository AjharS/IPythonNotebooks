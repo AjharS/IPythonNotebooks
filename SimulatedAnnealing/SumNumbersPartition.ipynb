{
 "cells": [
  {
   "cell_type": "code",
   "execution_count": 1,
   "metadata": {
    "collapsed": true
   },
   "outputs": [],
   "source": [
    "import numpy as np\n",
    "from collections import defaultdict"
   ]
  },
  {
   "cell_type": "code",
   "execution_count": 2,
   "metadata": {
    "collapsed": false
   },
   "outputs": [
    {
     "data": {
      "text/plain": [
       "array([3, 4, 7, 6, 8])"
      ]
     },
     "execution_count": 2,
     "metadata": {},
     "output_type": "execute_result"
    }
   ],
   "source": [
    "nums = np.array([3, 4, 7, 6, 8], dtype=np.int)\n",
    "nums"
   ]
  },
  {
   "cell_type": "code",
   "execution_count": 15,
   "metadata": {
    "collapsed": false
   },
   "outputs": [
    {
     "name": "stdout",
     "output_type": "stream",
     "text": [
      "run 0\n",
      "run 1\n",
      "run 2\n",
      "run 3\n",
      "run 4\n",
      "run 5\n",
      "run 6\n",
      "run 7\n",
      "run 8\n",
      "run 9\n",
      "run 10\n",
      "run 11\n",
      "run 12\n",
      "run 13\n",
      "run 14\n",
      "run 15\n",
      "run 16\n",
      "run 17\n",
      "run 18\n",
      "run 19\n",
      "run 20\n",
      "run 21\n",
      "run 22\n",
      "run 23\n",
      "run 24\n",
      "run 25\n",
      "run 26\n",
      "run 27\n",
      "run 28\n",
      "run 29\n",
      "run 30\n",
      "run 31\n",
      "run 32\n",
      "run 33\n",
      "run 34\n",
      "run 35\n",
      "run 36\n",
      "run 37\n",
      "run 38\n",
      "run 39\n",
      "run 40\n",
      "run 41\n",
      "run 42\n",
      "run 43\n",
      "run 44\n",
      "run 45\n",
      "run 46\n",
      "run 47\n",
      "run 48\n",
      "run 49\n",
      "run 50\n",
      "run 51\n",
      "run 52\n",
      "run 53\n",
      "run 54\n",
      "run 55\n",
      "run 56\n",
      "run 57\n",
      "run 58\n",
      "run 59\n",
      "run 60\n",
      "run 61\n",
      "run 62\n",
      "run 63\n",
      "run 64\n",
      "run 65\n",
      "run 66\n",
      "run 67\n",
      "run 68\n",
      "run 69\n",
      "run 70\n",
      "run 71\n",
      "run 72\n",
      "run 73\n",
      "run 74\n",
      "run 75\n",
      "run 76\n",
      "run 77\n",
      "run 78\n",
      "run 79\n",
      "run 80\n",
      "run 81\n",
      "run 82\n",
      "run 83\n",
      "run 84\n",
      "run 85\n",
      "run 86\n",
      "run 87\n",
      "run 88\n",
      "run 89\n",
      "run 90\n",
      "run 91\n",
      "run 92\n",
      "run 93\n",
      "run 94\n",
      "run 95\n",
      "run 96\n",
      "run 97\n",
      "run 98\n",
      "run 99\n"
     ]
    }
   ],
   "source": [
    "results_stat = defaultdict(lambda : 0)\n",
    "\n",
    "for i in range(100):\n",
    "    print(\"run {}\".format(i))\n",
    "    qubits = np.random.choice([-1, 1], size=len(nums))\n",
    "    free_energy = np.sum([2*nums[i]*nums[j]*qubits[i]*qubits[j] for i in range(len(nums)) for j in range(i)])\n",
    "\n",
    "    beta = 0.1\n",
    "    maxbeta = 10000\n",
    "    maxsteps = 10000\n",
    "\n",
    "    for step in range(maxsteps):\n",
    "        idx_tochange = np.random.choice(range(len(nums)))\n",
    "        new_qubits = qubits.copy()\n",
    "        new_qubits[idx_tochange] *= (-1)\n",
    "        new_free_energy = np.sum([2*nums[i]*nums[j]*new_qubits[i]*new_qubits[j] for i in range(len(nums)) for j in range(i)])\n",
    "#         print('energy: {}; new energy: {}'.format(free_energy, new_free_energy))\n",
    "#         print(qubits)\n",
    "#         print(new_qubits)\n",
    "        if new_free_energy < free_energy or np.exp(-beta*(new_free_energy-free_energy)) > np.random.uniform():\n",
    "            qubits = new_qubits\n",
    "            free_energy = new_free_energy\n",
    "#             print('\\tAccepted')\n",
    "        if step % 1000 == 0:\n",
    "            beta *= 1.01\n",
    "#             print('beta: {}'.format(beta))\n",
    "        if beta > maxbeta:\n",
    "            break\n",
    "            \n",
    "    results_stat[tuple(qubits)] += 1"
   ]
  },
  {
   "cell_type": "code",
   "execution_count": 16,
   "metadata": {
    "collapsed": false
   },
   "outputs": [
    {
     "data": {
      "text/plain": [
       "defaultdict(<function __main__.<lambda>>,\n",
       "            {(-1, -1, -1, 1, 1): 19,\n",
       "             (-1, -1, 1, -1, 1): 7,\n",
       "             (-1, -1, 1, 1, -1): 16,\n",
       "             (-1, 1, -1, -1, 1): 3,\n",
       "             (1, -1, 1, 1, -1): 3,\n",
       "             (1, 1, -1, -1, 1): 17,\n",
       "             (1, 1, -1, 1, -1): 9,\n",
       "             (1, 1, 1, -1, -1): 26})"
      ]
     },
     "execution_count": 16,
     "metadata": {},
     "output_type": "execute_result"
    }
   ],
   "source": [
    "results_stat"
   ]
  },
  {
   "cell_type": "code",
   "execution_count": 9,
   "metadata": {
    "collapsed": false
   },
   "outputs": [
    {
     "name": "stdout",
     "output_type": "stream",
     "text": [
      "[-1 -1 -1  1  1]\n",
      "999\n",
      "0.101\n",
      "-174\n"
     ]
    }
   ],
   "source": [
    "print(qubits)\n",
    "print(step)\n",
    "print(beta)\n",
    "print(free_energy)"
   ]
  },
  {
   "cell_type": "code",
   "execution_count": 8,
   "metadata": {
    "collapsed": false
   },
   "outputs": [
    {
     "data": {
      "text/plain": [
       "1.6358287111890398e+43"
      ]
     },
     "execution_count": 8,
     "metadata": {},
     "output_type": "execute_result"
    }
   ],
   "source": [
    "1.01**10000"
   ]
  },
  {
   "cell_type": "code",
   "execution_count": null,
   "metadata": {
    "collapsed": true
   },
   "outputs": [],
   "source": []
  }
 ],
 "metadata": {
  "kernelspec": {
   "display_name": "Python 2",
   "language": "python",
   "name": "python2"
  },
  "language_info": {
   "codemirror_mode": {
    "name": "ipython",
    "version": 2
   },
   "file_extension": ".py",
   "mimetype": "text/x-python",
   "name": "python",
   "nbconvert_exporter": "python",
   "pygments_lexer": "ipython2",
   "version": "2.7.13"
  }
 },
 "nbformat": 4,
 "nbformat_minor": 2
}
