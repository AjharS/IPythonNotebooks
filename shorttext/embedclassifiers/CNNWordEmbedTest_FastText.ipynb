{
 "cells": [
  {
   "cell_type": "code",
   "execution_count": 1,
   "metadata": {
    "collapsed": false
   },
   "outputs": [
    {
     "name": "stderr",
     "output_type": "stream",
     "text": [
      "//anaconda/lib/python2.7/site-packages/h5py/__init__.py:36: FutureWarning: Conversion of the second argument of issubdtype from `float` to `np.floating` is deprecated. In future, it will be treated as `np.float64 == np.dtype(float).type`.\n",
      "  from ._conv import register_converters as _register_converters\n",
      "Using TensorFlow backend.\n"
     ]
    }
   ],
   "source": [
    "import shorttext\n",
    "import numpy as np"
   ]
  },
  {
   "cell_type": "code",
   "execution_count": 3,
   "metadata": {
    "collapsed": false
   },
   "outputs": [],
   "source": [
    "wvmodel = shorttext.utils.load_fasttext_model('/Users/hok/Data/FastText/wiki.simple/wiki.simple.bin')"
   ]
  },
  {
   "cell_type": "code",
   "execution_count": 4,
   "metadata": {
    "collapsed": true
   },
   "outputs": [],
   "source": [
    "classdict = shorttext.data.subjectkeywords()"
   ]
  },
  {
   "cell_type": "code",
   "execution_count": 5,
   "metadata": {
    "collapsed": false
   },
   "outputs": [
    {
     "name": "stdout",
     "output_type": "stream",
     "text": [
      "Epoch 1/10\n",
      "45/45 [==============================] - 0s 8ms/step - loss: 1.0654\n",
      "Epoch 2/10\n",
      "45/45 [==============================] - 0s 1ms/step - loss: 0.4507\n",
      "Epoch 3/10\n",
      "45/45 [==============================] - 0s 2ms/step - loss: 0.2374\n",
      "Epoch 4/10\n",
      "45/45 [==============================] - 0s 1ms/step - loss: 0.1553\n",
      "Epoch 5/10\n",
      "45/45 [==============================] - 0s 1ms/step - loss: 0.1086\n",
      "Epoch 6/10\n",
      "45/45 [==============================] - 0s 987us/step - loss: 0.0822\n",
      "Epoch 7/10\n",
      "45/45 [==============================] - 0s 1ms/step - loss: 0.0668\n",
      "Epoch 8/10\n",
      "45/45 [==============================] - 0s 1ms/step - loss: 0.0555\n",
      "Epoch 9/10\n",
      "45/45 [==============================] - 0s 900us/step - loss: 0.0453\n",
      "Epoch 10/10\n",
      "45/45 [==============================] - 0s 906us/step - loss: 0.0666\n"
     ]
    }
   ],
   "source": [
    "kmodel = shorttext.classifiers.frameworks.CNNWordEmbed(len(classdict.keys()), vecsize=wvmodel.vector_size)\n",
    "classifier = shorttext.classifiers.VarNNEmbeddedVecClassifier(wvmodel)\n",
    "classifier.train(classdict, kmodel)"
   ]
  },
  {
   "cell_type": "code",
   "execution_count": 6,
   "metadata": {
    "collapsed": false
   },
   "outputs": [
    {
     "data": {
      "text/plain": [
       "{'mathematics': 0.0018376664, 'physics': 0.998151, 'theology': 1.133132e-05}"
      ]
     },
     "execution_count": 6,
     "metadata": {},
     "output_type": "execute_result"
    }
   ],
   "source": [
    "classifier.score('linear physics')"
   ]
  },
  {
   "cell_type": "code",
   "execution_count": 7,
   "metadata": {
    "collapsed": false
   },
   "outputs": [],
   "source": [
    "classifier.save_compact_model('./subjmodel2.bin')"
   ]
  },
  {
   "cell_type": "code",
   "execution_count": 9,
   "metadata": {
    "collapsed": false
   },
   "outputs": [],
   "source": [
    "classifier2 = shorttext.smartload_compact_model('./subjmodel2.bin', wvmodel)"
   ]
  },
  {
   "cell_type": "code",
   "execution_count": 10,
   "metadata": {
    "collapsed": false
   },
   "outputs": [
    {
     "data": {
      "text/plain": [
       "{'mathematics': 0.0018376664, 'physics': 0.998151, 'theology': 1.133132e-05}"
      ]
     },
     "execution_count": 10,
     "metadata": {},
     "output_type": "execute_result"
    }
   ],
   "source": [
    "classifier2.score('linear physics')"
   ]
  },
  {
   "cell_type": "code",
   "execution_count": 14,
   "metadata": {
    "collapsed": false
   },
   "outputs": [
    {
     "data": {
      "text/plain": [
       "{'mathematics': 0.8612188, 'physics': 0.13775231, 'theology': 0.0010288754}"
      ]
     },
     "execution_count": 14,
     "metadata": {},
     "output_type": "execute_result"
    }
   ],
   "source": [
    "classifier2.score('topological data')"
   ]
  },
  {
   "cell_type": "code",
   "execution_count": 15,
   "metadata": {
    "collapsed": false
   },
   "outputs": [
    {
     "data": {
      "text/plain": [
       "{'mathematics': 0.9774869, 'physics': 0.021267606, 'theology': 0.0012454829}"
      ]
     },
     "execution_count": 15,
     "metadata": {},
     "output_type": "execute_result"
    }
   ],
   "source": [
    "classifier2.score('topology datum')"
   ]
  },
  {
   "cell_type": "code",
   "execution_count": 16,
   "metadata": {
    "collapsed": false
   },
   "outputs": [
    {
     "data": {
      "text/plain": [
       "{'mathematics': 0.0010581213, 'physics': 0.9985257, 'theology': 0.00041626624}"
      ]
     },
     "execution_count": 16,
     "metadata": {},
     "output_type": "execute_result"
    }
   ],
   "source": [
    "classifier2.score('quantum cohomology')"
   ]
  },
  {
   "cell_type": "code",
   "execution_count": null,
   "metadata": {
    "collapsed": true
   },
   "outputs": [],
   "source": []
  }
 ],
 "metadata": {
  "anaconda-cloud": {},
  "kernelspec": {
   "display_name": "Python [Root]",
   "language": "python",
   "name": "Python [Root]"
  },
  "language_info": {
   "codemirror_mode": {
    "name": "ipython",
    "version": 2
   },
   "file_extension": ".py",
   "mimetype": "text/x-python",
   "name": "python",
   "nbconvert_exporter": "python",
   "pygments_lexer": "ipython2",
   "version": "2.7.12"
  }
 },
 "nbformat": 4,
 "nbformat_minor": 0
}
