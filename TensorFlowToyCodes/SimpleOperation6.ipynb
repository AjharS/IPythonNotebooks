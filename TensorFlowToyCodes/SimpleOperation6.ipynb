{
 "cells": [
  {
   "cell_type": "code",
   "execution_count": 1,
   "metadata": {
    "collapsed": true
   },
   "outputs": [],
   "source": [
    "import numpy as np\n",
    "import tensorflow as tf"
   ]
  },
  {
   "cell_type": "code",
   "execution_count": 2,
   "metadata": {
    "collapsed": true
   },
   "outputs": [],
   "source": [
    "Y = tf.Variable(np.random.rand(5,2), dtype='float')\n",
    "sqY = tf.reduce_sum(Y*Y, 1)\n",
    "sqY = tf.reshape(sqY, [-1, 1])\n",
    "sqDY = sqY - 2*tf.matmul(Y, tf.transpose(Y)) + tf.transpose(sqY)\n",
    "DY = tf.sqrt(sqDY)"
   ]
  },
  {
   "cell_type": "code",
   "execution_count": 3,
   "metadata": {
    "collapsed": true
   },
   "outputs": [],
   "source": [
    "init = tf.global_variables_initializer()\n",
    "sess = tf.Session()\n",
    "sess.run(init)"
   ]
  },
  {
   "cell_type": "code",
   "execution_count": 4,
   "metadata": {
    "collapsed": false
   },
   "outputs": [
    {
     "data": {
      "text/plain": [
       "array([[ 0.38740048,  0.44377303],\n",
       "       [ 0.13173872,  0.66987783],\n",
       "       [ 0.55111778,  0.59641796],\n",
       "       [ 0.47506228,  0.5284853 ],\n",
       "       [ 0.71277624,  0.28119344]], dtype=float32)"
      ]
     },
     "execution_count": 4,
     "metadata": {},
     "output_type": "execute_result"
    }
   ],
   "source": [
    "sess.run(Y)"
   ]
  },
  {
   "cell_type": "code",
   "execution_count": 5,
   "metadata": {
    "collapsed": false
   },
   "outputs": [
    {
     "data": {
      "text/plain": [
       "array([[ 0.        ,  0.11648631,  0.05010384,  0.01486075,  0.13230151],\n",
       "       [ 0.11648631,  0.        ,  0.18127513,  0.13786286,  0.48868012],\n",
       "       [ 0.05010384,  0.18127513,  0.        ,  0.01039928,  0.12549996],\n",
       "       [ 0.01486075,  0.13786286,  0.01039928,  0.        ,  0.11766112],\n",
       "       [ 0.13230151,  0.48868012,  0.12549996,  0.11766112,  0.        ]], dtype=float32)"
      ]
     },
     "execution_count": 5,
     "metadata": {},
     "output_type": "execute_result"
    }
   ],
   "source": [
    "sess.run(sqDY)"
   ]
  },
  {
   "cell_type": "code",
   "execution_count": 6,
   "metadata": {
    "collapsed": false
   },
   "outputs": [
    {
     "data": {
      "text/plain": [
       "array([[ 0.        ,  0.3413009 ,  0.22383888,  0.12190467,  0.36373276],\n",
       "       [ 0.3413009 ,  0.        ,  0.42576411,  0.37129888,  0.69905657],\n",
       "       [ 0.22383888,  0.42576411,  0.        ,  0.10197686,  0.35425973],\n",
       "       [ 0.12190467,  0.37129888,  0.10197686,  0.        ,  0.34301767],\n",
       "       [ 0.36373276,  0.69905657,  0.35425973,  0.34301767,  0.        ]], dtype=float32)"
      ]
     },
     "execution_count": 6,
     "metadata": {},
     "output_type": "execute_result"
    }
   ],
   "source": [
    "sess.run(DY)"
   ]
  },
  {
   "cell_type": "code",
   "execution_count": 7,
   "metadata": {
    "collapsed": false
   },
   "outputs": [
    {
     "data": {
      "text/plain": [
       "[array([[-1.28437233, -1.20352936],\n",
       "        [-6.3976078 ,  3.31856632],\n",
       "        [ 1.98997402,  1.84936905],\n",
       "        [ 0.46886349,  0.49071598],\n",
       "        [ 5.22314262, -4.45512104]], dtype=float32)]"
      ]
     },
     "execution_count": 7,
     "metadata": {},
     "output_type": "execute_result"
    }
   ],
   "source": [
    "sess.run(tf.gradients(tf.reshape(sqDY, [-1]), Y))"
   ]
  },
  {
   "cell_type": "code",
   "execution_count": 8,
   "metadata": {
    "collapsed": false
   },
   "outputs": [
    {
     "data": {
      "text/plain": [
       "[array([[-3.19194746, -3.18470192],\n",
       "        [-6.97982597,  3.54366684],\n",
       "        [ 4.01178932,  4.13074875],\n",
       "        [ 0.40987587,  0.7377491 ],\n",
       "        [ 5.75011158, -5.22746181]], dtype=float32)]"
      ]
     },
     "execution_count": 8,
     "metadata": {},
     "output_type": "execute_result"
    }
   ],
   "source": [
    "sess.run(tf.gradients(tf.reshape(tf.reduce_sum(tf.sqrt(sqDY+tf.diag(tf.ones(5)))), [-1]), Y))"
   ]
  },
  {
   "cell_type": "code",
   "execution_count": 9,
   "metadata": {
    "collapsed": false
   },
   "outputs": [
    {
     "data": {
      "text/plain": [
       "array([ 0.        ,  0.11648631,  0.05010384,  0.01486075,  0.13230151,\n",
       "        0.11648631,  0.        ,  0.18127513,  0.13786286,  0.48868012,\n",
       "        0.05010384,  0.18127513,  0.        ,  0.01039928,  0.12549996,\n",
       "        0.01486075,  0.13786286,  0.01039928,  0.        ,  0.11766112,\n",
       "        0.13230151,  0.48868012,  0.12549996,  0.11766112,  0.        ], dtype=float32)"
      ]
     },
     "execution_count": 9,
     "metadata": {},
     "output_type": "execute_result"
    }
   ],
   "source": [
    "sess.run(tf.reshape(sqDY, [-1]))"
   ]
  },
  {
   "cell_type": "code",
   "execution_count": 10,
   "metadata": {
    "collapsed": false
   },
   "outputs": [
    {
     "data": {
      "text/plain": [
       "[array([[-0.64218581, -0.60176468],\n",
       "        [-3.19880342,  1.65928316],\n",
       "        [ 0.99498677,  0.92468452],\n",
       "        [ 0.23443198,  0.24535799],\n",
       "        [ 2.61157155, -2.22756052]], dtype=float32)]"
      ]
     },
     "execution_count": 10,
     "metadata": {},
     "output_type": "execute_result"
    }
   ],
   "source": [
    "sess.run(tf.gradients(tf.reduce_sum([sqDY[i, j] for i in range(5) for j in range(i+1, 5)]), Y))"
   ]
  },
  {
   "cell_type": "code",
   "execution_count": 11,
   "metadata": {
    "collapsed": false
   },
   "outputs": [
    {
     "data": {
      "text/plain": [
       "[array([[-1.59597421, -1.59235096],\n",
       "        [-3.48991275,  1.7718339 ],\n",
       "        [ 2.00589371,  2.06537437],\n",
       "        [ 0.20493698,  0.3688736 ],\n",
       "        [ 2.87505531, -2.61372995]], dtype=float32)]"
      ]
     },
     "execution_count": 11,
     "metadata": {},
     "output_type": "execute_result"
    }
   ],
   "source": [
    "sess.run(tf.gradients(tf.reduce_sum([tf.sqrt(sqDY[i, j]) for i in range(5) for j in range(i+1, 5)]), Y))"
   ]
  },
  {
   "cell_type": "code",
   "execution_count": 12,
   "metadata": {
    "collapsed": false
   },
   "outputs": [
    {
     "data": {
      "text/plain": [
       "[array([[ nan,  nan],\n",
       "        [ nan,  nan],\n",
       "        [ nan,  nan],\n",
       "        [ nan,  nan],\n",
       "        [ nan,  nan]], dtype=float32)]"
      ]
     },
     "execution_count": 12,
     "metadata": {},
     "output_type": "execute_result"
    }
   ],
   "source": [
    "sess.run(tf.gradients(tf.reduce_sum([DY[i, j] for i in range(5) for j in range(i+1, 5)]), Y))"
   ]
  },
  {
   "cell_type": "code",
   "execution_count": 13,
   "metadata": {
    "collapsed": false
   },
   "outputs": [
    {
     "data": {
      "text/plain": [
       "[0.3413009,\n",
       " 0.22383888,\n",
       " 0.12190467,\n",
       " 0.36373276,\n",
       " 0.42576411,\n",
       " 0.37129888,\n",
       " 0.69905657,\n",
       " 0.10197686,\n",
       " 0.35425973,\n",
       " 0.34301767]"
      ]
     },
     "execution_count": 13,
     "metadata": {},
     "output_type": "execute_result"
    }
   ],
   "source": [
    "sess.run([DY[i, j] for i in range(5) for j in range(i+1, 5)])"
   ]
  },
  {
   "cell_type": "code",
   "execution_count": 14,
   "metadata": {
    "collapsed": false
   },
   "outputs": [
    {
     "data": {
      "text/plain": [
       "[0.3413009,\n",
       " 0.22383888,\n",
       " 0.12190467,\n",
       " 0.36373276,\n",
       " 0.42576411,\n",
       " 0.37129888,\n",
       " 0.69905657,\n",
       " 0.10197686,\n",
       " 0.35425973,\n",
       " 0.34301767]"
      ]
     },
     "execution_count": 14,
     "metadata": {},
     "output_type": "execute_result"
    }
   ],
   "source": [
    "sess.run([tf.stack(DY[i, j]) for i in range(5) for j in range(i+1, 5)])"
   ]
  },
  {
   "cell_type": "code",
   "execution_count": 15,
   "metadata": {
    "collapsed": true
   },
   "outputs": [],
   "source": [
    "sess.close()"
   ]
  },
  {
   "cell_type": "code",
   "execution_count": null,
   "metadata": {
    "collapsed": true
   },
   "outputs": [],
   "source": []
  }
 ],
 "metadata": {
  "anaconda-cloud": {},
  "kernelspec": {
   "display_name": "Python [Root]",
   "language": "python",
   "name": "Python [Root]"
  },
  "language_info": {
   "codemirror_mode": {
    "name": "ipython",
    "version": 2
   },
   "file_extension": ".py",
   "mimetype": "text/x-python",
   "name": "python",
   "nbconvert_exporter": "python",
   "pygments_lexer": "ipython2",
   "version": "2.7.12"
  }
 },
 "nbformat": 4,
 "nbformat_minor": 0
}
