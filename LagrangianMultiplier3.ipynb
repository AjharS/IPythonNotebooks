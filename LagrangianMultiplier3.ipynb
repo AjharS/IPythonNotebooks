{
 "cells": [
  {
   "cell_type": "code",
   "execution_count": 1,
   "metadata": {
    "collapsed": true
   },
   "outputs": [],
   "source": [
    "import numpy as np\n",
    "import cvxopt\n",
    "from cvxopt import matrix, solvers"
   ]
  },
  {
   "cell_type": "code",
   "execution_count": 14,
   "metadata": {
    "collapsed": true
   },
   "outputs": [],
   "source": [
    "Q = 2*matrix([[1., 0.], [0., 1.]])\n",
    "p = matrix([-2., 2.])\n",
    "G = matrix([[0., 0.,], [0., 0.]])\n",
    "h = matrix([0., 0.])\n",
    "A = matrix([1., 1.], (1, 2))\n",
    "b = matrix([3.])"
   ]
  },
  {
   "cell_type": "code",
   "execution_count": 15,
   "metadata": {
    "collapsed": false
   },
   "outputs": [
    {
     "name": "stdout",
     "output_type": "stream",
     "text": [
      "     pcost       dcost       gap    pres   dres\n",
      " 0:  2.5000e+00  2.5000e+00  2e+00  1e+00  3e-16\n",
      " 1:  2.5000e+00  2.5000e+00  2e-02  1e-02  0e+00\n",
      " 2:  2.5000e+00  2.5000e+00  2e-04  1e-04  0e+00\n",
      " 3:  2.5000e+00  2.5000e+00  2e-06  1e-06  0e+00\n",
      " 4:  2.5000e+00  2.5000e+00  2e-08  1e-08  0e+00\n",
      "Optimal solution found.\n"
     ]
    }
   ],
   "source": [
    "sol = solvers.qp(Q, p, G, h, A, b)"
   ]
  },
  {
   "cell_type": "code",
   "execution_count": 16,
   "metadata": {
    "collapsed": false
   },
   "outputs": [
    {
     "data": {
      "text/plain": [
       "{'dual infeasibility': 0.0,\n",
       " 'dual objective': 2.5,\n",
       " 'dual slack': 1.0,\n",
       " 'gap': 2.000000000000006e-08,\n",
       " 'iterations': 4,\n",
       " 'primal infeasibility': 1.4142135623730993e-08,\n",
       " 'primal objective': 2.5,\n",
       " 'primal slack': 1.000000000000003e-08,\n",
       " 'relative gap': 8.000000000000024e-09,\n",
       " 's': <2x1 matrix, tc='d'>,\n",
       " 'status': 'optimal',\n",
       " 'x': <2x1 matrix, tc='d'>,\n",
       " 'y': <1x1 matrix, tc='d'>,\n",
       " 'z': <2x1 matrix, tc='d'>}"
      ]
     },
     "execution_count": 16,
     "metadata": {},
     "output_type": "execute_result"
    }
   ],
   "source": [
    "sol"
   ]
  },
  {
   "cell_type": "code",
   "execution_count": 17,
   "metadata": {
    "collapsed": false
   },
   "outputs": [
    {
     "name": "stdout",
     "output_type": "stream",
     "text": [
      "[ 2.50e+00]\n",
      "[ 5.00e-01]\n",
      "\n"
     ]
    }
   ],
   "source": [
    "print(sol['x'])"
   ]
  },
  {
   "cell_type": "code",
   "execution_count": 18,
   "metadata": {
    "collapsed": false
   },
   "outputs": [
    {
     "name": "stdout",
     "output_type": "stream",
     "text": [
      "[-3.00e+00]\n",
      "\n"
     ]
    }
   ],
   "source": [
    "print(sol['y'])"
   ]
  },
  {
   "cell_type": "code",
   "execution_count": 19,
   "metadata": {
    "collapsed": false
   },
   "outputs": [
    {
     "name": "stdout",
     "output_type": "stream",
     "text": [
      "[ 1.00e+00]\n",
      "[ 1.00e+00]\n",
      "\n"
     ]
    }
   ],
   "source": [
    "print(sol['z'])"
   ]
  },
  {
   "cell_type": "code",
   "execution_count": null,
   "metadata": {
    "collapsed": true
   },
   "outputs": [],
   "source": []
  }
 ],
 "metadata": {
  "anaconda-cloud": {},
  "kernelspec": {
   "display_name": "Python [Root]",
   "language": "python",
   "name": "Python [Root]"
  },
  "language_info": {
   "codemirror_mode": {
    "name": "ipython",
    "version": 2
   },
   "file_extension": ".py",
   "mimetype": "text/x-python",
   "name": "python",
   "nbconvert_exporter": "python",
   "pygments_lexer": "ipython2",
   "version": "2.7.12"
  }
 },
 "nbformat": 4,
 "nbformat_minor": 0
}
