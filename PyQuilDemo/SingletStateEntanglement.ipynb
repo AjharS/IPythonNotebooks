{
 "cells": [
  {
   "cell_type": "code",
   "execution_count": 1,
   "metadata": {
    "collapsed": true
   },
   "outputs": [],
   "source": [
    "import numpy as np\n",
    "\n",
    "from pyquil.quil import Program\n",
    "import pyquil.api as api\n",
    "from pyquil.gates import H, X, Z, CNOT\n",
    "\n",
    "from pyqentangle import schmidt_decomposition\n",
    "from pyqentangle.schmidt import bipartitepurestate_reduceddensitymatrix\n",
    "from pyqentangle.metrics import entanglement_entropy, negativity"
   ]
  },
  {
   "cell_type": "code",
   "execution_count": 2,
   "metadata": {
    "collapsed": true
   },
   "outputs": [],
   "source": [
    "# starting the quantum simulator\n",
    "quantum_simulator = api.SyncConnection()"
   ]
  },
  {
   "cell_type": "code",
   "execution_count": 3,
   "metadata": {
    "collapsed": true
   },
   "outputs": [],
   "source": [
    "# generating singlet state\n",
    "# 1. Hadamard gate\n",
    "# 2. Pauli-Z\n",
    "# 3. CNOT\n",
    "# 4. NOT\n",
    "p = Program(H(0), Z(0), CNOT(0, 1), X(1))\n",
    "wavefunc, _ = quantum_simulator.wavefunction(p)"
   ]
  },
  {
   "cell_type": "code",
   "execution_count": 4,
   "metadata": {
    "collapsed": false
   },
   "outputs": [
    {
     "name": "stdout",
     "output_type": "stream",
     "text": [
      "(-0.7071067812+0j)|01> + (0.7071067812+0j)|10>\n"
     ]
    }
   ],
   "source": [
    "print wavefunc"
   ]
  },
  {
   "cell_type": "code",
   "execution_count": 5,
   "metadata": {
    "collapsed": false
   },
   "outputs": [],
   "source": [
    "# reshape to a tensor suitable for pyqentangle\n",
    "tensorcomp = wavefunc.amplitudes.reshape((2, 2))"
   ]
  },
  {
   "cell_type": "code",
   "execution_count": 6,
   "metadata": {
    "collapsed": false
   },
   "outputs": [
    {
     "name": "stdout",
     "output_type": "stream",
     "text": [
      "0.5  :  [ 0.+0.j  1.+0.j]   [ 1.+0.j  0.+0.j]\n",
      "0.5  :  [-1.+0.j  0.+0.j]   [ 0.+0.j  1.+0.j]\n"
     ]
    }
   ],
   "source": [
    "# Schmidt decomposition\n",
    "schmidt_modes = schmidt_decomposition(tensorcomp)\n",
    "for prob, modeA, modeB in schmidt_modes:\n",
    "    print prob, ' : ', modeA, ' ', modeB"
   ]
  },
  {
   "cell_type": "code",
   "execution_count": 7,
   "metadata": {
    "collapsed": false
   },
   "outputs": [
    {
     "name": "stdout",
     "output_type": "stream",
     "text": [
      "Entanglement entropy =  0.69314718056\n",
      "Negativity =  -1.11022302463e-16\n"
     ]
    }
   ],
   "source": [
    "print 'Entanglement entropy = ', entanglement_entropy(bipartitepurestate_reduceddensitymatrix(tensorcomp, 0))\n",
    "print 'Negativity = ', negativity(bipartitepurestate_reduceddensitymatrix(tensorcomp, 0))"
   ]
  },
  {
   "cell_type": "code",
   "execution_count": null,
   "metadata": {
    "collapsed": true
   },
   "outputs": [],
   "source": []
  }
 ],
 "metadata": {
  "kernelspec": {
   "display_name": "Python [Root]",
   "language": "python",
   "name": "Python [Root]"
  },
  "language_info": {
   "codemirror_mode": {
    "name": "ipython",
    "version": 2
   },
   "file_extension": ".py",
   "mimetype": "text/x-python",
   "name": "python",
   "nbconvert_exporter": "python",
   "pygments_lexer": "ipython2",
   "version": "2.7.12"
  }
 },
 "nbformat": 4,
 "nbformat_minor": 0
}
