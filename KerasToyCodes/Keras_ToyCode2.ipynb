{
 "cells": [
  {
   "cell_type": "code",
   "execution_count": 1,
   "metadata": {
    "collapsed": false
   },
   "outputs": [
    {
     "name": "stderr",
     "output_type": "stream",
     "text": [
      "Using TensorFlow backend.\n"
     ]
    }
   ],
   "source": [
    "import numpy as np\n",
    "import keras\n",
    "from keras.models import Model\n",
    "from keras.layers import Input, RepeatVector"
   ]
  },
  {
   "cell_type": "code",
   "execution_count": 2,
   "metadata": {
    "collapsed": true
   },
   "outputs": [],
   "source": [
    "x = Input((3,), dtype='float32')"
   ]
  },
  {
   "cell_type": "code",
   "execution_count": 3,
   "metadata": {
    "collapsed": false
   },
   "outputs": [],
   "source": [
    "y = RepeatVector(3)(x)"
   ]
  },
  {
   "cell_type": "code",
   "execution_count": 4,
   "metadata": {
    "collapsed": true
   },
   "outputs": [],
   "source": [
    "model = Model(inputs=[x], outputs=[y])"
   ]
  },
  {
   "cell_type": "code",
   "execution_count": 5,
   "metadata": {
    "collapsed": true
   },
   "outputs": [],
   "source": [
    "model.compile(loss='categorical_crossentropy', optimizer='rmsprop')"
   ]
  },
  {
   "cell_type": "code",
   "execution_count": 10,
   "metadata": {
    "collapsed": true
   },
   "outputs": [],
   "source": [
    "narr = np.random.uniform(size=(10,3))"
   ]
  },
  {
   "cell_type": "code",
   "execution_count": 11,
   "metadata": {
    "collapsed": false
   },
   "outputs": [
    {
     "data": {
      "text/plain": [
       "array([[ 0.8727667 ,  0.77686895,  0.98681144],\n",
       "       [ 0.94393849,  0.39779492,  0.6836395 ],\n",
       "       [ 0.23114847,  0.08874397,  0.88527441],\n",
       "       [ 0.23927103,  0.89002002,  0.74145195],\n",
       "       [ 0.84868343,  0.82862882,  0.78920199],\n",
       "       [ 0.32051311,  0.24290723,  0.9528696 ],\n",
       "       [ 0.12891393,  0.77918169,  0.18708763],\n",
       "       [ 0.27416402,  0.30541085,  0.38783858],\n",
       "       [ 0.15931438,  0.88168637,  0.82656431],\n",
       "       [ 0.53972001,  0.95474418,  0.86034678]])"
      ]
     },
     "execution_count": 11,
     "metadata": {},
     "output_type": "execute_result"
    }
   ],
   "source": [
    "narr"
   ]
  },
  {
   "cell_type": "code",
   "execution_count": 12,
   "metadata": {
    "collapsed": false
   },
   "outputs": [
    {
     "data": {
      "text/plain": [
       "array([[[ 0.87276673,  0.77686894,  0.98681146],\n",
       "        [ 0.87276673,  0.77686894,  0.98681146],\n",
       "        [ 0.87276673,  0.77686894,  0.98681146]],\n",
       "\n",
       "       [[ 0.94393849,  0.39779493,  0.68363953],\n",
       "        [ 0.94393849,  0.39779493,  0.68363953],\n",
       "        [ 0.94393849,  0.39779493,  0.68363953]],\n",
       "\n",
       "       [[ 0.23114847,  0.08874398,  0.88527441],\n",
       "        [ 0.23114847,  0.08874398,  0.88527441],\n",
       "        [ 0.23114847,  0.08874398,  0.88527441]],\n",
       "\n",
       "       [[ 0.23927103,  0.89002001,  0.74145198],\n",
       "        [ 0.23927103,  0.89002001,  0.74145198],\n",
       "        [ 0.23927103,  0.89002001,  0.74145198]],\n",
       "\n",
       "       [[ 0.84868342,  0.82862884,  0.78920197],\n",
       "        [ 0.84868342,  0.82862884,  0.78920197],\n",
       "        [ 0.84868342,  0.82862884,  0.78920197]],\n",
       "\n",
       "       [[ 0.3205131 ,  0.24290723,  0.95286959],\n",
       "        [ 0.3205131 ,  0.24290723,  0.95286959],\n",
       "        [ 0.3205131 ,  0.24290723,  0.95286959]],\n",
       "\n",
       "       [[ 0.12891392,  0.77918172,  0.18708764],\n",
       "        [ 0.12891392,  0.77918172,  0.18708764],\n",
       "        [ 0.12891392,  0.77918172,  0.18708764]],\n",
       "\n",
       "       [[ 0.27416402,  0.30541086,  0.38783857],\n",
       "        [ 0.27416402,  0.30541086,  0.38783857],\n",
       "        [ 0.27416402,  0.30541086,  0.38783857]],\n",
       "\n",
       "       [[ 0.15931438,  0.88168639,  0.82656431],\n",
       "        [ 0.15931438,  0.88168639,  0.82656431],\n",
       "        [ 0.15931438,  0.88168639,  0.82656431]],\n",
       "\n",
       "       [[ 0.53972   ,  0.95474416,  0.86034679],\n",
       "        [ 0.53972   ,  0.95474416,  0.86034679],\n",
       "        [ 0.53972   ,  0.95474416,  0.86034679]]], dtype=float32)"
      ]
     },
     "execution_count": 12,
     "metadata": {},
     "output_type": "execute_result"
    }
   ],
   "source": [
    "model.predict(narr)"
   ]
  },
  {
   "cell_type": "code",
   "execution_count": null,
   "metadata": {
    "collapsed": true
   },
   "outputs": [],
   "source": []
  }
 ],
 "metadata": {
  "kernelspec": {
   "display_name": "Python 2",
   "language": "python",
   "name": "python2"
  },
  "language_info": {
   "codemirror_mode": {
    "name": "ipython",
    "version": 2
   },
   "file_extension": ".py",
   "mimetype": "text/x-python",
   "name": "python",
   "nbconvert_exporter": "python",
   "pygments_lexer": "ipython2",
   "version": "2.7.13"
  }
 },
 "nbformat": 4,
 "nbformat_minor": 2
}
