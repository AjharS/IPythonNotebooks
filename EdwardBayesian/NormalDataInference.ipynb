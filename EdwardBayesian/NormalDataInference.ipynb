{
 "cells": [
  {
   "cell_type": "code",
   "execution_count": 1,
   "metadata": {
    "collapsed": true
   },
   "outputs": [],
   "source": [
    "import numpy as np"
   ]
  },
  {
   "cell_type": "code",
   "execution_count": 2,
   "metadata": {
    "collapsed": true
   },
   "outputs": [],
   "source": [
    "mu = np.array([2.1,-1.5])\n",
    "sigma = np.array([[5.7, 0.7], [0.7, 8.6]])"
   ]
  },
  {
   "cell_type": "code",
   "execution_count": 3,
   "metadata": {
    "collapsed": true
   },
   "outputs": [],
   "source": [
    "def check_symmetric(a, tol=1e-8):\n",
    "    return np.allclose(a, a.T, atol=tol)"
   ]
  },
  {
   "cell_type": "code",
   "execution_count": 18,
   "metadata": {
    "collapsed": true
   },
   "outputs": [],
   "source": [
    "def exponent_multiva_norm(X, mu, inv_sigma):\n",
    "    n = len(mu)\n",
    "    assert X.shape[1] == n\n",
    "    m = X.shape[0]\n",
    "\n",
    "\n",
    "    return np.sum(np.matmul((X-mu).reshape(m, n), inv_sigma)*(X-mu).reshape(m, n), axis=1)\n",
    "\n",
    "def multivar_norm_pdf(X, mu, sigma):\n",
    "    n = len(mu)\n",
    "        assert np.shape(sigma) == (n, n)\n",
    "    assert check_symmetric(sigma)\n",
    "\n",
    "    inv_sigma = np.linalg.inv(sigma)\n",
    "    exponent = exponent_multiva_norm(X, mu, sigma)\n",
    "\n",
    "    sigma_eigvals = np.linalg.eigvals(sigma)\n",
    "    \n",
    "    return np.sqrt(np.sum(np.prod(sigma_eigvals))/(2*np.pi)**n) * np.exp(-exponent)"
   ]
  },
  {
   "cell_type": "code",
   "execution_count": 21,
   "metadata": {
    "collapsed": false
   },
   "outputs": [
    {
     "data": {
      "text/plain": [
       "array([[0.75168932, 0.4035896 , 0.88239191],\n",
       "       [1.28126286, 3.15146306, 0.85518299],\n",
       "       [0.94487023, 0.46048289, 1.28126286]])"
      ]
     },
     "execution_count": 21,
     "metadata": {},
     "output_type": "execute_result"
    }
   ],
   "source": [
    "multivar_norm_pdf(np.array([[3,4],[1,-1],[3,-1]]), mu, sigma)"
   ]
  },
  {
   "cell_type": "code",
   "execution_count": 23,
   "metadata": {
    "collapsed": false
   },
   "outputs": [
    {
     "data": {
      "text/plain": [
       "array([[ 0.3886462 ,  1.01057078,  0.22833299],\n",
       "       [-0.14463219, -1.04465279,  0.25965382],\n",
       "       [ 0.1599217 ,  0.87869359, -0.14463219]])"
      ]
     },
     "execution_count": 23,
     "metadata": {},
     "output_type": "execute_result"
    }
   ],
   "source": [
    "exponent_multivar_norm(np.array([[3,4],[1,-1],[3,-1]]), mu, sigma)"
   ]
  },
  {
   "cell_type": "code",
   "execution_count": 25,
   "metadata": {
    "collapsed": false
   },
   "outputs": [
    {
     "data": {
      "text/plain": [
       "array([[3.55369874]])"
      ]
     },
     "execution_count": 25,
     "metadata": {},
     "output_type": "execute_result"
    }
   ],
   "source": [
    "exponent_multivar_norm(np.array([[3,4]]), mu, sigma)"
   ]
  },
  {
   "cell_type": "code",
   "execution_count": 32,
   "metadata": {
    "collapsed": false
   },
   "outputs": [
    {
     "data": {
      "text/plain": [
       "array([ 8, 32])"
      ]
     },
     "execution_count": 32,
     "metadata": {},
     "output_type": "execute_result"
    }
   ],
   "source": [
    "np.sum(np.array([[1,2],[3,4]])*np.array([[2,3],[4,5]]), axis=1)"
   ]
  },
  {
   "cell_type": "code",
   "execution_count": 29,
   "metadata": {
    "collapsed": false
   },
   "outputs": [
    {
     "data": {
      "text/plain": [
       "array([[ 2,  6],\n",
       "       [12, 20]])"
      ]
     },
     "execution_count": 29,
     "metadata": {},
     "output_type": "execute_result"
    }
   ],
   "source": [
    "np.array([[1,2],[3,4]])*np.array([[2,3],[4,5]])"
   ]
  },
  {
   "cell_type": "code",
   "execution_count": null,
   "metadata": {
    "collapsed": true
   },
   "outputs": [],
   "source": []
  }
 ],
 "metadata": {
  "anaconda-cloud": {},
  "kernelspec": {
   "display_name": "Python 2",
   "language": "python",
   "name": "python2"
  },
  "language_info": {
   "codemirror_mode": {
    "name": "ipython",
    "version": 2
   },
   "file_extension": ".py",
   "mimetype": "text/x-python",
   "name": "python",
   "nbconvert_exporter": "python",
   "pygments_lexer": "ipython2",
   "version": "2.7.13"
  }
 },
 "nbformat": 4,
 "nbformat_minor": 0
}
