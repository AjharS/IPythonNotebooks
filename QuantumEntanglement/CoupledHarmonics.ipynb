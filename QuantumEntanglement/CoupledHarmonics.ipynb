{
 "cells": [
  {
   "cell_type": "code",
   "execution_count": 1,
   "metadata": {
    "collapsed": true
   },
   "outputs": [],
   "source": [
    "import numpy as np\n",
    "import pyqentangle"
   ]
  },
  {
   "cell_type": "code",
   "execution_count": 2,
   "metadata": {
    "collapsed": true
   },
   "outputs": [],
   "source": [
    "from matplotlib import pyplot as plt\n",
    "%matplotlib inline"
   ]
  },
  {
   "cell_type": "code",
   "execution_count": 3,
   "metadata": {
    "collapsed": true
   },
   "outputs": [],
   "source": [
    "biwavefcn = lambda x1, x2: np.exp(-((0.5 * (x1 + x2)) ** 2)) * np.exp(-(x1 - x2) ** 2) * np.sqrt(2. / np.pi)"
   ]
  },
  {
   "cell_type": "code",
   "execution_count": 4,
   "metadata": {
    "collapsed": false
   },
   "outputs": [],
   "source": [
    "modes = pyqentangle.continuous_schmidt_decomposition(biwavefcn, -10., 10., -10., 10.)"
   ]
  },
  {
   "cell_type": "code",
   "execution_count": 5,
   "metadata": {
    "collapsed": false
   },
   "outputs": [
    {
     "data": {
      "text/plain": [
       "[(0.8888888888888888,\n",
       "  <function pyqentangle.continuous.<lambda>>,\n",
       "  <function pyqentangle.continuous.<lambda>>),\n",
       " (0.09876543209876557,\n",
       "  <function pyqentangle.continuous.<lambda>>,\n",
       "  <function pyqentangle.continuous.<lambda>>),\n",
       " (0.010973936899862853,\n",
       "  <function pyqentangle.continuous.<lambda>>,\n",
       "  <function pyqentangle.continuous.<lambda>>),\n",
       " (0.0012193263222069757,\n",
       "  <function pyqentangle.continuous.<lambda>>,\n",
       "  <function pyqentangle.continuous.<lambda>>),\n",
       " (0.00013548070246744356,\n",
       "  <function pyqentangle.continuous.<lambda>>,\n",
       "  <function pyqentangle.continuous.<lambda>>),\n",
       " (1.5053411385271871e-05,\n",
       "  <function pyqentangle.continuous.<lambda>>,\n",
       "  <function pyqentangle.continuous.<lambda>>),\n",
       " (1.6726012650322333e-06,\n",
       "  <function pyqentangle.continuous.<lambda>>,\n",
       "  <function pyqentangle.continuous.<lambda>>),\n",
       " (1.8584458500366187e-07,\n",
       "  <function pyqentangle.continuous.<lambda>>,\n",
       "  <function pyqentangle.continuous.<lambda>>),\n",
       " (2.0649398326795657e-08,\n",
       "  <function pyqentangle.continuous.<lambda>>,\n",
       "  <function pyqentangle.continuous.<lambda>>),\n",
       " (2.294377591200579e-09,\n",
       "  <function pyqentangle.continuous.<lambda>>,\n",
       "  <function pyqentangle.continuous.<lambda>>)]"
      ]
     },
     "execution_count": 5,
     "metadata": {},
     "output_type": "execute_result"
    }
   ],
   "source": [
    "modes[:10]"
   ]
  },
  {
   "cell_type": "code",
   "execution_count": 6,
   "metadata": {
    "collapsed": false
   },
   "outputs": [
    {
     "name": "stderr",
     "output_type": "stream",
     "text": [
      "/Users/stephenhky/anaconda/lib/python2.7/site-packages/pyqentangle/continuous.py:57: ComplexWarning: Casting complex values to real discards the imaginary part\n",
      "  return numerical_continuous_interpolation_nocheck_cython(xarray, yarray, x)\n",
      "/Users/stephenhky/anaconda/lib/python2.7/site-packages/numpy/core/numeric.py:492: ComplexWarning: Casting complex values to real discards the imaginary part\n",
      "  return array(a, dtype, copy=False, order=order)\n"
     ]
    },
    {
     "data": {
      "text/plain": [
       "[<matplotlib.lines.Line2D at 0x10c69c2d0>]"
      ]
     },
     "execution_count": 6,
     "metadata": {},
     "output_type": "execute_result"
    },
    {
     "data": {
      "image/png": "[encoded data removed]",
      "text/plain": [
       "<matplotlib.figure.Figure at 0x10e85bf50>"
      ]
     },
     "metadata": {},
     "output_type": "display_data"
    }
   ],
   "source": [
    "xarray = np.linspace(-10., 10., 100)\n",
    "plt.plot(xarray, modes[0][1](xarray))\n",
    "plt.plot(xarray, modes[0][2](xarray))"
   ]
  },
  {
   "cell_type": "code",
   "execution_count": 7,
   "metadata": {
    "collapsed": false
   },
   "outputs": [
    {
     "data": {
      "text/plain": [
       "[<matplotlib.lines.Line2D at 0x1106b88d0>]"
      ]
     },
     "execution_count": 7,
     "metadata": {},
     "output_type": "execute_result"
    },
    {
     "data": {
      "image/png": "[encoded data removed]",
      "text/plain": [
       "<matplotlib.figure.Figure at 0x10fd07690>"
      ]
     },
     "metadata": {},
     "output_type": "display_data"
    }
   ],
   "source": [
    "xarray = np.linspace(-10., 10., 100)\n",
    "plt.plot(xarray, modes[1][1](xarray))\n",
    "plt.plot(xarray, modes[1][2](xarray))"
   ]
  },
  {
   "cell_type": "code",
   "execution_count": null,
   "metadata": {
    "collapsed": true
   },
   "outputs": [],
   "source": []
  }
 ],
 "metadata": {
  "kernelspec": {
   "display_name": "Python 2",
   "language": "python",
   "name": "python2"
  },
  "language_info": {
   "codemirror_mode": {
    "name": "ipython",
    "version": 2
   },
   "file_extension": ".py",
   "mimetype": "text/x-python",
   "name": "python",
   "nbconvert_exporter": "python",
   "pygments_lexer": "ipython2",
   "version": "2.7.13"
  }
 },
 "nbformat": 4,
 "nbformat_minor": 0
}
