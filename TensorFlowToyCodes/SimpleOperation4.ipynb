{
 "cells": [
  {
   "cell_type": "code",
   "execution_count": 1,
   "metadata": {
    "collapsed": true
   },
   "outputs": [],
   "source": [
    "import numpy as np\n",
    "import tensorflow as tf"
   ]
  },
  {
   "cell_type": "code",
   "execution_count": 2,
   "metadata": {
    "collapsed": false
   },
   "outputs": [],
   "source": [
    "Y = tf.Variable(np.random.rand(5,2), dtype='float')\n",
    "sqY = tf.reduce_sum(Y*Y, 1)\n",
    "sqY = tf.reshape(sqY, [-1, 1])\n",
    "sqDY = sqY - 2*tf.matmul(Y, tf.transpose(Y)) + tf.transpose(sqY)\n",
    "DY = tf.sqrt(sqDY)"
   ]
  },
  {
   "cell_type": "code",
   "execution_count": 3,
   "metadata": {
    "collapsed": true
   },
   "outputs": [],
   "source": [
    "cost = tf.sqrt(tf.reduce_sum(tf.square(DY)))"
   ]
  },
  {
   "cell_type": "code",
   "execution_count": 4,
   "metadata": {
    "collapsed": true
   },
   "outputs": [],
   "source": [
    "grad_cost = tf.gradients(cost, Y)"
   ]
  },
  {
   "cell_type": "code",
   "execution_count": 5,
   "metadata": {
    "collapsed": false
   },
   "outputs": [],
   "source": [
    "tmpDY1 = DY+tf.diag(tf.constant([1.,2.,3.,4.,5.]))\n",
    "upper_DY = tf.matrix_band_part(tmpDY1, 0, -1)\n",
    "upper_DY_nodiag = tf.matrix_band_part(tmpDY1-tf.diag(tf.diag_part(upper_DY)), 0, -1)"
   ]
  },
  {
   "cell_type": "code",
   "execution_count": 6,
   "metadata": {
    "collapsed": true
   },
   "outputs": [],
   "source": [
    "init = tf.global_variables_initializer()\n",
    "sess = tf.Session()\n",
    "sess.run(init)"
   ]
  },
  {
   "cell_type": "code",
   "execution_count": 7,
   "metadata": {
    "collapsed": false
   },
   "outputs": [
    {
     "data": {
      "text/plain": [
       "3.1550987"
      ]
     },
     "execution_count": 7,
     "metadata": {},
     "output_type": "execute_result"
    }
   ],
   "source": [
    "sess.run(cost)"
   ]
  },
  {
   "cell_type": "code",
   "execution_count": 9,
   "metadata": {
    "collapsed": false
   },
   "outputs": [
    {
     "data": {
      "text/plain": [
       "array([[ 0.        ,  0.10260791,  0.91455865,  0.69915289,  0.6155985 ],\n",
       "       [ 0.10260791,  0.        ,  0.81551689,  0.71687466,  0.52671671],\n",
       "       [ 0.91455865,  0.81551689,  0.        ,  1.06635118,  0.34522089],\n",
       "       [ 0.69915289,  0.71687466,  1.06635118,  0.        ,  0.74156004],\n",
       "       [ 0.6155985 ,  0.52671671,  0.34522089,  0.74155998,  0.        ]], dtype=float32)"
      ]
     },
     "execution_count": 9,
     "metadata": {},
     "output_type": "execute_result"
    }
   ],
   "source": [
    "sess.run(DY)"
   ]
  },
  {
   "cell_type": "code",
   "execution_count": 10,
   "metadata": {
    "collapsed": false
   },
   "outputs": [
    {
     "data": {
      "text/plain": [
       "array([[ 1.        ,  0.10260791,  0.91455865,  0.69915289,  0.6155985 ],\n",
       "       [ 0.        ,  2.        ,  0.81551689,  0.71687466,  0.52671671],\n",
       "       [ 0.        ,  0.        ,  3.        ,  1.06635118,  0.34522089],\n",
       "       [ 0.        ,  0.        ,  0.        ,  4.        ,  0.74156004],\n",
       "       [ 0.        ,  0.        ,  0.        ,  0.        ,  5.        ]], dtype=float32)"
      ]
     },
     "execution_count": 10,
     "metadata": {},
     "output_type": "execute_result"
    }
   ],
   "source": [
    "sess.run(upper_DY)"
   ]
  },
  {
   "cell_type": "code",
   "execution_count": 11,
   "metadata": {
    "collapsed": false
   },
   "outputs": [
    {
     "data": {
      "text/plain": [
       "array([[ 0.        ,  0.10260791,  0.91455865,  0.69915289,  0.6155985 ],\n",
       "       [ 0.        ,  0.        ,  0.81551689,  0.71687466,  0.52671671],\n",
       "       [ 0.        ,  0.        ,  0.        ,  1.06635118,  0.34522089],\n",
       "       [ 0.        ,  0.        ,  0.        ,  0.        ,  0.74156004],\n",
       "       [ 0.        ,  0.        ,  0.        ,  0.        ,  0.        ]], dtype=float32)"
      ]
     },
     "execution_count": 11,
     "metadata": {},
     "output_type": "execute_result"
    }
   ],
   "source": [
    "sess.run(upper_DY_nodiag)"
   ]
  },
  {
   "cell_type": "code",
   "execution_count": 18,
   "metadata": {
    "collapsed": false
   },
   "outputs": [
    {
     "data": {
      "text/plain": [
       "[array([[  1.50562   ,  -7.43462849],\n",
       "        [  2.46969128,  -5.62301826],\n",
       "        [  5.84821033,  10.33356953],\n",
       "        [-11.44149113,  -2.15275002],\n",
       "        [  1.61797047,   4.87682819]], dtype=float32)]"
      ]
     },
     "execution_count": 18,
     "metadata": {},
     "output_type": "execute_result"
    }
   ],
   "source": [
    "sess.run(tf.gradients(sqDY, Y))"
   ]
  },
  {
   "cell_type": "code",
   "execution_count": null,
   "metadata": {
    "collapsed": true
   },
   "outputs": [],
   "source": []
  }
 ],
 "metadata": {
  "anaconda-cloud": {},
  "kernelspec": {
   "display_name": "Python [Root]",
   "language": "python",
   "name": "Python [Root]"
  },
  "language_info": {
   "codemirror_mode": {
    "name": "ipython",
    "version": 2
   },
   "file_extension": ".py",
   "mimetype": "text/x-python",
   "name": "python",
   "nbconvert_exporter": "python",
   "pygments_lexer": "ipython2",
   "version": "2.7.12"
  }
 },
 "nbformat": 4,
 "nbformat_minor": 2
}
