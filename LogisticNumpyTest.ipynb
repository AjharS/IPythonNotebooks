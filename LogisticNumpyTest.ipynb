{
 "cells": [
  {
   "cell_type": "code",
   "execution_count": 1,
   "metadata": {
    "collapsed": true
   },
   "outputs": [],
   "source": [
    "import numpy as np\n",
    "import pandas as pd\n",
    "%matplotlib inline"
   ]
  },
  {
   "cell_type": "code",
   "execution_count": 2,
   "metadata": {
    "collapsed": true
   },
   "outputs": [],
   "source": [
    "traindata = pd.read_csv('./DataSampling/logistic_test.csv')\n",
    "train_X = np.transpose(np.array([traindata['X1'], traindata['X2']]))\n",
    "train_Y = np.transpose(np.array([traindata['Y']]))"
   ]
  },
  {
   "cell_type": "code",
   "execution_count": 19,
   "metadata": {
    "collapsed": true
   },
   "outputs": [],
   "source": [
    "W_guess = np.random.rand(2,1)\n",
    "b_guess = np.random.rand(1)"
   ]
  },
  {
   "cell_type": "code",
   "execution_count": 20,
   "metadata": {
    "collapsed": true
   },
   "outputs": [],
   "source": [
    "sigmoid = lambda g: 1./(1+np.exp(-g))"
   ]
  },
  {
   "cell_type": "code",
   "execution_count": 21,
   "metadata": {
    "collapsed": false
   },
   "outputs": [
    {
     "data": {
      "text/plain": [
       "array([[ 1.98294787],\n",
       "       [ 0.24692005],\n",
       "       [ 0.0317496 ],\n",
       "       [-0.01170915],\n",
       "       [ 2.62198538],\n",
       "       [ 0.68759151],\n",
       "       [ 0.42757863],\n",
       "       [ 1.0229042 ],\n",
       "       [ 0.38827441],\n",
       "       [-0.22266372],\n",
       "       [ 0.19513362],\n",
       "       [ 1.68112958],\n",
       "       [ 1.61226567],\n",
       "       [-0.7489325 ],\n",
       "       [ 3.4471431 ],\n",
       "       [ 0.60896497],\n",
       "       [-0.6951962 ],\n",
       "       [-0.67699795],\n",
       "       [-0.02545782],\n",
       "       [ 1.27433098],\n",
       "       [ 1.54505828],\n",
       "       [-0.46321313],\n",
       "       [-0.70910672],\n",
       "       [-1.29579559],\n",
       "       [-0.25306629],\n",
       "       [ 2.51475776],\n",
       "       [ 1.50548791],\n",
       "       [ 0.62801415],\n",
       "       [ 0.66801142],\n",
       "       [ 2.2562976 ],\n",
       "       [-0.99546907],\n",
       "       [-1.17506099],\n",
       "       [-0.06779967],\n",
       "       [ 1.73940966],\n",
       "       [ 0.87030239],\n",
       "       [ 0.03311481],\n",
       "       [-0.05984591],\n",
       "       [ 0.5296189 ],\n",
       "       [-2.00465732],\n",
       "       [ 0.30838652],\n",
       "       [-0.27619539],\n",
       "       [-1.20999287],\n",
       "       [-1.87160641],\n",
       "       [ 1.58803279],\n",
       "       [ 2.88515588],\n",
       "       [ 0.51950913],\n",
       "       [ 1.96121789],\n",
       "       [-0.05273934],\n",
       "       [-1.75814985],\n",
       "       [ 0.21605313]])"
      ]
     },
     "execution_count": 21,
     "metadata": {},
     "output_type": "execute_result"
    }
   ],
   "source": [
    "np.dot(train_X, W_guess) + b_guess"
   ]
  },
  {
   "cell_type": "code",
   "execution_count": 22,
   "metadata": {
    "collapsed": false
   },
   "outputs": [],
   "source": [
    "activation=sigmoid(np.dot(train_X, W_guess) + b_guess)"
   ]
  },
  {
   "cell_type": "code",
   "execution_count": 23,
   "metadata": {
    "collapsed": false
   },
   "outputs": [
    {
     "data": {
      "text/plain": [
       "array([[ 0.87899506],\n",
       "       [ 0.56141828],\n",
       "       [ 0.50793673],\n",
       "       [ 0.49707274],\n",
       "       [ 0.93226319],\n",
       "       [ 0.66543093],\n",
       "       [ 0.60529532],\n",
       "       [ 0.73553792],\n",
       "       [ 0.59586723],\n",
       "       [ 0.44456293],\n",
       "       [ 0.5486292 ],\n",
       "       [ 0.84305405],\n",
       "       [ 0.83372571],\n",
       "       [ 0.32105395],\n",
       "       [ 0.96914583],\n",
       "       [ 0.64770466],\n",
       "       [ 0.33287815],\n",
       "       [ 0.33693166],\n",
       "       [ 0.49363589],\n",
       "       [ 0.78148324],\n",
       "       [ 0.82419885],\n",
       "       [ 0.38622386],\n",
       "       [ 0.32979625],\n",
       "       [ 0.21487346],\n",
       "       [ 0.43706892],\n",
       "       [ 0.92516994],\n",
       "       [ 0.81839155],\n",
       "       [ 0.65203904],\n",
       "       [ 0.66105774],\n",
       "       [ 0.90519237],\n",
       "       [ 0.26983319],\n",
       "       [ 0.23594141],\n",
       "       [ 0.48305657],\n",
       "       [ 0.85061207],\n",
       "       [ 0.70480861],\n",
       "       [ 0.50827795],\n",
       "       [ 0.48504299],\n",
       "       [ 0.62939422],\n",
       "       [ 0.1187148 ],\n",
       "       [ 0.57649138],\n",
       "       [ 0.43138677],\n",
       "       [ 0.22970231],\n",
       "       [ 0.13335596],\n",
       "       [ 0.83033915],\n",
       "       [ 0.94710774],\n",
       "       [ 0.62703298],\n",
       "       [ 0.8766647 ],\n",
       "       [ 0.48681822],\n",
       "       [ 0.14702221],\n",
       "       [ 0.55380415]])"
      ]
     },
     "execution_count": 23,
     "metadata": {},
     "output_type": "execute_result"
    }
   ],
   "source": [
    "activation"
   ]
  },
  {
   "cell_type": "code",
   "execution_count": 24,
   "metadata": {
    "collapsed": false
   },
   "outputs": [
    {
     "data": {
      "text/plain": [
       "array([[0],\n",
       "       [0],\n",
       "       [0],\n",
       "       [0],\n",
       "       [0],\n",
       "       [1],\n",
       "       [1],\n",
       "       [0],\n",
       "       [1],\n",
       "       [1],\n",
       "       [1],\n",
       "       [0],\n",
       "       [0],\n",
       "       [0],\n",
       "       [0],\n",
       "       [1],\n",
       "       [1],\n",
       "       [0],\n",
       "       [0],\n",
       "       [0],\n",
       "       [0],\n",
       "       [0],\n",
       "       [0],\n",
       "       [0],\n",
       "       [0],\n",
       "       [0],\n",
       "       [1],\n",
       "       [1],\n",
       "       [0],\n",
       "       [1],\n",
       "       [1],\n",
       "       [1],\n",
       "       [1],\n",
       "       [0],\n",
       "       [1],\n",
       "       [1],\n",
       "       [0],\n",
       "       [1],\n",
       "       [1],\n",
       "       [0],\n",
       "       [1],\n",
       "       [1],\n",
       "       [1],\n",
       "       [1],\n",
       "       [1],\n",
       "       [1],\n",
       "       [1],\n",
       "       [1],\n",
       "       [1],\n",
       "       [1]])"
      ]
     },
     "execution_count": 24,
     "metadata": {},
     "output_type": "execute_result"
    }
   ],
   "source": [
    "train_Y"
   ]
  },
  {
   "cell_type": "code",
   "execution_count": 25,
   "metadata": {
    "collapsed": false
   },
   "outputs": [
    {
     "data": {
      "text/plain": [
       "17.523908116048464"
      ]
     },
     "execution_count": 25,
     "metadata": {},
     "output_type": "execute_result"
    }
   ],
   "source": [
    "np.sum(np.power(activation-train_Y, 2.))"
   ]
  },
  {
   "cell_type": "code",
   "execution_count": null,
   "metadata": {
    "collapsed": true
   },
   "outputs": [],
   "source": []
  }
 ],
 "metadata": {
  "kernelspec": {
   "display_name": "Python [Root]",
   "language": "python",
   "name": "Python [Root]"
  },
  "language_info": {
   "codemirror_mode": {
    "name": "ipython",
    "version": 2
   },
   "file_extension": ".py",
   "mimetype": "text/x-python",
   "name": "python",
   "nbconvert_exporter": "python",
   "pygments_lexer": "ipython2",
   "version": "2.7.12"
  }
 },
 "nbformat": 4,
 "nbformat_minor": 0
}
