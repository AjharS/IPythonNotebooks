{
 "cells": [
  {
   "cell_type": "code",
   "execution_count": 1,
   "metadata": {
    "collapsed": false
   },
   "outputs": [
    {
     "name": "stderr",
     "output_type": "stream",
     "text": [
      "Using TensorFlow backend.\n"
     ]
    }
   ],
   "source": [
    "import shorttext\n",
    "import numpy as np"
   ]
  },
  {
   "cell_type": "code",
   "execution_count": 2,
   "metadata": {
    "collapsed": false
   },
   "outputs": [],
   "source": [
    "wvmodel = shorttext.utils.load_word2vec_model('test_w2v_model.bin')"
   ]
  },
  {
   "cell_type": "code",
   "execution_count": 3,
   "metadata": {
    "collapsed": true
   },
   "outputs": [],
   "source": [
    "classdict = shorttext.data.subjectkeywords()"
   ]
  },
  {
   "cell_type": "code",
   "execution_count": 4,
   "metadata": {
    "collapsed": false
   },
   "outputs": [
    {
     "name": "stdout",
     "output_type": "stream",
     "text": [
      "Epoch 1/10\n",
      "45/45 [==============================] - 0s 11ms/step - loss: 1.1023\n",
      "Epoch 2/10\n",
      "45/45 [==============================] - 0s 357us/step - loss: 1.0511\n",
      "Epoch 3/10\n",
      "45/45 [==============================] - 0s 383us/step - loss: 1.0516\n",
      "Epoch 4/10\n",
      "45/45 [==============================] - 0s 429us/step - loss: 1.0288\n",
      "Epoch 5/10\n",
      "45/45 [==============================] - 0s 444us/step - loss: 1.0300\n",
      "Epoch 6/10\n",
      "45/45 [==============================] - 0s 542us/step - loss: 1.0104\n",
      "Epoch 7/10\n",
      "45/45 [==============================] - 0s 482us/step - loss: 0.9969\n",
      "Epoch 8/10\n",
      "45/45 [==============================] - 0s 555us/step - loss: 0.9963\n",
      "Epoch 9/10\n",
      "45/45 [==============================] - 0s 518us/step - loss: 0.9893\n",
      "Epoch 10/10\n",
      "45/45 [==============================] - 0s 479us/step - loss: 0.9830\n"
     ]
    }
   ],
   "source": [
    "kmodel = shorttext.classifiers.frameworks.CNNWordEmbed(len(classdict.keys()), vecsize=wvmodel.vector_size)\n",
    "classifier = shorttext.classifiers.VarNNEmbeddedVecClassifier(wvmodel)\n",
    "classifier.train(classdict, kmodel)"
   ]
  },
  {
   "cell_type": "code",
   "execution_count": 5,
   "metadata": {
    "collapsed": false
   },
   "outputs": [
    {
     "data": {
      "text/plain": [
       "{'mathematics': 0.46373, 'physics': 0.45508388, 'theology': 0.081186116}"
      ]
     },
     "execution_count": 5,
     "metadata": {},
     "output_type": "execute_result"
    }
   ],
   "source": [
    "classifier.score('linear physics')"
   ]
  },
  {
   "cell_type": "code",
   "execution_count": 6,
   "metadata": {
    "collapsed": false
   },
   "outputs": [],
   "source": [
    "kmodel2 = shorttext.classifiers.frameworks.CNNWordEmbed(len(classdict.keys()), wvmodel=wvmodel, with_gensim=True)"
   ]
  },
  {
   "cell_type": "code",
   "execution_count": 7,
   "metadata": {
    "collapsed": true
   },
   "outputs": [],
   "source": [
    "classifier2 = shorttext.classifiers.VarNNEmbeddedVecClassifier(wvmodel, with_gensim=True)"
   ]
  },
  {
   "cell_type": "code",
   "execution_count": 8,
   "metadata": {
    "collapsed": false
   },
   "outputs": [
    {
     "name": "stdout",
     "output_type": "stream",
     "text": [
      "Epoch 1/10\n",
      "45/45 [==============================] - 0s 9ms/step - loss: 1.0911\n",
      "Epoch 2/10\n",
      "45/45 [==============================] - 0s 366us/step - loss: 1.0618\n",
      "Epoch 3/10\n",
      "45/45 [==============================] - 0s 403us/step - loss: 1.0487\n",
      "Epoch 4/10\n",
      "45/45 [==============================] - 0s 442us/step - loss: 1.0383\n",
      "Epoch 5/10\n",
      "45/45 [==============================] - 0s 473us/step - loss: 1.0298\n",
      "Epoch 6/10\n",
      "45/45 [==============================] - 0s 449us/step - loss: 1.0298\n",
      "Epoch 7/10\n",
      "45/45 [==============================] - 0s 447us/step - loss: 1.0193\n",
      "Epoch 8/10\n",
      "45/45 [==============================] - 0s 470us/step - loss: 1.0048\n",
      "Epoch 9/10\n",
      "45/45 [==============================] - 0s 604us/step - loss: 0.9966\n",
      "Epoch 10/10\n",
      "45/45 [==============================] - 0s 423us/step - loss: 0.9900\n"
     ]
    }
   ],
   "source": [
    "classifier2.train(classdict, kmodel2)"
   ]
  },
  {
   "cell_type": "code",
   "execution_count": 9,
   "metadata": {
    "collapsed": false
   },
   "outputs": [
    {
     "data": {
      "text/plain": [
       "{'mathematics': 0.43390122, 'physics': 0.4967741, 'theology': 0.06932472}"
      ]
     },
     "execution_count": 9,
     "metadata": {},
     "output_type": "execute_result"
    }
   ],
   "source": [
    "classifier2.score('linear physics')"
   ]
  },
  {
   "cell_type": "code",
   "execution_count": null,
   "metadata": {
    "collapsed": true
   },
   "outputs": [],
   "source": []
  }
 ],
 "metadata": {
  "anaconda-cloud": {},
  "kernelspec": {
   "display_name": "Python [Root]",
   "language": "python",
   "name": "Python [Root]"
  },
  "language_info": {
   "codemirror_mode": {
    "name": "ipython",
    "version": 2
   },
   "file_extension": ".py",
   "mimetype": "text/x-python",
   "name": "python",
   "nbconvert_exporter": "python",
   "pygments_lexer": "ipython2",
   "version": "2.7.12"
  }
 },
 "nbformat": 4,
 "nbformat_minor": 0
}
