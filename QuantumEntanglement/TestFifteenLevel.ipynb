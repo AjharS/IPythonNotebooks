{
 "cells": [
  {
   "cell_type": "code",
   "execution_count": 1,
   "metadata": {
    "collapsed": true
   },
   "outputs": [],
   "source": [
    "import numpy as np\n",
    "import pyqentangle"
   ]
  },
  {
   "cell_type": "code",
   "execution_count": 2,
   "metadata": {
    "collapsed": true
   },
   "outputs": [],
   "source": [
    "tensor = np.zeros((15, 15))\n",
    "tensor[1, 1] = np.sqrt(0.6)\n",
    "tensor[1, 2] = np.sqrt(0.0)\n",
    "tensor[1, 3] = np.sqrt(0.0)\n",
    "tensor[11, 10] = np.sqrt(0.0)\n",
    "tensor[11, 11] = np.sqrt(0.0)\n",
    "tensor[11, 12] = np.sqrt(0.4)"
   ]
  },
  {
   "cell_type": "code",
   "execution_count": 3,
   "metadata": {
    "collapsed": false
   },
   "outputs": [
    {
     "name": "stderr",
     "output_type": "stream",
     "text": [
      "//anaconda/lib/python2.7/site-packages/pyqentangle/schmidt.py:82: RuntimeWarning: invalid value encountered in divide\n",
      "  for k in range(mindim)]\n"
     ]
    }
   ],
   "source": [
    "modes = pyqentangle.schmidt_decomposition(tensor)"
   ]
  },
  {
   "cell_type": "code",
   "execution_count": 4,
   "metadata": {
    "collapsed": false
   },
   "outputs": [
    {
     "data": {
      "text/plain": [
       "[(0.6000000000000001,\n",
       "  array([0.+0.j, 1.+0.j, 0.+0.j, 0.+0.j, 0.+0.j, 0.+0.j, 0.+0.j, 0.+0.j,\n",
       "         0.+0.j, 0.+0.j, 0.+0.j, 0.+0.j, 0.+0.j, 0.+0.j, 0.+0.j]),\n",
       "  array([0.+0.j, 1.+0.j, 0.+0.j, 0.+0.j, 0.+0.j, 0.+0.j, 0.+0.j, 0.+0.j,\n",
       "         0.+0.j, 0.+0.j, 0.+0.j, 0.+0.j, 0.+0.j, 0.+0.j, 0.+0.j])),\n",
       " (0.4, array([0.+0.j, 0.+0.j, 0.+0.j, 0.+0.j, 0.+0.j, 0.+0.j, 0.+0.j, 0.+0.j,\n",
       "         0.+0.j, 0.+0.j, 0.+0.j, 1.+0.j, 0.+0.j, 0.+0.j, 0.+0.j]), array([0.+0.j, 0.+0.j, 0.+0.j, 0.+0.j, 0.+0.j, 0.+0.j, 0.+0.j, 0.+0.j,\n",
       "         0.+0.j, 0.+0.j, 0.+0.j, 0.+0.j, 1.+0.j, 0.+0.j, 0.+0.j])),\n",
       " (0.0, array([nan+nanj, nan+nanj, nan+nanj, nan+nanj, nan+nanj, nan+nanj,\n",
       "         nan+nanj, nan+nanj, nan+nanj, nan+nanj, nan+nanj, nan+nanj,\n",
       "         nan+nanj, nan+nanj, nan+nanj]), array([1.+0.j, 0.+0.j, 0.+0.j, 0.+0.j, 0.+0.j, 0.+0.j, 0.+0.j, 0.+0.j,\n",
       "         0.+0.j, 0.+0.j, 0.+0.j, 0.+0.j, 0.+0.j, 0.+0.j, 0.+0.j])),\n",
       " (0.0, array([nan+nanj, nan+nanj, nan+nanj, nan+nanj, nan+nanj, nan+nanj,\n",
       "         nan+nanj, nan+nanj, nan+nanj, nan+nanj, nan+nanj, nan+nanj,\n",
       "         nan+nanj, nan+nanj, nan+nanj]), array([0.+0.j, 0.+0.j, 1.+0.j, 0.+0.j, 0.+0.j, 0.+0.j, 0.+0.j, 0.+0.j,\n",
       "         0.+0.j, 0.+0.j, 0.+0.j, 0.+0.j, 0.+0.j, 0.+0.j, 0.+0.j])),\n",
       " (0.0, array([nan+nanj, nan+nanj, nan+nanj, nan+nanj, nan+nanj, nan+nanj,\n",
       "         nan+nanj, nan+nanj, nan+nanj, nan+nanj, nan+nanj, nan+nanj,\n",
       "         nan+nanj, nan+nanj, nan+nanj]), array([0.+0.j, 0.+0.j, 0.+0.j, 1.+0.j, 0.+0.j, 0.+0.j, 0.+0.j, 0.+0.j,\n",
       "         0.+0.j, 0.+0.j, 0.+0.j, 0.+0.j, 0.+0.j, 0.+0.j, 0.+0.j])),\n",
       " (0.0, array([nan+nanj, nan+nanj, nan+nanj, nan+nanj, nan+nanj, nan+nanj,\n",
       "         nan+nanj, nan+nanj, nan+nanj, nan+nanj, nan+nanj, nan+nanj,\n",
       "         nan+nanj, nan+nanj, nan+nanj]), array([0.+0.j, 0.+0.j, 0.+0.j, 0.+0.j, 1.+0.j, 0.+0.j, 0.+0.j, 0.+0.j,\n",
       "         0.+0.j, 0.+0.j, 0.+0.j, 0.+0.j, 0.+0.j, 0.+0.j, 0.+0.j])),\n",
       " (0.0, array([nan+nanj, nan+nanj, nan+nanj, nan+nanj, nan+nanj, nan+nanj,\n",
       "         nan+nanj, nan+nanj, nan+nanj, nan+nanj, nan+nanj, nan+nanj,\n",
       "         nan+nanj, nan+nanj, nan+nanj]), array([0.+0.j, 0.+0.j, 0.+0.j, 0.+0.j, 0.+0.j, 1.+0.j, 0.+0.j, 0.+0.j,\n",
       "         0.+0.j, 0.+0.j, 0.+0.j, 0.+0.j, 0.+0.j, 0.+0.j, 0.+0.j])),\n",
       " (0.0, array([nan+nanj, nan+nanj, nan+nanj, nan+nanj, nan+nanj, nan+nanj,\n",
       "         nan+nanj, nan+nanj, nan+nanj, nan+nanj, nan+nanj, nan+nanj,\n",
       "         nan+nanj, nan+nanj, nan+nanj]), array([0.+0.j, 0.+0.j, 0.+0.j, 0.+0.j, 0.+0.j, 0.+0.j, 1.+0.j, 0.+0.j,\n",
       "         0.+0.j, 0.+0.j, 0.+0.j, 0.+0.j, 0.+0.j, 0.+0.j, 0.+0.j])),\n",
       " (0.0, array([nan+nanj, nan+nanj, nan+nanj, nan+nanj, nan+nanj, nan+nanj,\n",
       "         nan+nanj, nan+nanj, nan+nanj, nan+nanj, nan+nanj, nan+nanj,\n",
       "         nan+nanj, nan+nanj, nan+nanj]), array([0.+0.j, 0.+0.j, 0.+0.j, 0.+0.j, 0.+0.j, 0.+0.j, 0.+0.j, 1.+0.j,\n",
       "         0.+0.j, 0.+0.j, 0.+0.j, 0.+0.j, 0.+0.j, 0.+0.j, 0.+0.j])),\n",
       " (0.0, array([nan+nanj, nan+nanj, nan+nanj, nan+nanj, nan+nanj, nan+nanj,\n",
       "         nan+nanj, nan+nanj, nan+nanj, nan+nanj, nan+nanj, nan+nanj,\n",
       "         nan+nanj, nan+nanj, nan+nanj]), array([0.+0.j, 0.+0.j, 0.+0.j, 0.+0.j, 0.+0.j, 0.+0.j, 0.+0.j, 0.+0.j,\n",
       "         1.+0.j, 0.+0.j, 0.+0.j, 0.+0.j, 0.+0.j, 0.+0.j, 0.+0.j])),\n",
       " (0.0, array([nan+nanj, nan+nanj, nan+nanj, nan+nanj, nan+nanj, nan+nanj,\n",
       "         nan+nanj, nan+nanj, nan+nanj, nan+nanj, nan+nanj, nan+nanj,\n",
       "         nan+nanj, nan+nanj, nan+nanj]), array([0.+0.j, 0.+0.j, 0.+0.j, 0.+0.j, 0.+0.j, 0.+0.j, 0.+0.j, 0.+0.j,\n",
       "         0.+0.j, 1.+0.j, 0.+0.j, 0.+0.j, 0.+0.j, 0.+0.j, 0.+0.j])),\n",
       " (0.0, array([nan+nanj, nan+nanj, nan+nanj, nan+nanj, nan+nanj, nan+nanj,\n",
       "         nan+nanj, nan+nanj, nan+nanj, nan+nanj, nan+nanj, nan+nanj,\n",
       "         nan+nanj, nan+nanj, nan+nanj]), array([0.+0.j, 0.+0.j, 0.+0.j, 0.+0.j, 0.+0.j, 0.+0.j, 0.+0.j, 0.+0.j,\n",
       "         0.+0.j, 0.+0.j, 1.+0.j, 0.+0.j, 0.+0.j, 0.+0.j, 0.+0.j])),\n",
       " (0.0, array([nan+nanj, nan+nanj, nan+nanj, nan+nanj, nan+nanj, nan+nanj,\n",
       "         nan+nanj, nan+nanj, nan+nanj, nan+nanj, nan+nanj, nan+nanj,\n",
       "         nan+nanj, nan+nanj, nan+nanj]), array([0.+0.j, 0.+0.j, 0.+0.j, 0.+0.j, 0.+0.j, 0.+0.j, 0.+0.j, 0.+0.j,\n",
       "         0.+0.j, 0.+0.j, 0.+0.j, 1.+0.j, 0.+0.j, 0.+0.j, 0.+0.j])),\n",
       " (0.0, array([nan+nanj, nan+nanj, nan+nanj, nan+nanj, nan+nanj, nan+nanj,\n",
       "         nan+nanj, nan+nanj, nan+nanj, nan+nanj, nan+nanj, nan+nanj,\n",
       "         nan+nanj, nan+nanj, nan+nanj]), array([0.+0.j, 0.+0.j, 0.+0.j, 0.+0.j, 0.+0.j, 0.+0.j, 0.+0.j, 0.+0.j,\n",
       "         0.+0.j, 0.+0.j, 0.+0.j, 0.+0.j, 0.+0.j, 1.+0.j, 0.+0.j])),\n",
       " (0.0, array([nan+nanj, nan+nanj, nan+nanj, nan+nanj, nan+nanj, nan+nanj,\n",
       "         nan+nanj, nan+nanj, nan+nanj, nan+nanj, nan+nanj, nan+nanj,\n",
       "         nan+nanj, nan+nanj, nan+nanj]), array([0.+0.j, 0.+0.j, 0.+0.j, 0.+0.j, 0.+0.j, 0.+0.j, 0.+0.j, 0.+0.j,\n",
       "         0.+0.j, 0.+0.j, 0.+0.j, 0.+0.j, 0.+0.j, 0.+0.j, 1.+0.j]))]"
      ]
     },
     "execution_count": 4,
     "metadata": {},
     "output_type": "execute_result"
    }
   ],
   "source": [
    "modes"
   ]
  },
  {
   "cell_type": "code",
   "execution_count": 5,
   "metadata": {
    "collapsed": true
   },
   "outputs": [],
   "source": [
    "rho1 = pyqentangle.schmidt.bipartitepurestate_reduceddensitymatrix(tensor, 1)"
   ]
  },
  {
   "cell_type": "code",
   "execution_count": 6,
   "metadata": {
    "collapsed": true
   },
   "outputs": [],
   "source": [
    "vals1, vecs1 = np.linalg.eig(rho1)"
   ]
  },
  {
   "cell_type": "code",
   "execution_count": 7,
   "metadata": {
    "collapsed": false
   },
   "outputs": [
    {
     "data": {
      "text/plain": [
       "array([[1.+0.j, 0.+0.j, 0.+0.j, 0.+0.j, 0.+0.j, 0.+0.j, 0.+0.j, 0.+0.j,\n",
       "        0.+0.j, 0.+0.j, 0.+0.j, 0.+0.j, 0.+0.j, 0.+0.j, 0.+0.j],\n",
       "       [0.+0.j, 1.+0.j, 0.+0.j, 0.+0.j, 0.+0.j, 0.+0.j, 0.+0.j, 0.+0.j,\n",
       "        0.+0.j, 0.+0.j, 0.+0.j, 0.+0.j, 0.+0.j, 0.+0.j, 0.+0.j],\n",
       "       [0.+0.j, 0.+0.j, 1.+0.j, 0.+0.j, 0.+0.j, 0.+0.j, 0.+0.j, 0.+0.j,\n",
       "        0.+0.j, 0.+0.j, 0.+0.j, 0.+0.j, 0.+0.j, 0.+0.j, 0.+0.j],\n",
       "       [0.+0.j, 0.+0.j, 0.+0.j, 1.+0.j, 0.+0.j, 0.+0.j, 0.+0.j, 0.+0.j,\n",
       "        0.+0.j, 0.+0.j, 0.+0.j, 0.+0.j, 0.+0.j, 0.+0.j, 0.+0.j],\n",
       "       [0.+0.j, 0.+0.j, 0.+0.j, 0.+0.j, 1.+0.j, 0.+0.j, 0.+0.j, 0.+0.j,\n",
       "        0.+0.j, 0.+0.j, 0.+0.j, 0.+0.j, 0.+0.j, 0.+0.j, 0.+0.j],\n",
       "       [0.+0.j, 0.+0.j, 0.+0.j, 0.+0.j, 0.+0.j, 1.+0.j, 0.+0.j, 0.+0.j,\n",
       "        0.+0.j, 0.+0.j, 0.+0.j, 0.+0.j, 0.+0.j, 0.+0.j, 0.+0.j],\n",
       "       [0.+0.j, 0.+0.j, 0.+0.j, 0.+0.j, 0.+0.j, 0.+0.j, 1.+0.j, 0.+0.j,\n",
       "        0.+0.j, 0.+0.j, 0.+0.j, 0.+0.j, 0.+0.j, 0.+0.j, 0.+0.j],\n",
       "       [0.+0.j, 0.+0.j, 0.+0.j, 0.+0.j, 0.+0.j, 0.+0.j, 0.+0.j, 1.+0.j,\n",
       "        0.+0.j, 0.+0.j, 0.+0.j, 0.+0.j, 0.+0.j, 0.+0.j, 0.+0.j],\n",
       "       [0.+0.j, 0.+0.j, 0.+0.j, 0.+0.j, 0.+0.j, 0.+0.j, 0.+0.j, 0.+0.j,\n",
       "        1.+0.j, 0.+0.j, 0.+0.j, 0.+0.j, 0.+0.j, 0.+0.j, 0.+0.j],\n",
       "       [0.+0.j, 0.+0.j, 0.+0.j, 0.+0.j, 0.+0.j, 0.+0.j, 0.+0.j, 0.+0.j,\n",
       "        0.+0.j, 1.+0.j, 0.+0.j, 0.+0.j, 0.+0.j, 0.+0.j, 0.+0.j],\n",
       "       [0.+0.j, 0.+0.j, 0.+0.j, 0.+0.j, 0.+0.j, 0.+0.j, 0.+0.j, 0.+0.j,\n",
       "        0.+0.j, 0.+0.j, 1.+0.j, 0.+0.j, 0.+0.j, 0.+0.j, 0.+0.j],\n",
       "       [0.+0.j, 0.+0.j, 0.+0.j, 0.+0.j, 0.+0.j, 0.+0.j, 0.+0.j, 0.+0.j,\n",
       "        0.+0.j, 0.+0.j, 0.+0.j, 1.+0.j, 0.+0.j, 0.+0.j, 0.+0.j],\n",
       "       [0.+0.j, 0.+0.j, 0.+0.j, 0.+0.j, 0.+0.j, 0.+0.j, 0.+0.j, 0.+0.j,\n",
       "        0.+0.j, 0.+0.j, 0.+0.j, 0.+0.j, 1.+0.j, 0.+0.j, 0.+0.j],\n",
       "       [0.+0.j, 0.+0.j, 0.+0.j, 0.+0.j, 0.+0.j, 0.+0.j, 0.+0.j, 0.+0.j,\n",
       "        0.+0.j, 0.+0.j, 0.+0.j, 0.+0.j, 0.+0.j, 1.+0.j, 0.+0.j],\n",
       "       [0.+0.j, 0.+0.j, 0.+0.j, 0.+0.j, 0.+0.j, 0.+0.j, 0.+0.j, 0.+0.j,\n",
       "        0.+0.j, 0.+0.j, 0.+0.j, 0.+0.j, 0.+0.j, 0.+0.j, 1.+0.j]])"
      ]
     },
     "execution_count": 7,
     "metadata": {},
     "output_type": "execute_result"
    }
   ],
   "source": [
    "vecs1"
   ]
  },
  {
   "cell_type": "code",
   "execution_count": 8,
   "metadata": {
    "collapsed": false
   },
   "outputs": [
    {
     "data": {
      "text/plain": [
       "array([0. +0.j, 0.6+0.j, 0. +0.j, 0. +0.j, 0. +0.j, 0. +0.j, 0. +0.j,\n",
       "       0. +0.j, 0. +0.j, 0. +0.j, 0. +0.j, 0. +0.j, 0.4+0.j, 0. +0.j,\n",
       "       0. +0.j])"
      ]
     },
     "execution_count": 8,
     "metadata": {},
     "output_type": "execute_result"
    }
   ],
   "source": [
    "vals1"
   ]
  },
  {
   "cell_type": "code",
   "execution_count": 9,
   "metadata": {
    "collapsed": false
   },
   "outputs": [
    {
     "data": {
      "text/plain": [
       "array([0.        +0.j, 0.        +0.j, 0.        +0.j, 0.        +0.j,\n",
       "       0.        +0.j, 0.        +0.j, 0.        +0.j, 0.        +0.j,\n",
       "       0.        +0.j, 0.        +0.j, 0.        +0.j, 0.63245553+0.j,\n",
       "       0.        +0.j, 0.        +0.j, 0.        +0.j])"
      ]
     },
     "execution_count": 9,
     "metadata": {},
     "output_type": "execute_result"
    }
   ],
   "source": [
    "np.matmul(tensor, np.transpose(np.conj(vecs1)))[:,12]"
   ]
  },
  {
   "cell_type": "code",
   "execution_count": 10,
   "metadata": {
    "collapsed": false
   },
   "outputs": [
    {
     "data": {
      "text/plain": [
       "array([0.        +0.j, 0.        +0.j, 0.        +0.j, 0.        +0.j,\n",
       "       0.        +0.j, 0.        +0.j, 0.        +0.j, 0.        +0.j,\n",
       "       0.        +0.j, 0.        +0.j, 0.        +0.j, 0.63245553+0.j,\n",
       "       0.        +0.j, 0.        +0.j, 0.        +0.j])"
      ]
     },
     "execution_count": 10,
     "metadata": {},
     "output_type": "execute_result"
    }
   ],
   "source": [
    "np.matmul(tensor, vecs1)[:,12]"
   ]
  },
  {
   "cell_type": "code",
   "execution_count": null,
   "metadata": {
    "collapsed": true
   },
   "outputs": [],
   "source": []
  }
 ],
 "metadata": {
  "anaconda-cloud": {},
  "kernelspec": {
   "display_name": "Python [anaconda]",
   "language": "python",
   "name": "Python [anaconda]"
  },
  "language_info": {
   "codemirror_mode": {
    "name": "ipython",
    "version": 2
   },
   "file_extension": ".py",
   "mimetype": "text/x-python",
   "name": "python",
   "nbconvert_exporter": "python",
   "pygments_lexer": "ipython2",
   "version": "2.7.12"
  }
 },
 "nbformat": 4,
 "nbformat_minor": 0
}
