{
 "cells": [
  {
   "cell_type": "code",
   "execution_count": 1,
   "metadata": {},
   "outputs": [],
   "source": [
    "import numpy as np"
   ]
  },
  {
   "cell_type": "code",
   "execution_count": 9,
   "metadata": {},
   "outputs": [
    {
     "data": {
      "text/plain": [
       "array([3, 4, 7, 6, 8])"
      ]
     },
     "execution_count": 9,
     "metadata": {},
     "output_type": "execute_result"
    }
   ],
   "source": [
    "nums = np.array([3, 4, 7, 6, 8], dtype=np.int)\n",
    "nums"
   ]
  },
  {
   "cell_type": "code",
   "execution_count": 113,
   "metadata": {},
   "outputs": [],
   "source": [
    "qubits = np.random.choice([-1, 1], size=len(nums))\n",
    "free_energy = -np.sum([2*nums[i]*nums[j]*qubits[i]*qubits[j] for i in range(len(nums)) for j in range(i)])\n",
    "\n",
    "beta = 0.1\n",
    "maxbeta = 10000\n",
    "maxsteps = 10000000"
   ]
  },
  {
   "cell_type": "code",
   "execution_count": 114,
   "metadata": {},
   "outputs": [],
   "source": [
    "for step in range(maxsteps):\n",
    "    idx_tochange = np.random.choice(range(len(nums)))\n",
    "    new_qubits = qubits.copy()\n",
    "    new_qubits[idx_tochange] *= (-1)\n",
    "    new_free_energy = -np.sum([2*nums[i]*nums[j]*new_qubits[i]*new_qubits[j] for i in range(len(nums)) for j in range(i)])\n",
    "    if new_free_energy < free_energy or np.exp(-beta*(new_free_energy-free_energy)) < np.random.uniform():\n",
    "        qubits = new_qubits\n",
    "        free_energy = new_free_energy\n",
    "    if step % 100 == 0:\n",
    "        beta *= 1.1\n",
    "    if beta > maxbeta:\n",
    "        break"
   ]
  },
  {
   "cell_type": "code",
   "execution_count": 115,
   "metadata": {},
   "outputs": [
    {
     "name": "stdout",
     "output_type": "stream",
     "text": [
      "[-1  1 -1 -1  1]\n",
      "12000\n",
      "10197.99757\n",
      "158\n"
     ]
    }
   ],
   "source": [
    "print(qubits)\n",
    "print(step)\n",
    "print(beta)\n",
    "print(free_energy)"
   ]
  },
  {
   "cell_type": "code",
   "execution_count": null,
   "metadata": {},
   "outputs": [],
   "source": []
  },
  {
   "cell_type": "code",
   "execution_count": null,
   "metadata": {},
   "outputs": [],
   "source": []
  }
 ],
 "metadata": {
  "kernelspec": {
   "display_name": "Python 2",
   "language": "python",
   "name": "python2"
  },
  "language_info": {
   "codemirror_mode": {
    "name": "ipython",
    "version": 2
   },
   "file_extension": ".py",
   "mimetype": "text/x-python",
   "name": "python",
   "nbconvert_exporter": "python",
   "pygments_lexer": "ipython2",
   "version": "2.7.15"
  }
 },
 "nbformat": 4,
 "nbformat_minor": 2
}
