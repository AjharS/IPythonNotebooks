{
 "cells": [
  {
   "cell_type": "code",
   "execution_count": 1,
   "metadata": {},
   "outputs": [],
   "source": [
    "import numpy as np\n",
    "from collections import defaultdict"
   ]
  },
  {
   "cell_type": "code",
   "execution_count": 2,
   "metadata": {},
   "outputs": [
    {
     "data": {
      "text/plain": [
       "array([3, 4, 7, 6, 8])"
      ]
     },
     "execution_count": 2,
     "metadata": {},
     "output_type": "execute_result"
    }
   ],
   "source": [
    "nums = np.array([3, 4, 7, 6, 8], dtype=np.int)\n",
    "nums"
   ]
  },
  {
   "cell_type": "code",
   "execution_count": 11,
   "metadata": {},
   "outputs": [
    {
     "name": "stdout",
     "output_type": "stream",
     "text": [
      "run 0\n",
      "run 1\n",
      "run 2\n",
      "run 3\n",
      "run 4\n",
      "run 5\n",
      "run 6\n",
      "run 7\n",
      "run 8\n",
      "run 9\n"
     ]
    }
   ],
   "source": [
    "results_stat = defaultdict(lambda : 0)\n",
    "\n",
    "for i in range(10):\n",
    "    print(\"run {}\".format(i))\n",
    "    qubits = np.random.choice([-1, 1], size=len(nums))\n",
    "    free_energy = np.sum([2*nums[i]*nums[j]*qubits[i]*qubits[j] for i in range(len(nums)) for j in range(i)])\n",
    "\n",
    "    beta = 0.1\n",
    "    maxbeta = 10000\n",
    "    maxsteps = 1000000\n",
    "\n",
    "    for step in range(maxsteps):\n",
    "        idx_tochange = np.random.choice(range(len(nums)))\n",
    "        new_qubits = qubits.copy()\n",
    "        new_qubits[idx_tochange] *= (-1)\n",
    "        new_free_energy = np.sum([2*nums[i]*nums[j]*new_qubits[i]*new_qubits[j] for i in range(len(nums)) for j in range(i)])\n",
    "        if new_free_energy < free_energy or np.exp(-beta*(new_free_energy-free_energy)) < np.random.uniform():\n",
    "            qubits = new_qubits\n",
    "            free_energy = new_free_energy\n",
    "        if step % 1000 == 0:\n",
    "            beta *= 1.01\n",
    "        if beta > maxbeta:\n",
    "            break\n",
    "            \n",
    "    results_stat[tuple(qubits)] += 1"
   ]
  },
  {
   "cell_type": "code",
   "execution_count": 12,
   "metadata": {},
   "outputs": [
    {
     "data": {
      "text/plain": [
       "defaultdict(<function __main__.<lambda>>,\n",
       "            {(-1, -1, -1, -1, -1): 1,\n",
       "             (-1, -1, 1, -1, 1): 1,\n",
       "             (-1, 1, -1, 1, -1): 1,\n",
       "             (1, -1, -1, -1, -1): 1,\n",
       "             (1, -1, -1, 1, -1): 2,\n",
       "             (1, -1, -1, 1, 1): 1,\n",
       "             (1, -1, 1, -1, 1): 1,\n",
       "             (1, 1, -1, 1, 1): 1,\n",
       "             (1, 1, 1, 1, -1): 1})"
      ]
     },
     "execution_count": 12,
     "metadata": {},
     "output_type": "execute_result"
    }
   ],
   "source": [
    "results_stat"
   ]
  },
  {
   "cell_type": "code",
   "execution_count": 20,
   "metadata": {},
   "outputs": [
    {
     "name": "stdout",
     "output_type": "stream",
     "text": [
      "[-1  1 -1 -1 -1]\n",
      "115700\n",
      "10096.0348332\n",
      "226\n"
     ]
    }
   ],
   "source": [
    "print(qubits)\n",
    "print(step)\n",
    "print(beta)\n",
    "print(free_energy)"
   ]
  },
  {
   "cell_type": "code",
   "execution_count": 8,
   "metadata": {},
   "outputs": [
    {
     "data": {
      "text/plain": [
       "1.6358287111890398e+43"
      ]
     },
     "execution_count": 8,
     "metadata": {},
     "output_type": "execute_result"
    }
   ],
   "source": [
    "1.01**10000"
   ]
  },
  {
   "cell_type": "code",
   "execution_count": null,
   "metadata": {},
   "outputs": [],
   "source": []
  }
 ],
 "metadata": {
  "kernelspec": {
   "display_name": "Python 2",
   "language": "python",
   "name": "python2"
  },
  "language_info": {
   "codemirror_mode": {
    "name": "ipython",
    "version": 2
   },
   "file_extension": ".py",
   "mimetype": "text/x-python",
   "name": "python",
   "nbconvert_exporter": "python",
   "pygments_lexer": "ipython2",
   "version": "2.7.15"
  }
 },
 "nbformat": 4,
 "nbformat_minor": 2
}
