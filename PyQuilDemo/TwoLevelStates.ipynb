{
 "cells": [
  {
   "cell_type": "code",
   "execution_count": 1,
   "metadata": {
    "collapsed": false
   },
   "outputs": [],
   "source": [
    "import numpy as np\n",
    "from pyquil.quil import Program\n",
    "import pyquil.api as api"
   ]
  },
  {
   "cell_type": "code",
   "execution_count": 2,
   "metadata": {
    "collapsed": true
   },
   "outputs": [],
   "source": [
    "quantum_simulator = api.QVMConnection()"
   ]
  },
  {
   "cell_type": "code",
   "execution_count": 3,
   "metadata": {
    "collapsed": false
   },
   "outputs": [
    {
     "name": "stdout",
     "output_type": "stream",
     "text": [
      "(1+0j) 0j\n"
     ]
    }
   ],
   "source": [
    "# identity gate\n",
    "from pyquil.gates import I\n",
    "\n",
    "p = Program(I(0))\n",
    "\n",
    "wavefunc = quantum_simulator.wavefunction(p)\n",
    "alpha, beta = wavefunc\n",
    "print alpha, beta"
   ]
  },
  {
   "cell_type": "code",
   "execution_count": 4,
   "metadata": {
    "collapsed": false
   },
   "outputs": [
    {
     "name": "stdout",
     "output_type": "stream",
     "text": [
      "(1+0j)|1>\n",
      "1j|1>\n",
      "(-1+0j)|1>\n"
     ]
    }
   ],
   "source": [
    "# Pauli matrices\n",
    "from pyquil.gates import X, Y, Z\n",
    "\n",
    "p1 = Program(X(0))\n",
    "wavefunc1 = quantum_simulator.wavefunction(p1)\n",
    "print wavefunc1\n",
    "\n",
    "p2 = Program(Y(0))\n",
    "wavefunc2 = quantum_simulator.wavefunction(p2)\n",
    "print wavefunc2\n",
    "\n",
    "p3 = Program(X(0), Z(0))\n",
    "wavefunc3 = quantum_simulator.wavefunction(p3)\n",
    "print wavefunc3"
   ]
  },
  {
   "cell_type": "code",
   "execution_count": 5,
   "metadata": {
    "collapsed": false
   },
   "outputs": [
    {
     "name": "stdout",
     "output_type": "stream",
     "text": [
      "(1+0j)|11>\n",
      "(1+0j)|01>\n",
      "(1+0j)|10>\n"
     ]
    }
   ],
   "source": [
    "# CNOT gate\n",
    "\n",
    "from pyquil.gates import CNOT\n",
    "\n",
    "p4 = Program(X(0), CNOT(0, 1))\n",
    "wavefunc4 = quantum_simulator.wavefunction(p4)\n",
    "print wavefunc4\n",
    "\n",
    "p5 = Program(X(0), X(1), CNOT(0, 1))\n",
    "wavefunc5 = quantum_simulator.wavefunction(p5)\n",
    "print wavefunc5\n",
    "\n",
    "p6 = Program(X(1), CNOT(0, 1))\n",
    "wavefunc6 = quantum_simulator.wavefunction(p6)\n",
    "print wavefunc6"
   ]
  },
  {
   "cell_type": "code",
   "execution_count": 6,
   "metadata": {
    "collapsed": false
   },
   "outputs": [
    {
     "name": "stdout",
     "output_type": "stream",
     "text": [
      "(1+0j)|10>\n"
     ]
    }
   ],
   "source": [
    "# SWAP gate\n",
    "from pyquil.gates import SWAP\n",
    "\n",
    "p7 = Program(X(0), SWAP(0, 1))\n",
    "wavefunc7 = quantum_simulator.wavefunction(p7)\n",
    "print wavefunc7"
   ]
  },
  {
   "cell_type": "code",
   "execution_count": 7,
   "metadata": {
    "collapsed": false
   },
   "outputs": [
    {
     "name": "stdout",
     "output_type": "stream",
     "text": [
      "(0.7071067812+0j)|0> + (0.7071067812+0j)|1>\n"
     ]
    }
   ],
   "source": [
    "# Hadamard gate\n",
    "from pyquil.gates import H\n",
    "\n",
    "p8 = Program(H(0))\n",
    "wavefunc8 = quantum_simulator.wavefunction(p8)\n",
    "print wavefunc8"
   ]
  },
  {
   "cell_type": "code",
   "execution_count": 12,
   "metadata": {
    "collapsed": false
   },
   "outputs": [
    {
     "name": "stdout",
     "output_type": "stream",
     "text": [
      "(0.7071067812+0j)|00> + (-0.7071067812+0j)|11>\n"
     ]
    }
   ],
   "source": [
    "# Generating an entangled state\n",
    "p9 = Program(H(0), Z(0), CNOT(0, 1))\n",
    "wavefunc9 = quantum_simulator.wavefunction(p9)\n",
    "print wavefunc9"
   ]
  },
  {
   "cell_type": "code",
   "execution_count": 13,
   "metadata": {
    "collapsed": false
   },
   "outputs": [
    {
     "data": {
      "text/plain": [
       "[[0], [0], [0], [0], [0], [0], [0], [0], [0], [0]]"
      ]
     },
     "execution_count": 13,
     "metadata": {},
     "output_type": "execute_result"
    }
   ],
   "source": [
    "quantum_simulator.run(p9, [1], trials=10)"
   ]
  },
  {
   "cell_type": "code",
   "execution_count": 14,
   "metadata": {
    "collapsed": false
   },
   "outputs": [
    {
     "data": {
      "text/plain": [
       "[[0], [0], [0], [0], [0]]"
      ]
     },
     "execution_count": 14,
     "metadata": {},
     "output_type": "execute_result"
    }
   ],
   "source": [
    "quantum_simulator.run(p9, [0], trials=5)"
   ]
  },
  {
   "cell_type": "code",
   "execution_count": 17,
   "metadata": {
    "collapsed": false
   },
   "outputs": [
    {
     "data": {
      "text/plain": [
       "[[0, 0],\n",
       " [0, 0],\n",
       " [0, 0],\n",
       " [0, 0],\n",
       " [0, 0],\n",
       " [0, 0],\n",
       " [0, 0],\n",
       " [0, 0],\n",
       " [0, 0],\n",
       " [0, 0],\n",
       " [0, 0],\n",
       " [0, 0],\n",
       " [0, 0],\n",
       " [0, 0],\n",
       " [0, 0],\n",
       " [0, 0],\n",
       " [0, 0],\n",
       " [0, 0],\n",
       " [0, 0],\n",
       " [0, 0]]"
      ]
     },
     "execution_count": 17,
     "metadata": {},
     "output_type": "execute_result"
    }
   ],
   "source": [
    "quantum_simulator.run(p9, [0, 1], trials=20)"
   ]
  },
  {
   "cell_type": "code",
   "execution_count": 18,
   "metadata": {
    "collapsed": false
   },
   "outputs": [
    {
     "data": {
      "text/plain": [
       "{'00': 0.4999999999999999, '01': 0.0, '10': 0.0, '11': 0.4999999999999999}"
      ]
     },
     "execution_count": 18,
     "metadata": {},
     "output_type": "execute_result"
    }
   ],
   "source": [
    "wavefunc9.get_outcome_probs()"
   ]
  },
  {
   "cell_type": "code",
   "execution_count": null,
   "metadata": {
    "collapsed": true
   },
   "outputs": [],
   "source": []
  }
 ],
 "metadata": {
  "anaconda-cloud": {},
  "kernelspec": {
   "display_name": "Python [Root]",
   "language": "python",
   "name": "Python [Root]"
  },
  "language_info": {
   "codemirror_mode": {
    "name": "ipython",
    "version": 2
   },
   "file_extension": ".py",
   "mimetype": "text/x-python",
   "name": "python",
   "nbconvert_exporter": "python",
   "pygments_lexer": "ipython2",
   "version": "2.7.12"
  }
 },
 "nbformat": 4,
 "nbformat_minor": 0
}
