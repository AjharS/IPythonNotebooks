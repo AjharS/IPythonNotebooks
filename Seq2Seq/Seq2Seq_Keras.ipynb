{
 "cells": [
  {
   "cell_type": "code",
   "execution_count": 1,
   "metadata": {
    "collapsed": false
   },
   "outputs": [
    {
     "name": "stderr",
     "output_type": "stream",
     "text": [
      "Using TensorFlow backend.\n"
     ]
    }
   ],
   "source": [
    "import numpy as np\n",
    "import keras"
   ]
  },
  {
   "cell_type": "code",
   "execution_count": 2,
   "metadata": {
    "collapsed": true
   },
   "outputs": [],
   "source": [
    "import urllib2\n",
    "import matplotlib.pyplot as plt\n",
    "\n",
    "%matplotlib inline"
   ]
  },
  {
   "cell_type": "code",
   "execution_count": 3,
   "metadata": {
    "collapsed": true
   },
   "outputs": [],
   "source": [
    "# link1: https://www.tensorflow.org/tutorials/seq2seq\n",
    "# link2: https://blog.keras.io/a-ten-minute-introduction-to-sequence-to-sequence-learning-in-keras.html\n",
    "# link3: https://github.com/keras-team/keras/blob/master/examples/lstm_seq2seq.py"
   ]
  },
  {
   "cell_type": "code",
   "execution_count": 4,
   "metadata": {
    "collapsed": false
   },
   "outputs": [],
   "source": [
    "from s2sutils import *"
   ]
  },
  {
   "cell_type": "code",
   "execution_count": 5,
   "metadata": {
    "collapsed": false
   },
   "outputs": [],
   "source": [
    "textfile = urllib2.urlopen('http://norvig.com/big.txt', 'r')\n",
    "text = filter(lambda t: len(t)>0, [t.strip() for t in textfile])"
   ]
  },
  {
   "cell_type": "code",
   "execution_count": 6,
   "metadata": {
    "collapsed": true
   },
   "outputs": [],
   "source": [
    "chartovec_encoder = initSentenceToCharVecEncoder(text)"
   ]
  },
  {
   "cell_type": "code",
   "execution_count": 7,
   "metadata": {
    "collapsed": false
   },
   "outputs": [
    {
     "name": "stdout",
     "output_type": "stream",
     "text": [
      "93\n",
      "113\n"
     ]
    }
   ],
   "source": [
    "numchars = len(chartovec_encoder.dictionary)\n",
    "latent_dim = numchars + 20\n",
    "\n",
    "print numchars\n",
    "print latent_dim"
   ]
  },
  {
   "cell_type": "code",
   "execution_count": 8,
   "metadata": {
    "collapsed": false
   },
   "outputs": [],
   "source": [
    "from keras.models import Model\n",
    "from keras.layers import Input, LSTM, Dense\n",
    "\n",
    "# Define an input sequence and process it.\n",
    "encoder_inputs = Input(shape=(None, numchars))\n",
    "encoder = LSTM(latent_dim, return_state=True)\n",
    "encoder_outputs, state_h, state_c = encoder(encoder_inputs)\n",
    "# We discard `encoder_outputs` and only keep the states.\n",
    "encoder_states = [state_h, state_c]\n",
    "\n",
    "# Set up the decoder, using `encoder_states` as initial state.\n",
    "decoder_inputs = Input(shape=(None, numchars))\n",
    "# We set up our decoder to return full output sequences,\n",
    "# and to return internal states as well. We don't use the \n",
    "# return states in the training model, but we will use them in inference.\n",
    "decoder_lstm = LSTM(latent_dim, return_sequences=True, return_state=True)\n",
    "decoder_outputs, _, _ = decoder_lstm(decoder_inputs,\n",
    "                                     initial_state=encoder_states)\n",
    "decoder_dense = Dense(numchars, activation='softmax')\n",
    "decoder_outputs = decoder_dense(decoder_outputs)\n",
    "\n",
    "# Define the model that will turn\n",
    "# `encoder_input_data` & `decoder_input_data` into `decoder_target_data`\n",
    "model = Model([encoder_inputs, decoder_inputs], decoder_outputs)"
   ]
  },
  {
   "cell_type": "code",
   "execution_count": 9,
   "metadata": {
    "collapsed": true
   },
   "outputs": [],
   "source": [
    "# preparing training data"
   ]
  },
  {
   "cell_type": "code",
   "execution_count": 10,
   "metadata": {
    "collapsed": false
   },
   "outputs": [],
   "source": [
    "encoder_input = chartovec_encoder.encode_sentences(text[:-1], startsig=True, maxlen=20, sparse=False)\n",
    "decoder_input = chartovec_encoder.encode_sentences(text[1:], startsig=True, maxlen=20, sparse=False)\n",
    "decoder_output = chartovec_encoder.encode_sentences(text[1:], endsig=True, maxlen=20, sparse=False)"
   ]
  },
  {
   "cell_type": "code",
   "execution_count": 11,
   "metadata": {
    "collapsed": false
   },
   "outputs": [
    {
     "data": {
      "text/plain": [
       "{u'\\t': 68,\n",
       " u'\\n': 0,\n",
       " u' ': 1,\n",
       " u'!': 53,\n",
       " u'\"': 41,\n",
       " u'#': 33,\n",
       " u'$': 78,\n",
       " u'%': 84,\n",
       " u'&': 77,\n",
       " u\"'\": 70,\n",
       " u'(': 34,\n",
       " u')': 35,\n",
       " u'*': 45,\n",
       " u'+': 83,\n",
       " u',': 42,\n",
       " u'-': 69,\n",
       " u'.': 38,\n",
       " u'/': 82,\n",
       " u'0': 59,\n",
       " u'1': 36,\n",
       " u'2': 60,\n",
       " u'3': 80,\n",
       " u'4': 79,\n",
       " u'5': 37,\n",
       " u'6': 55,\n",
       " u'7': 50,\n",
       " u'8': 73,\n",
       " u'9': 51,\n",
       " u':': 54,\n",
       " u';': 74,\n",
       " u'<': 85,\n",
       " u'=': 90,\n",
       " u'>': 86,\n",
       " u'?': 75,\n",
       " u'@': 87,\n",
       " u'A': 2,\n",
       " u'B': 3,\n",
       " u'C': 28,\n",
       " u'D': 29,\n",
       " u'E': 4,\n",
       " u'F': 46,\n",
       " u'G': 5,\n",
       " u'H': 6,\n",
       " u'I': 43,\n",
       " u'J': 63,\n",
       " u'K': 64,\n",
       " u'L': 62,\n",
       " u'M': 56,\n",
       " u'N': 61,\n",
       " u'O': 65,\n",
       " u'P': 7,\n",
       " u'Q': 76,\n",
       " u'R': 52,\n",
       " u'S': 8,\n",
       " u'T': 9,\n",
       " u'U': 66,\n",
       " u'V': 47,\n",
       " u'W': 48,\n",
       " u'X': 71,\n",
       " u'Y': 44,\n",
       " u'Z': 81,\n",
       " u'[': 57,\n",
       " u']': 58,\n",
       " u'^': 91,\n",
       " u'_': 88,\n",
       " u'a': 30,\n",
       " u'b': 10,\n",
       " u'c': 11,\n",
       " u'd': 12,\n",
       " u'e': 13,\n",
       " u'f': 14,\n",
       " u'g': 15,\n",
       " u'h': 16,\n",
       " u'i': 31,\n",
       " u'j': 17,\n",
       " u'k': 18,\n",
       " u'l': 19,\n",
       " u'm': 20,\n",
       " u'n': 21,\n",
       " u'o': 22,\n",
       " u'p': 39,\n",
       " u'q': 72,\n",
       " u'r': 23,\n",
       " u's': 24,\n",
       " u't': 25,\n",
       " u'u': 26,\n",
       " u'v': 27,\n",
       " u'w': 40,\n",
       " u'x': 49,\n",
       " u'y': 32,\n",
       " u'z': 67,\n",
       " u'|': 92,\n",
       " u'~': 89}"
      ]
     },
     "execution_count": 11,
     "metadata": {},
     "output_type": "execute_result"
    }
   ],
   "source": [
    "chartovec_encoder.dictionary.token2id"
   ]
  },
  {
   "cell_type": "code",
   "execution_count": 18,
   "metadata": {
    "collapsed": false
   },
   "outputs": [
    {
     "data": {
      "text/plain": [
       "(array([    0.,     5.,    56.,   332.,  1044.,  1180.,  1242.,  1187.,\n",
       "         1057.,   988.,   935.,   761.,   607.,   497.,   464.,   428.,\n",
       "          422.,   509.,   420.,   431.,   419.,   392.,   395.,   397.,\n",
       "          393.,   391.,   387.,   365.,   351.,   333.,   335.,   304.,\n",
       "          300.,   317.,   345.,   343.,   304.,   345.,   282.,   316.,\n",
       "          324.,   272.,   278.,   304.,   263.,   250.,   313.,   269.,\n",
       "          548.]),\n",
       " array([ 0,  1,  2,  3,  4,  5,  6,  7,  8,  9, 10, 11, 12, 13, 14, 15, 16,\n",
       "        17, 18, 19, 20, 21, 22, 23, 24, 25, 26, 27, 28, 29, 30, 31, 32, 33,\n",
       "        34, 35, 36, 37, 38, 39, 40, 41, 42, 43, 44, 45, 46, 47, 48, 49]),\n",
       " <a list of 49 Patch objects>)"
      ]
     },
     "execution_count": 18,
     "metadata": {},
     "output_type": "execute_result"
    },
    {
     "data": {
      "image/png": "[encoded data removed]",
      "text/plain": [
       "<matplotlib.figure.Figure at 0x128c18790>"
      ]
     },
     "metadata": {},
     "output_type": "display_data"
    }
   ],
   "source": [
    "plt.hist(map(lambda t: chartovec_encoder.calculate_prelim_vec(t).shape[0], text), bins=np.arange(50))"
   ]
  },
  {
   "cell_type": "code",
   "execution_count": 11,
   "metadata": {
    "collapsed": false
   },
   "outputs": [
    {
     "data": {
      "text/plain": [
       "array([[ 1.,  0.,  0., ...,  0.,  0.,  0.],\n",
       "       [ 0.,  0.,  0., ...,  0.,  0.,  0.],\n",
       "       [ 0.,  0.,  0., ...,  0.,  0.,  0.],\n",
       "       ..., \n",
       "       [ 0.,  0.,  0., ...,  0.,  0.,  0.],\n",
       "       [ 0.,  0.,  0., ...,  0.,  0.,  0.],\n",
       "       [ 0.,  0.,  0., ...,  0.,  0.,  0.]])"
      ]
     },
     "execution_count": 11,
     "metadata": {},
     "output_type": "execute_result"
    }
   ],
   "source": [
    "chartovec_encoder.encode_sentence('Internally', startsig=True, maxlen=20).toarray()"
   ]
  },
  {
   "cell_type": "code",
   "execution_count": 14,
   "metadata": {
    "collapsed": false
   },
   "outputs": [
    {
     "data": {
      "text/plain": [
       "array([[[ 0.,  0.,  0., ...,  0.,  0.,  0.],\n",
       "        [ 0.,  0.,  0., ...,  0.,  0.,  0.],\n",
       "        [ 0.,  0.,  0., ...,  0.,  0.,  0.],\n",
       "        ..., \n",
       "        [ 0.,  0.,  0., ...,  0.,  0.,  0.],\n",
       "        [ 0.,  0.,  0., ...,  0.,  0.,  0.],\n",
       "        [ 0.,  0.,  0., ...,  0.,  0.,  0.]],\n",
       "\n",
       "       [[ 0.,  0.,  0., ...,  0.,  0.,  0.],\n",
       "        [ 0.,  0.,  0., ...,  0.,  0.,  0.],\n",
       "        [ 0.,  0.,  0., ...,  0.,  0.,  0.],\n",
       "        ..., \n",
       "        [ 0.,  0.,  0., ...,  0.,  0.,  0.],\n",
       "        [ 0.,  0.,  0., ...,  0.,  0.,  0.],\n",
       "        [ 0.,  0.,  0., ...,  0.,  0.,  0.]]])"
      ]
     },
     "execution_count": 14,
     "metadata": {},
     "output_type": "execute_result"
    }
   ],
   "source": [
    "chartovec_encoder.encode_sentences(text[21:23], sparse=False)"
   ]
  },
  {
   "cell_type": "code",
   "execution_count": 15,
   "metadata": {
    "collapsed": true
   },
   "outputs": [],
   "source": [
    "model.compile(optimizer='rmsprop', loss='categorical_crossentropy')"
   ]
  },
  {
   "cell_type": "code",
   "execution_count": 16,
   "metadata": {
    "collapsed": false
   },
   "outputs": [
    {
     "name": "stdout",
     "output_type": "stream",
     "text": [
      "Epoch 1/10\n",
      "103500/103500 [==============================] - 107s 1ms/step - loss: 2.3265\n",
      "Epoch 2/10\n",
      "103500/103500 [==============================] - 107s 1ms/step - loss: 1.9201\n",
      "Epoch 3/10\n",
      "103500/103500 [==============================] - 102s 982us/step - loss: 1.7851\n",
      "Epoch 4/10\n",
      "103500/103500 [==============================] - 105s 1ms/step - loss: 1.7073\n",
      "Epoch 5/10\n",
      "103500/103500 [==============================] - 99s 960us/step - loss: 1.6518\n",
      "Epoch 6/10\n",
      "103500/103500 [==============================] - 99s 958us/step - loss: 1.6099\n",
      "Epoch 7/10\n",
      "103500/103500 [==============================] - 99s 960us/step - loss: 1.5769\n",
      "Epoch 8/10\n",
      "103500/103500 [==============================] - 106s 1ms/step - loss: 1.5505\n",
      "Epoch 9/10\n",
      "103500/103500 [==============================] - 103s 998us/step - loss: 1.5279\n",
      "Epoch 10/10\n",
      "103500/103500 [==============================] - 99s 960us/step - loss: 1.5091\n"
     ]
    },
    {
     "data": {
      "text/plain": [
       "<keras.callbacks.History at 0x128c18710>"
      ]
     },
     "execution_count": 16,
     "metadata": {},
     "output_type": "execute_result"
    }
   ],
   "source": [
    "model.fit([encoder_input, decoder_input], decoder_output,\n",
    "          batch_size=64,\n",
    "          epochs=10)"
   ]
  },
  {
   "cell_type": "code",
   "execution_count": 20,
   "metadata": {
    "collapsed": false
   },
   "outputs": [],
   "source": [
    "# persist the model\n",
    "chartovec_encoder.dictionary.save('chartovec.dict')\n",
    "model.save_weights('s2s.h5')\n",
    "open('s2s.json', 'wb').write(model.to_json())"
   ]
  },
  {
   "cell_type": "code",
   "execution_count": 19,
   "metadata": {
    "collapsed": true
   },
   "outputs": [],
   "source": [
    "# Define sampling models\n",
    "encoder_model = Model(encoder_inputs, encoder_states)\n",
    "\n",
    "decoder_state_input_h = Input(shape=(latent_dim,))\n",
    "decoder_state_input_c = Input(shape=(latent_dim,))\n",
    "decoder_states_inputs = [decoder_state_input_h, decoder_state_input_c]\n",
    "decoder_outputs, state_h, state_c = decoder_lstm(\n",
    "    decoder_inputs, initial_state=decoder_states_inputs)\n",
    "decoder_states = [state_h, state_c]\n",
    "decoder_outputs = decoder_dense(decoder_outputs)\n",
    "decoder_model = Model(\n",
    "    [decoder_inputs] + decoder_states_inputs,\n",
    "    [decoder_outputs] + decoder_states)"
   ]
  },
  {
   "cell_type": "code",
   "execution_count": 21,
   "metadata": {
    "collapsed": false
   },
   "outputs": [
    {
     "name": "stderr",
     "output_type": "stream",
     "text": [
      "//anaconda/lib/python2.7/site-packages/keras/engine/topology.py:2344: UserWarning: Layer lstm_2 was passed non-serializable keyword arguments: {'initial_state': [<tf.Tensor 'input_3:0' shape=(?, 113) dtype=float32>, <tf.Tensor 'input_4:0' shape=(?, 113) dtype=float32>]}. They will not be included in the serialized model (and thus will be missing at deserialization time).\n",
      "  str(node.arguments) + '. They will not be included '\n"
     ]
    }
   ],
   "source": [
    "# persist the encoder and decoder models\n",
    "encoder_model.save_weights('s2s_encoder.h5')\n",
    "open('s2s_encoder.json', 'wb').write(encoder_model.to_json())\n",
    "decoder_model.save_weights('s2s_decoder.h5')\n",
    "open('s2s_decoder.json', 'wb').write(decoder_model.to_json())"
   ]
  },
  {
   "cell_type": "code",
   "execution_count": null,
   "metadata": {
    "collapsed": true
   },
   "outputs": [],
   "source": []
  }
 ],
 "metadata": {
  "anaconda-cloud": {},
  "kernelspec": {
   "display_name": "Python [Root]",
   "language": "python",
   "name": "Python [Root]"
  },
  "language_info": {
   "codemirror_mode": {
    "name": "ipython",
    "version": 2
   },
   "file_extension": ".py",
   "mimetype": "text/x-python",
   "name": "python",
   "nbconvert_exporter": "python",
   "pygments_lexer": "ipython2",
   "version": "2.7.12"
  }
 },
 "nbformat": 4,
 "nbformat_minor": 2
}
