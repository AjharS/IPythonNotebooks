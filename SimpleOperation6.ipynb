{
 "cells": [
  {
   "cell_type": "code",
   "execution_count": 1,
   "metadata": {
    "collapsed": true
   },
   "outputs": [],
   "source": [
    "import numpy as np\n",
    "import tensorflow as tf"
   ]
  },
  {
   "cell_type": "code",
   "execution_count": 4,
   "metadata": {
    "collapsed": true
   },
   "outputs": [],
   "source": [
    "Y = tf.Variable(np.random.rand(5,2), dtype='float')\n",
    "sqY = tf.reduce_sum(Y*Y, 1)\n",
    "sqY = tf.reshape(sqY, [-1, 1])\n",
    "sqDY = sqY - 2*tf.matmul(Y, tf.transpose(Y)) + tf.transpose(sqY)\n",
    "DY = tf.sqrt(sqDY)"
   ]
  },
  {
   "cell_type": "code",
   "execution_count": 5,
   "metadata": {
    "collapsed": true
   },
   "outputs": [],
   "source": [
    "init = tf.global_variables_initializer()\n",
    "sess = tf.Session()\n",
    "sess.run(init)"
   ]
  },
  {
   "cell_type": "code",
   "execution_count": 6,
   "metadata": {
    "collapsed": false
   },
   "outputs": [
    {
     "data": {
      "text/plain": [
       "array([[ 0.26746532,  0.93136823],\n",
       "       [ 0.27694124,  0.94629222],\n",
       "       [ 0.65196913,  0.5830484 ],\n",
       "       [ 0.00100045,  0.70491129],\n",
       "       [ 0.74012524,  0.56017256]], dtype=float32)"
      ]
     },
     "execution_count": 6,
     "metadata": {},
     "output_type": "execute_result"
    }
   ],
   "source": [
    "sess.run(Y)"
   ]
  },
  {
   "cell_type": "code",
   "execution_count": 7,
   "metadata": {
    "collapsed": false
   },
   "outputs": [
    {
     "data": {
      "text/plain": [
       "array([[  0.00000000e+00,   3.12447548e-04,   2.69169867e-01,\n",
       "          1.22286290e-01,   3.61193657e-01],\n",
       "       [  3.12447548e-04,   0.00000000e+00,   2.72592008e-01,\n",
       "          1.34408087e-01,   3.63627791e-01],\n",
       "       [  2.69169867e-01,   2.72592008e-01,   0.00000000e+00,\n",
       "          4.38610822e-01,   8.29476118e-03],\n",
       "       [  1.22286260e-01,   1.34408057e-01,   4.38610822e-01,\n",
       "          0.00000000e+00,   5.67254782e-01],\n",
       "       [  3.61193657e-01,   3.63627791e-01,   8.29476118e-03,\n",
       "          5.67254782e-01,   0.00000000e+00]], dtype=float32)"
      ]
     },
     "execution_count": 7,
     "metadata": {},
     "output_type": "execute_result"
    }
   ],
   "source": [
    "sess.run(sqDY)"
   ]
  },
  {
   "cell_type": "code",
   "execution_count": 18,
   "metadata": {
    "collapsed": false
   },
   "outputs": [
    {
     "data": {
      "text/plain": [
       "array([[ 0.        ,  0.01767619,  0.51881582,  0.34969458,  0.60099387],\n",
       "       [ 0.01767619,  0.        ,  0.52210349,  0.36661708,  0.6030156 ],\n",
       "       [ 0.51881582,  0.52210349,  0.        ,  0.66227704,  0.09107558],\n",
       "       [ 0.34969452,  0.36661702,  0.66227704,  0.        ,  0.75316316],\n",
       "       [ 0.60099387,  0.6030156 ,  0.09107558,  0.75316316,  0.        ]], dtype=float32)"
      ]
     },
     "execution_count": 18,
     "metadata": {},
     "output_type": "execute_result"
    }
   ],
   "source": [
    "sess.run(DY)"
   ]
  },
  {
   "cell_type": "code",
   "execution_count": 16,
   "metadata": {
    "collapsed": false
   },
   "outputs": [
    {
     "data": {
      "text/plain": [
       "[array([[-2.40069842,  3.72419357],\n",
       "        [-2.21118021,  4.02267265],\n",
       "        [ 5.28937769, -3.24220324],\n",
       "        [-7.7299962 , -0.80494595],\n",
       "        [ 7.05249977, -3.69971943]], dtype=float32)]"
      ]
     },
     "execution_count": 16,
     "metadata": {},
     "output_type": "execute_result"
    }
   ],
   "source": [
    "sess.run(tf.gradients(tf.reshape(sqDY, [-1]), Y))"
   ]
  },
  {
   "cell_type": "code",
   "execution_count": 23,
   "metadata": {
    "collapsed": false
   },
   "outputs": [
    {
     "data": {
      "text/plain": [
       "[array([[-2.60334396,  2.1845932 ],\n",
       "        [-0.39532471,  5.67749786],\n",
       "        [ 2.94880104, -2.5998745 ],\n",
       "        [-6.95789433, -1.85961008],\n",
       "        [ 7.00776291, -3.40259933]], dtype=float32)]"
      ]
     },
     "execution_count": 23,
     "metadata": {},
     "output_type": "execute_result"
    }
   ],
   "source": [
    "sess.run(tf.gradients(tf.reshape(tf.reduce_sum(tf.sqrt(sqDY+tf.diag(tf.ones(5)))), [-1]), Y))"
   ]
  },
  {
   "cell_type": "code",
   "execution_count": 12,
   "metadata": {
    "collapsed": false
   },
   "outputs": [
    {
     "data": {
      "text/plain": [
       "array([  0.00000000e+00,   3.12447548e-04,   2.69169867e-01,\n",
       "         1.22286290e-01,   3.61193657e-01,   3.12447548e-04,\n",
       "         0.00000000e+00,   2.72592008e-01,   1.34408087e-01,\n",
       "         3.63627791e-01,   2.69169867e-01,   2.72592008e-01,\n",
       "         0.00000000e+00,   4.38610822e-01,   8.29476118e-03,\n",
       "         1.22286260e-01,   1.34408057e-01,   4.38610822e-01,\n",
       "         0.00000000e+00,   5.67254782e-01,   3.61193657e-01,\n",
       "         3.63627791e-01,   8.29476118e-03,   5.67254782e-01,\n",
       "         0.00000000e+00], dtype=float32)"
      ]
     },
     "execution_count": 12,
     "metadata": {},
     "output_type": "execute_result"
    }
   ],
   "source": [
    "sess.run(tf.reshape(sqDY, [-1]))"
   ]
  },
  {
   "cell_type": "code",
   "execution_count": 34,
   "metadata": {
    "collapsed": false
   },
   "outputs": [
    {
     "data": {
      "text/plain": [
       "[array([[-1.20034945,  1.86209679],\n",
       "        [-1.10559034,  2.0113368 ],\n",
       "        [ 2.64468861, -1.62110138],\n",
       "        [-3.86499786, -0.4024725 ],\n",
       "        [ 3.52624989, -1.84985971]], dtype=float32)]"
      ]
     },
     "execution_count": 34,
     "metadata": {},
     "output_type": "execute_result"
    }
   ],
   "source": [
    "sess.run(tf.gradients(tf.reduce_sum([sqDY[i, j] for i in range(5) for j in range(i+1, 5)]), Y))"
   ]
  },
  {
   "cell_type": "code",
   "execution_count": 35,
   "metadata": {
    "collapsed": false
   },
   "outputs": [
    {
     "data": {
      "text/plain": [
       "[array([[-1.30167198,  1.0922966 ],\n",
       "        [-0.19766235,  2.83874893],\n",
       "        [ 1.47440052, -1.2999382 ],\n",
       "        [-3.47894692, -0.92980528],\n",
       "        [ 3.50388145, -1.70129967]], dtype=float32)]"
      ]
     },
     "execution_count": 35,
     "metadata": {},
     "output_type": "execute_result"
    }
   ],
   "source": [
    "sess.run(tf.gradients(tf.reduce_sum([tf.sqrt(sqDY[i, j]) for i in range(5) for j in range(i+1, 5)]), Y))"
   ]
  },
  {
   "cell_type": "code",
   "execution_count": 36,
   "metadata": {
    "collapsed": false
   },
   "outputs": [
    {
     "data": {
      "text/plain": [
       "[array([[ nan,  nan],\n",
       "        [ nan,  nan],\n",
       "        [ nan,  nan],\n",
       "        [ nan,  nan],\n",
       "        [ nan,  nan]], dtype=float32)]"
      ]
     },
     "execution_count": 36,
     "metadata": {},
     "output_type": "execute_result"
    }
   ],
   "source": [
    "sess.run(tf.gradients(tf.reduce_sum([DY[i, j] for i in range(5) for j in range(i+1, 5)]), Y))"
   ]
  },
  {
   "cell_type": "code",
   "execution_count": 33,
   "metadata": {
    "collapsed": false
   },
   "outputs": [
    {
     "data": {
      "text/plain": [
       "[0.017676186,\n",
       " 0.51881582,\n",
       " 0.34969458,\n",
       " 0.60099387,\n",
       " 0.52210349,\n",
       " 0.36661708,\n",
       " 0.6030156,\n",
       " 0.66227704,\n",
       " 0.091075584,\n",
       " 0.75316316]"
      ]
     },
     "execution_count": 33,
     "metadata": {},
     "output_type": "execute_result"
    }
   ],
   "source": [
    "sess.run([DY[i, j] for i in range(5) for j in range(i+1, 5)])"
   ]
  },
  {
   "cell_type": "code",
   "execution_count": null,
   "metadata": {
    "collapsed": true
   },
   "outputs": [],
   "source": []
  }
 ],
 "metadata": {
  "kernelspec": {
   "display_name": "Python [Root]",
   "language": "python",
   "name": "Python [Root]"
  },
  "language_info": {
   "codemirror_mode": {
    "name": "ipython",
    "version": 2
   },
   "file_extension": ".py",
   "mimetype": "text/x-python",
   "name": "python",
   "nbconvert_exporter": "python",
   "pygments_lexer": "ipython2",
   "version": "2.7.12"
  }
 },
 "nbformat": 4,
 "nbformat_minor": 0
}
